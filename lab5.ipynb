{
 "cells": [
  {
   "cell_type": "markdown",
   "metadata": {
    "slideshow": {
     "slide_type": "slide"
    }
   },
   "source": [
    "# Python w analizie ekonomicznej - poziom zaawansowany, warsztaty\n",
    "## Temat: Flask - ćwiczenia.\n",
    "\n",
    "(odpowiedzi do zadań w czasie prezentacji proszę udzielać na czacie)\n",
    "\n",
    "Jakub Tomczak *jakub.tomczak@cdv.pl*"
   ]
  },
  {
   "cell_type": "markdown",
   "metadata": {
    "slideshow": {
     "slide_type": "slide"
    }
   },
   "source": [
    "Agenda:\n",
    "\n",
    "    * ćwiczenia z mikroframework'a Flask"
   ]
  },
  {
   "cell_type": "markdown",
   "metadata": {
    "slideshow": {
     "slide_type": "subslide"
    }
   },
   "source": [
    "W ramach dzisiejszych zajęć połączymy wiedzę z baz danych - wykonamy zajęcia z wykorzystaniem SQLAlchemy we Flasku, z wiedzą dotycząca Flaska. Zaczniemy od pracy na gotowej aplikacji webowej, która pozwala wykonywać 4 podstawowe operacje na relacyjnej bazie danych sqlite za pomocą Flaska - tworzenie, wyświetlanie, edycję oraz usuwanie danych. Aplikacja pozwala na operacje na użytkowniku - klasie, którą zdefiniowaliśmy podczas ostatnich zajęć. Dzisiaj dodamy relację między klasą użytkownika, a klasą państwa, która będzie definiowała obywatelstwo użytkownika.\n",
    "\n",
    "Wszystkie zadania zaczynają się od komentarza <b>TODO</b>."
   ]
  },
  {
   "cell_type": "markdown",
   "metadata": {
    "slideshow": {
     "slide_type": "subslide"
    }
   },
   "source": [
    "Zadanie 1\n",
    "\n",
    "Dodaj poprawny connection string w pliku <b>app.py</b>, który będzie wskazywał lokalizację pliku z bazą danych sqlite - nie musi on póki co istnieć. Connection string powinien być przypisany do słownika `app.config['SQLALCHEMY_DATABASE_URI']`. Przykładowy connection string:\n",
    "```python\n",
    "app.config['SQLALCHEMY_DATABASE_URI'] = r\"sqlite:///C:\\lab5_flask.db\"\n",
    "```"
   ]
  },
  {
   "cell_type": "markdown",
   "metadata": {
    "slideshow": {
     "slide_type": "subslide"
    }
   },
   "source": [
    "Zadanie 2\n",
    "\n",
    "W pliku `app.py` pod kodem klasy `User` dodaj klasę `Country`, która będzie definiowała kraj, będzie ona reprezentowała tabelę `countries` w bazie danych. Klasa powinna zawierać pola:\n",
    "    * `id` reprezentujące id kraju\n",
    "    * `name` reprezetujące nazwę kraju\n",
    "\n",
    "```python\n",
    "id = db.Column(db.Integer, primary_key=True)\n",
    "name = db.Column(db.String(40), unique=True, nullable=False)\n",
    "```\n",
    "\n",
    "Poza tym, do klasy `Country` dodaj metodę `__repr__`, która będzie zwracała ciąg znaków opisujący klasę `Country`. W zwracanym ciągu znaków powinno znajdować się `id` klasy `Country` oraz jego nazwa `name`.\n"
   ]
  },
  {
   "cell_type": "markdown",
   "metadata": {
    "slideshow": {
     "slide_type": "subslide"
    }
   },
   "source": [
    "Zadanie 3\n",
    "\n",
    "Uruchom aplikację, wchodząc w linię poleceń ze środowiskiem Anaconda - `Anaconda prompt`\n",
    "<img src='imgs/anaconda_prompt.png' width=\"500\" />"
   ]
  },
  {
   "cell_type": "markdown",
   "metadata": {
    "slideshow": {
     "slide_type": "subslide"
    }
   },
   "source": [
    "Po przejściu do folderu z plikiem `app.py` w konsoli (za pomocą komendy `cd /d folder_z_plikiem_app.py`)\n",
    ", uruchamiamy plik poprzez konsolę, wpisując\n",
    "\n",
    "```bash\n",
    "python app.py\n",
    "```\n",
    "\n",
    "<img src=\"./imgs/run_app.png\" alt=\"run app\" width=\"700\"></img>"
   ]
  },
  {
   "cell_type": "markdown",
   "metadata": {
    "slideshow": {
     "slide_type": "subslide"
    }
   },
   "source": [
    "Jeżeli aplikacja wystartuje poprawnie, to po wejściu na stronę http://127.0.0.1:1234/list_users powinniśmy otrzymać ekran podobny do tego z poprzednich zajęć. W aplikacji możemy dodawać, usuwać, wyświetlać i aktualizować użytkowników.\n",
    "<img src=\"imgs/index_before_changes.png\" width=\"500\"/>"
   ]
  },
  {
   "attachments": {},
   "cell_type": "markdown",
   "metadata": {
    "slideshow": {
     "slide_type": "subslide"
    }
   },
   "source": [
    "Nie widzimy żadnych zmian związanych z dodaniem nowej tabeli. Jednkaże, po wejściu do programu [DB Browser for SQLite](https://sqlitebrowser.org/) i otwarciu naszego pliku z bazą danych powinniśmy zauważyć obie tabele\n",
    "    <img src=\"imgs/db_browser.png\" witdh=\"500\" />"
   ]
  },
  {
   "cell_type": "markdown",
   "metadata": {
    "slideshow": {
     "slide_type": "subslide"
    }
   },
   "source": [
    "Teraz musimy połączyć tabele `users` z tabelą `countries` za pomocą relacji jeden-do-wielu (`One-To-Many`). W ramach poprzednich laboratoriów wykonywaliśmy już takie połączenie. \n",
    "<img src=\"imgs/relation.png\" width=500 />"
   ]
  },
  {
   "cell_type": "markdown",
   "metadata": {
    "slideshow": {
     "slide_type": "subslide"
    }
   },
   "source": [
    "Zadanie 4\n",
    "\n",
    "W pliku `app.py` dodaj relację między tabelą `users`, a tabelą `countries`. Wykorzystaj i dostosuj kod z laboratoriów ze wstępem do baz danych.\n",
    "\n",
    "W klasie `User` powinna zostać dodana kolumna `country_id`, która będzie kluczem obcym tabeli `countries`, który można zdefiniować za pomocą obiektu `db` - `db.ForeignKey('countries.id')`. Kolumna `country_id` nie może zawierać wartości pustych (`null`). Dodatkowo, do klasy `User` należy dodać pole `country`, które będzie wskazywało na relację z klasą `countries`, w tym celu można użyć metodę `db.relationship('Country')`."
   ]
  },
  {
   "cell_type": "markdown",
   "metadata": {
    "slideshow": {
     "slide_type": "fragment"
    }
   },
   "source": [
    "Zadanie 5\n",
    "\n",
    "W pliku `app.py` dodaj relację między tabelą `countries`, a `users` - robimy to samo, tylko w drugą stronę - zmiany należy wprowadzić do klasy `Country`. W przypadku klasy `Country` nie dodajemy kolumny, która by reprezentowała klucz obcy."
   ]
  },
  {
   "cell_type": "markdown",
   "metadata": {
    "slideshow": {
     "slide_type": "subslide"
    }
   },
   "source": [
    "Zadanie 6\n",
    "\n",
    "W pliku `app.py`, w klasie `User`, w metodzie `__repr__` oprócz nazwy użytkownika oraz jego maila, wypisz kraj danego użytkownika."
   ]
  },
  {
   "cell_type": "markdown",
   "metadata": {
    "slideshow": {
     "slide_type": "subslide"
    }
   },
   "source": [
    "Przed sprawdzeniem, czy wprowadzone zmiany są poprawnie zaimplementowane i serwer się dalej uruchamia, powinniśmy wyłączyć ten który jest aktualnie uruchomiony. Możemy to zrobić wchodząc do okna z konsolą `Anaconda prompt` w której jest uruchomiony serwer oraz wcisnąć skrót `ctrl+c` - działanie serwera powinno się zakończyć, co widać na obrazku poniżej:\n",
    "<img src=\"imgs/shutdown_server.png\" width=700/>\n",
    "\n",
    "Następnie usuwamy plik z bazą danych i ponownie uruchamiamy serwer za pomocą komendy `python app.py`. Robimy tak dlatego, że definicja naszych tabel w bazie danych się zmieniła, więc aby nie dopuścić do błędów związanych z nieprawidłowymi tabelami w bazie usuwamy całą bazę, po ponownym uruchomieniu serwera powinna ona być utworzona na nowo (uwaga - przed usunięciem bazy, jeżeli była ona otwarta w programie `DB Browser for SQLite` powinniśmy zamknąć ten program)."
   ]
  },
  {
   "cell_type": "markdown",
   "metadata": {
    "slideshow": {
     "slide_type": "subslide"
    }
   },
   "source": [
    "Teraz dodamy kod, który będzie służył dodawaniu państw do bazy danych.\n",
    "W tym celu należy dodać kod w pythonie, który pozwoli na obsługę zapytań i będzie generował strony webowe na podstawie szablonów w HTML-u, zawierających odpowiednie kontrolki. Nie będziemy tworzyli stron do edycji - aktualizacji oraz usuwania państw - kod do robienia tych czynności jest bardzo podobny do tego wykonywanego dla klasy użytkownika."
   ]
  },
  {
   "cell_type": "markdown",
   "metadata": {
    "slideshow": {
     "slide_type": "fragment"
    }
   },
   "source": [
    "Zadanie 7\n",
    "\n",
    "W pliku `app.py` dodaj 2 metody, które będą służyły do dodawania państwa:\n",
    "    * `add_country`, która będzie dostępna pod adresem `127.0.0.1:1234/add_country`\n",
    "    * `add_country_form_submit`, która będzie dostępna pod adresem `127.0.0.1:1234/add_country_submit`"
   ]
  },
  {
   "cell_type": "markdown",
   "metadata": {
    "slideshow": {
     "slide_type": "fragment"
    }
   },
   "source": [
    "Metoda `add_country` powinna zwrócić wygenerowany szablon z pliku `add_country_form.html`."
   ]
  },
  {
   "cell_type": "markdown",
   "metadata": {
    "slideshow": {
     "slide_type": "subslide"
    }
   },
   "source": [
    "Zadanie 8\n",
    "\n",
    "W pliku `app.py` uzupełnij ciało metody `add_country_form_submit`. Najpierw powinna ona pobierać wartość zmiennej `country_name`, która była wysyłana w formularzu znajdującym się w szablonie `add_country_form.html`.\n",
    "Wartość zmiennej `country_name` powinna być zapisana w zmiennej `country`.\n",
    "Następnie, jeżeli zmienna `country` jest pusta powinna być wywoływana instrukcja return generująca szablon z pliku `add_country_submit.html`.\n",
    "Jeżeli jednak zmienna `country` nie jest pusta, powinno zostać sprawdzone, czy nie istnieje w bazie już kraj o takiej nazwie.\n",
    "Jeżeli istnieje, to powinien zostać wygenerowany szablon z pliku `add_country_submit.html` wraz z informacją o tym, że kraj już istnieje. Jeżeli nie istniał to powinien zostać dodany do bazy danych, a następnie powinien zostać wygenerowany szablon z pliku `add_country_submit.html` z argumentem `country`, który zawiera nowo stworzony obiekt państwa. Więcej opisu w pliku `app.py`."
   ]
  },
  {
   "cell_type": "markdown",
   "metadata": {
    "slideshow": {
     "slide_type": "subslide"
    }
   },
   "source": [
    "Po odpowiednim zaimplementowaniu powyższych metod powinniśmy być w stanie dodać kraje do naszej bazy danych wchodząc na adres `http://127.0.0.1:1234/add_country`, powinniśmy otrzymać taką stronę internetową:\n",
    "<img src=\"imgs/add_country.png\" width=700 />\n"
   ]
  },
  {
   "cell_type": "markdown",
   "metadata": {
    "slideshow": {
     "slide_type": "subslide"
    }
   },
   "source": [
    "Natomiast po poprawnym dodaniu państwa powinniśmy otrzymać następujący ekran:\n",
    "    <img src=\"imgs/add_country_success.png\" width=500 />\n",
    "Jeżeli jednak kraj już został dodany wcześniej powinniśmy otrzymać komunikat z odpowiednim błędem:\n",
    "    <img src=\"imgs/add_country_error.png\" width=500 />"
   ]
  },
  {
   "cell_type": "markdown",
   "metadata": {
    "slideshow": {
     "slide_type": "subslide"
    }
   },
   "source": [
    "Aby nie dodawać za każdym razem państw po usunięciu pliku z bazą danych dodamy funkcję, która podczas uruchamiania serwera będzie dodawała kilka.\n",
    "\n",
    "Zadanie 9\n",
    "\n",
    "W pliku `app.py` odnajdź funkcję `create_initial_countries` oraz uzupełnij kod sprawdzający, czy kraj o podanej nazwie istnieje w bazie danych, w tabeli `countries`. Jeżeli nie to dodaj go do bazy danych. Aby sprawdzić, czy funkcja została zaimplementowana poprawnie należy usunąć plik z bazą danych oraz uruchomić serwer ponownie. Po ponownym uruchomieniu w bazie danych, w tabeli `coutries` powinny się znajdować 4 państwa (można to sprawdzić otwierając bazę danych w programie `DB Browser for SQLite`).\n",
    "Kod do sprawdzania, czy państwo o nazwie `country` istnieje w tabeli `countries` może wyglądać następująco:\n",
    "```python\n",
    "db.session.query(Country).filter(Country.name == country).first()\n",
    "```\n",
    "Jeżeli wynik tego wyrażenia ma wartość `None` to państwo nie istnieje.\n",
    "\n",
    "Dodatkowo, odkomentuj wywołanie funkcji w znajdujące się na samym dole pliku `app.py` pod wyrażeniem `if __name__==\"__main__\":`."
   ]
  },
  {
   "cell_type": "markdown",
   "metadata": {
    "slideshow": {
     "slide_type": "subslide"
    }
   },
   "source": [
    "Teraz musimy dodać możliwość wyboru państwa podczas dodawania użytkownika.\n",
    "\n",
    "Zadanie 10\n",
    "\n",
    "W pliku `app.py`, w funkcji `add_user_form` pobierz wszystkie kraje z tabeli `countries` do zmiennej `all_countries` oraz wygeneruj szablon `add_user_form.html`, a jako argument funkcji `render_template` podaj zmienną o nazwie `countries`, której będzie przypisana lista z dopiero co pobranymi państwami.\n",
    "\n",
    "Jeżeli lista państw została pobrana i przekazana do szablonu prawidłowo powinniśmy, po wejściu na stronę z dodawaniem użytkownika zobaczyć poniższy formularz:\n",
    "\n",
    "<img src=\"imgs/add_user_form.png\" width=600/>\n",
    "\n",
    "Póki co nie działa dodawanie państwa do użytkownika - po wysłaniu formularza nie zapisujemy jeszcze państwa wraz z użytkownikiem."
   ]
  },
  {
   "cell_type": "markdown",
   "metadata": {
    "slideshow": {
     "slide_type": "subslide"
    }
   },
   "source": [
    "Do formularza została dodana `lista rozwijana` z nazwami państw. Jak widać w pliku `add_user_form.html`\n",
    "<img src=\"imgs/add_user_list.png\" width=800/>\n",
    "lista jest tworzona przy użyciu znacznika `select`, ważny w nim jest atrybut `name`, który definiuje nazwę zmiennej, w której będzie przechowywana nazwa państwa wybrana za pomocą listy.\n",
    "W znaczniku `select` znajduje się pętla `for` w której dodawane są znaczniki `option` - każdy ze znaczników option przechowuje jedną nazwę państwa.\n",
    "Podczas tworzenia znaczników `option` w pętli `for` do każdego z nich dodajemy `country.id` jako wartość (atrybut `value`), oraz `country.name` - czyli nazwa kraju, która będzie wyświetlana w formularzu.\n",
    "`country.id` będzie wartością przesyłaną w formularzu jeżeli użytkownik wybierze dany kraj."
   ]
  },
  {
   "cell_type": "markdown",
   "metadata": {
    "slideshow": {
     "slide_type": "subslide"
    }
   },
   "source": [
    "<img src=\"imgs/adding_user_with_countries.png\" width=1000 />"
   ]
  },
  {
   "cell_type": "markdown",
   "metadata": {
    "slideshow": {
     "slide_type": "subslide"
    }
   },
   "source": [
    "Teraz musimy jeszcze zmodyfikować kod odpowiedzialny za odbieranie danych z formularza dodawania osoby. W tym celu będziemy edytowali funkcję `add_user` w pliku `app.py`.\n",
    "\n",
    "Zadanie 11\n",
    "\n",
    "Funkcja `add_user` oprócz danych użytkownika musi brać jako kolejny argument obiekt z krajem użytkownika. Dodaj go jako 3-ci argument funkcji `add_user`. Następnie, podczas tworzenia obiektu użytkownika (linijka zaczynająca się od `user = User(...`) przypisz użytkownikowi przekazany do funkcji obiekt kraju.\n",
    "\n",
    "Póki co nie sprawdzamy zmian ale przechodzimy do funkcji `add_user_form_submit`.\n",
    "\n",
    "Zadanie 12\n",
    "\n",
    "Jako, że zmieniliśmy liczbę argumentów w funkcji `add_user` musimy dostosować kod w funkcji `add_user_form_submit`, która wywołuje funkcję `add_user`.\n",
    "W pliku `app.py`, w funkcji `add_user_form_submit`, która zajmuje się odbieraniem danych nowego użytkownika z formularza oraz ich zapisaniem w bazie danych mamy już odebrane `id` państwa. Zauważmy, że `id` kraju jest dostępne w zmiennej `country_id` (ta sama wartość co w atrybucie `name` znacznika `select` w szablonie `add_user_form.html` opisanym powyżej. \n",
    "W funkcji `add_user_form_submit` należy sprawdzić, czy zmienna `country` nie ma wartości `None`, jeżeli tak to należy wygenerować szablon z odpowiednią informacją.\n",
    "Poza tym naszym zadaniem jest wywołanie funkcji `add_user` z 3-cim argumentem `country`.\n",
    "W szablonie `add_user_submit.html` pod linijką `email: <b>{{user.email}}</b>` dodaj wyświetlanie państwa dodanego użytkownika (jest ono w zmiennej `user.country.name`)."
   ]
  },
  {
   "cell_type": "markdown",
   "metadata": {
    "slideshow": {
     "slide_type": "subslide"
    }
   },
   "source": [
    "Zadanie 13\n",
    "\n",
    "Pozostało nam jeszcze uzupełnienie jednej linijki w funkcji `get_country`, która jako argument przyjmuje zmienną `country_id` reprezentującą numer (póki co nie wiemy czy jest to zmienną, która jest liczbą, czy jest to ciąg znaków). W tejże funkcji dokonywana jest próba zamiany wartości zmiennej `country_id` na liczbę. Jeżeli się ona powiedzie wówczas z bazy danych jest pobierany obiekt państwa który ma takie samo `id` jak wartość zmiennej `country_id`.\n",
    "W tym zadaniu należy uzupełnić kod pobierający państwo z bazy. W tym celu należy przypisać do zmiennej `country` obiekt pobrany z bazy, którego `id` jest równe wartości `country_id` i zwrócić ten obiekt z funkcji."
   ]
  },
  {
   "cell_type": "markdown",
   "metadata": {
    "slideshow": {
     "slide_type": "subslide"
    }
   },
   "source": [
    "W końcu możemy przetestować dodawanie użytkownika z krajem. Wchodzimy na adres `http://127.0.0.1:1234/add_user` naszym oczom powinien ukazać się formularz dodawania użytkownika wraz z możliwością wybrania kraju użytkownika (obywatelstwa) tak jak było to widoczne na jednym z poprzednich slajdów.\n",
    "Teraz jednak obsługujemy zapisywanie państwa wraz z użytkownikiem.\n",
    "Dodajmy jakąś osobę i sprawdźmy, czy dodawanie się powiodło. Jeżeli tak to po dodaniu osoby powinniśmy zobaczyć stronę:\n",
    "\n",
    "<img src=\"imgs/add_user_submit.png\" width=700 />\n",
    "\n"
   ]
  },
  {
   "cell_type": "markdown",
   "metadata": {
    "slideshow": {
     "slide_type": "subslide"
    }
   },
   "source": [
    "Kolejną rzeczą jaką musimy wykonać jest wyświetlenie użytkownika wraz z jego obywatelstwem.\n",
    "\n",
    "Zadanie 14\n",
    "\n",
    "Teraz będziemy edytowali plik z szablonem `list_users.html`. Należy dodać kolumnę z nazwą `Obywatelstwo` oraz wypisywać w tej kolumnie nazwę państwa danego użytkownika."
   ]
  },
  {
   "cell_type": "markdown",
   "metadata": {
    "slideshow": {
     "slide_type": "fragment"
    }
   },
   "source": [
    "Zadanie 15 \n",
    "\n",
    "Teraz zmienimy aktualizację użytkownika, tak by możliwa była zmiana jego obywatelstwa.\n",
    "Przejdźmy do pliku `app.py` i odszukajmy funkcję `update_user`. Musimy w niej przypisać do zmiennej `all_countries` wszystkie kraje znajdujące się w bazie,\n",
    "a następnie je przekazać jako 3-ci argument funkcji `render_template` w zmiennej `countries`.\n",
    "\n",
    "Zadanie 16\n",
    "\n",
    "Następnie w funkcji `add_user_form_update` w pliku `app.py` należy przypisać do zmiennej `old_user`, czyli użytkownika przed aktualizacją, podczas jej tworzenia, obiekt z państwem użytkownika przed aktualizacją. Natomiast do zmiennej `user_to_update.country` należy przypisać nowy kraj - po aktualizacji, który znajduje się w zmiennej `country`."
   ]
  },
  {
   "cell_type": "markdown",
   "metadata": {
    "slideshow": {
     "slide_type": "fragment"
    }
   },
   "source": [
    "Dodatkowo w szablonie `update_user_submit.html` - czyli tym, który jest wyświetlany po aktualizacji użytkownika. Dodaj wypisywanie obywatelstwa użytkownika przed i po aktualizacji."
   ]
  },
  {
   "cell_type": "markdown",
   "metadata": {
    "slideshow": {
     "slide_type": "subslide"
    }
   },
   "source": [
    "Spójrzmy jak wygląda formularz w szablonie `update_user_form.html`. Jest on bardzo podobny do tego, który służy do dodawania użytkownika z małą różnicą w przypadku tworzenia listy rozwijanej zawierającej wszystkie kraje.\n",
    "Dodana została instrukcja \n",
    "```python\n",
    "{% if user.country_id == country.id %} \n",
    "```\n",
    "widoczna na poniższym wycinku kodu\n",
    "<img src='imgs/update_user_form_countries.png' width=700 />\n",
    "Jak widać, jeżeli warunek w instrukcji `if` jest prawdziwy - `id` państwa użytkownika odpowiada aktualnemu państwu, wóczas dodajemy atrybut `selected` do znacznika `option`. Jeżeli nie, to dodajemy znacznik `option` bez atrybutu `selected`. Jak możemy się domyślać, atrybut `selected` ustawia pierwszy kraj na liście. Jest to porządane ponieważ chcemy, aby kraj który jest aktualnie przypisany do użytkownika był na liście pierwszy."
   ]
  },
  {
   "cell_type": "markdown",
   "metadata": {
    "slideshow": {
     "slide_type": "subslide"
    }
   },
   "source": [
    "Zadanie 17\n",
    "\n",
    "Na koniec dodajemy funkcjonalność nie związaną z bazami danych.\n",
    "Czasami potrzebne jest aby zmienić adres użytkownika. Na przykład wchodząc na stronę google.pl możemy być automatycznie przenoszeni do strony google.pl/search . Mechanizm przenoszenia możemy wykorzystywać, gdy chcemy, na przykład, aby  użytkownik wchodząc na główną stronę był przenoszony automatycznie do strony z wyświetlaniem użytkowników a nie musiał ręcznie wpisywać adresu `127.0.0.1:1234/list_users`. W tym celu z funkcji `hello_world` powinniśmy zwracać funkcję `redirect`, której argumentem jest ścieżka do której chcemy przenieść użytkownika, w naszym przypadku `list_users`. Jeżeli przekierowanie działa to wchodząć na stronę `127.0.0.1:1234/` powinniśmy zostać automatycznie przeniesieni do strony `127.0.0.1:1234/list_users` i powinniśmy zobaczyć listę użytkowników."
   ]
  }
 ],
 "metadata": {
  "celltoolbar": "Slideshow",
  "kernelspec": {
   "display_name": "da_vinci_venv",
   "language": "python",
   "name": "da_vinci_venv"
  },
  "language_info": {
   "codemirror_mode": {
    "name": "ipython",
    "version": 3
   },
   "file_extension": ".py",
   "mimetype": "text/x-python",
   "name": "python",
   "nbconvert_exporter": "python",
   "pygments_lexer": "ipython3",
   "version": "3.7.6rc1"
  }
 },
 "nbformat": 4,
 "nbformat_minor": 4
}
