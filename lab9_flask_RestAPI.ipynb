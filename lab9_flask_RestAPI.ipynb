{
 "cells": [
  {
   "cell_type": "markdown",
   "metadata": {},
   "source": [
    "# Python w analizie ekonomicznej - poziom zaawansowany, warsztaty\n",
    "## Temat: Flask - RestAPI.\n",
    "\n",
    "(odpowiedzi do zadań w czasie prezentacji proszę udzielać na czacie)\n",
    "\n",
    "Jakub Tomczak *jakub.tomczak@cdv.pl*"
   ]
  },
  {
   "cell_type": "markdown",
   "metadata": {},
   "source": [
    "Agenda:\n",
    "\n",
    "    * REST API - podstawy\n",
    "    * budowanie REST API w mikorframework'u Flask\n",
    "\n",
    "Wymagane biblioteki:\n",
    "\n",
    "    * Flask\n",
    "    * Flask-restful (aczkolwiek możliwe jest budowanie REST API z wykorzystaniem 'czystego' Flaska)"
   ]
  },
  {
   "cell_type": "markdown",
   "metadata": {},
   "source": [
    "[REST](https://en.wikipedia.org/wiki/Representational_state_transfer) - (Representational state transfer - zmiana stanu poprzez reprezentacje) styl architektury oprogramowania, który definiuje zbiór wymagań podczas tworzenia serwisów web'owych. Serwisy web'owe spełniające takie wymagania nazywamy `RESTful Web services`. Dzięki spełnianiu wymagań REST zapewniamy interoperacyjność (wspólne działanie) różnych systemów komputerowych poprzez internet. `RESTful Web Services` pozwalają na pobieranie oraz na manipulacje zasobami znajdującymi się w internecie poprzez operacje bezstanowe (kontekst użytkownika (klienta) nie jest zapisany na serwerze, nie ma czegoś takiego jak sesja użytkownika). Obecnie zasobami dostępnymi w internecie są nie tylko dokumenty HTML ale także dane zapisane w na przykład bazach danych dostępnym poprzez internet."
   ]
  },
  {
   "cell_type": "markdown",
   "metadata": {},
   "source": [
    "REST API - interfejs programistyczny pozwalający na korzystanie z serwisów web'owych spełniających wymagania stylu REST. Takie interfejsy powinny spełniać 3 wymagania:\n",
    "   * posiadać podstawowy adres URI, taki jak na przykład `http://api.example.com/collection/`,\n",
    "   * obsługiwać podstawowe metody protokołu HTTP, takie jak na przykład `GET`, `POST`, `PUT`, `DELETE`,\n",
    "   * obsługiwać [typy MIME](https://en.wikipedia.org/wiki/Media_type), które definiują typ danych, najpopularniejszym typem obecnie stosowanym jest `application/json`, czyli format [`json`](https://www.json.org/json-en.html).\n",
    "\n",
    "Dodatkowo, pełna implementacja takiego serwisu wymaga dodawania linków do odpowiedzi serwera, które umożliwiałby łatwą nawigację między zasobami."
   ]
  },
  {
   "cell_type": "markdown",
   "metadata": {},
   "source": [
    "W dużym uproszczeniu chodzi o to, aby serwer nie generował stron `HTML`, tylko aby obsługiwał żądania np. `GET`, `POST`, `DELETE` i odpowiadał za pomocą surowych danych, np. w formacie `JSON`. Po takim żądaniu serwer wykonuje daną akcję, np. przy metodzie `GET` serwer powinien zwrócić dany zasób, mogą być nim wyniki na przykład kursy walut dla danego dnia. W takiej sytuacji serwer zwróci kursy walut dla danego dnia w formacie `JSON`. Gdy klient wyśle zapytanie `POST`, z danymi kursów walut na dany dzień w formacie `JSON` to serwer powinien dodać te dane do bazy danych. W przypadku zapytania `DELETE` na dany dzień serwer powinien usunąć dane dotyczące kursów walut z danego dnia."
   ]
  },
  {
   "cell_type": "markdown",
   "metadata": {},
   "source": [
    "<img src='imgs/rest_api_schema.png' width='600' />"
   ]
  },
  {
   "cell_type": "markdown",
   "metadata": {},
   "source": [
    "W przypadku używania przeglądarki do otwierania stron HTTP używa się metody `GET`, natomiast dane z formularzy, czy pliki wysyłamy za pomocą metody `POST`."
   ]
  },
  {
   "cell_type": "markdown",
   "metadata": {},
   "source": [
    "Pobierzmy aplikację webową z [zajęć nr 5](http://e-learning.cdv.pl/edu/mod/resource/view.php?id=17832) (pobieranie zacznie się po zalogowaniu do moodle, jeżeli nie było się zalogowanym). Uruchamiamy ją poprzez `Anaconda prompt` poprzez komendę `python app.py` (pamiętajmy o przejściu do odpowiedniego folderu za pomocą komendy `cd /d [ścieżka do folderu]`)."
   ]
  },
  {
   "cell_type": "markdown",
   "metadata": {},
   "source": [
    "Listowanie użytkowników, z aplikacji z zajęć nr 5 było wykonywane podczas wchodzenia na stronę [127.0.0.1:1234/list_users](127.0.0.1:1234/list_users). Podczas wchodzenia na tą stronę przeglądarka wysyła zapytanie `GET` do serwera (screeny z programu `wireshark`)"
   ]
  },
  {
   "cell_type": "markdown",
   "metadata": {},
   "source": [
    "<img src='imgs/get_list_users.png' width='600' />"
   ]
  },
  {
   "cell_type": "markdown",
   "metadata": {},
   "source": [
    "W wyniku czego serwer odpowiada kodem HTML z naszą stroną"
   ]
  },
  {
   "cell_type": "markdown",
   "metadata": {},
   "source": [
    "<img src='imgs/get_list_users_response.png' width='600' />"
   ]
  },
  {
   "cell_type": "markdown",
   "metadata": {},
   "source": [
    "Kod HTML z odpowiedzi serwera przeglądarka interpretuje w następujący sposób\n",
    "<img src='imgs/list_users_response_html.png' width='700' />"
   ]
  },
  {
   "cell_type": "markdown",
   "metadata": {},
   "source": [
    "W REST API korzystamy z wielu metod w zależności od operacji którą chcemy wykonać:\n",
    "   * `GET` jeżeli chcemy pobrać dany zasób - np. pobrać listę użytkowników\n",
    "   * `POST/PUT` gdy chcemy stworzyć dany zasób - np. dodać nowego użytkownika\n",
    "   * `PATCH` gdy chcemy aktualizować zasób - np. aktualizować istniejącego użytkownika\n",
    "   * `DELETE` gdy chcemy usunąć zasób - np. usunąć użytkownika\n",
    "   \n",
    "Lista metod wraz z opisami znajduje się na przykład [tutaj](https://developer.mozilla.org/en-US/docs/Web/HTTP/Methods).\n",
    "  \n",
    "W przypadku `POST/PUT/PATCH` istnieje wiele dyskusji, którą metodę kiedy dokładnie powinniśmy używać. Jednkaże implementacja metody `POST` do aktualizaji zamiast `PATCH` nie spowoduje nie działania serwisu - po prostu trzeba o tym wspomnieć w dokumentacji."
   ]
  },
  {
   "cell_type": "markdown",
   "metadata": {},
   "source": [
    "Poniżej znajduje się schemat wykonywania operacji na REST API, które poprzez serwer wykonują operacje na bazie danych połączonej z serwerem.\n",
    "<img src='imgs/rest_schema.png' width='700' />"
   ]
  },
  {
   "cell_type": "markdown",
   "metadata": {},
   "source": [
    "Użytkownik wykonując zapytanie `GET` o zasób `/users` prosi o wypisanie użytkowników, natomiast serwer wykonuje zapytanie `select` do bazy danych, a następnie zwraca dokument w formacie `json` zawierający użytkowników. Użytkownik wykonując zapytanie do zasobu `/users` musi znać podstawowy adres URI.\n",
    "<img src=\"imgs/rest_schema_2.png\" width='600' />"
   ]
  },
  {
   "cell_type": "markdown",
   "metadata": {},
   "source": [
    "Jakie są zalety tworzenia `REST API` zamiast 'klasycznych' serwisów www dostępnych przez przeglądarkę?\n",
    "\n",
    "   * możliwość łączenia serwisów internetowych między sobą\n",
    "   * możliwość korzystania z danych nie tylko w przeglądarce ale również poprzez aplikacje konsolowe pisane np. w pythonie, wówczas nie musimy korzystać z web scrapingu\n",
    "   * możliwość tworzenia aplikacji mobilnych wykorzystujących to samo źródło danych co aplikacja webowa\n",
    "   * bardzo łatwa zmiana interfejsu graficznego strony www ze względu na podział treści od wyglądu\n",
    "   \n",
    "<img src='imgs/rest_api_usage.png' width='700' />"
   ]
  },
  {
   "cell_type": "markdown",
   "metadata": {},
   "source": [
    "Z drugiej strony REST API może wymagać większego nakładu pracy związanego z tworzeniem dokumentacji, czy tworzeniem zapytań w aplikacji webowej, aby uzyskać dostęp do zasobów zamiast otrzymywać gotowy kod HTML z serwera.\n",
    "\n",
    "Dosyć zwięzły opis co to jest `REST API` i jak je poprawnie tworzyć możemy znaleźć na przykład na stronie [REST API Tutorial](https://restfulapi.net/)."
   ]
  },
  {
   "cell_type": "markdown",
   "metadata": {},
   "source": [
    "Obecnie wiele platform umożliwia dostęp do danych poprzez interfejsy API, jednym z nich jest platforma Allegro, która udostępnia deweloperom dostęp do [allegro API](https://developer.allegro.pl/).\n",
    "\n",
    "Jeżeli chodzi o zbiory danych to wiele instytucji publicznych pozwala na dostęp do danych za pomocą plików excel, które są dosyć toporne w automatycznej obróbce. Obecnie są już dostępne tzw. endpointy (początkowe adresy URI REST API) z których możemy korzystać w celu pobierania danych.\n",
    "Jednym z przykładów jest strona [API Głównego Urzędu Statystycznego](https://api.stat.gov.pl/Home/BdlApi), która pozwala na pobierania danych za pomocą `REST API` lub rządowy portal [otwarte dane](https://dane.gov.pl/) mający swoje API [pod tym adresem](https://api.dane.gov.pl/doc#/API%20Endpoints/get__api_version__institutions)."
   ]
  },
  {
   "cell_type": "markdown",
   "metadata": {},
   "source": [
    "## REST API we Flask'u"
   ]
  },
  {
   "cell_type": "markdown",
   "metadata": {},
   "source": [
    "Flask umożliwa tworzenie REST API za pomocą dodatku [Flask-RESTful](https://flask-restful.readthedocs.io/en/latest/)."
   ]
  },
  {
   "cell_type": "markdown",
   "metadata": {},
   "source": [
    "Zaczniemy od instalacji dodatku, otwieramy konsolę `Anaconda prompt`, w niej wpisujemy \n",
    "```bash\n",
    "pip install flask-restful\n",
    "```\n",
    "\n",
    "<img src=\"imgs/install_flask_restful.png\" width='600' />\n"
   ]
  },
  {
   "cell_type": "markdown",
   "metadata": {},
   "source": [
    "Będziemy tworzyli aplikację z wykorzystaniem mikroframework'a Flask, więc otwieramy edytor (nie używamy Jupyter notebook do pracy z Flaskiem) i wklejamy poniższy kod\n",
    "```python\n",
    "from flask import Flask\n",
    "from flask_restful import Resource, Api\n",
    "\n",
    "app = Flask(__name__)\n",
    "api = Api(app)\n",
    "\n",
    "class HelloWorld(Resource):\n",
    "    def get(self):\n",
    "        return { 'metoda': 'get' }\n",
    "    def post(self):\n",
    "        return { 'metoda': 'post' }\n",
    "    def put(self):\n",
    "        return { 'metoda': 'put' }\n",
    "    def delete(self):\n",
    "        return { 'metoda': 'delete' }\n",
    "\n",
    "api.add_resource(HelloWorld, '/')\n",
    "\n",
    "if __name__ == '__main__':\n",
    "    app.run(debug=True, port=5000)\n",
    "```"
   ]
  },
  {
   "cell_type": "markdown",
   "metadata": {},
   "source": [
    "Linijki\n",
    "```python\n",
    "from flask import Flask\n",
    "from flask_restful import Resource, Api\n",
    "\n",
    "app = Flask(__name__)\n",
    "api = Api(app)\n",
    "```\n",
    "odpowiadają za importy zarówno Flaska jak i obiektów potrzebnych do budowy REST API.\n",
    "Następnie są tworzone dwa obiekty `app` oraz `api`. Ten pierwszy jest aplikacją webową, drugi odpowiada za prostą obsługę zapytań RESTowych."
   ]
  },
  {
   "cell_type": "markdown",
   "metadata": {},
   "source": [
    "Klasa\n",
    "```python\n",
    "class HelloWorld(Resource):\n",
    "    def get(self):\n",
    "        return { 'metoda': 'get' }\n",
    "    def post(self):\n",
    "        return { 'metoda': 'post' }\n",
    "    def put(self):\n",
    "        return { 'metoda': 'put' }\n",
    "    def delete(self):\n",
    "        return { 'metoda': 'delete' }\n",
    "```\n",
    "zawiera metody, które nazwą przypominają metody HTTP - jest to pewna konwencja, która upraszcza pisanie kodu - o tym jeszcze za chwilę. Na razie ważne jest to, że gdy nadejdzie zapytanie `GET` od klienta to zostanie ono obsłużone metodą `get(self)` (podobnie z pozostałymi).\n",
    "\n",
    "Zauważmy, że każda z nich zwraca słownik pythonowy - do klienta jest on wysyłany jako dokument w formacie JSON, który zresztą przypomina słowniki pythonowe."
   ]
  },
  {
   "cell_type": "markdown",
   "metadata": {},
   "source": [
    "Za pomocą linijki \n",
    "```python\n",
    "api.add_resource(HelloWorld, '/')\n",
    "```\n",
    "ustalamy, że klasa HelloWorld i wszystkie operacje na niej będą dostępne jako zasób `/`, czyli pod adresem `127.0.0.1:5000`.\n",
    "\n",
    "Port `5000` jest ustawiany aplikacji w następnych linijkach\n",
    "```python\n",
    "app.run(debug=True, port=5000)\n",
    "```"
   ]
  },
  {
   "cell_type": "markdown",
   "metadata": {},
   "source": [
    "Zapisujemy plik pod nazwą `http_methods.py` i przez `Anaconda prompt`, po przejściu do folderu z właśnie co zapisanym plikiem, wpisujemy komendę\n",
    "```bash\n",
    "python http_methods.py\n",
    "```\n",
    "Serwer powinien się uruchomić i wypisać podobny tekst\n",
    "<img src=\"imgs/http_methods_console.png\" width='600' />"
   ]
  },
  {
   "cell_type": "markdown",
   "metadata": {},
   "source": [
    "Po wejściu na stronę `127.0.0.1:5000/` powinniśmy otrzymać następującą treść\n",
    "<img src='imgs/http_methods_chrome.png' width='400' />"
   ]
  },
  {
   "cell_type": "markdown",
   "metadata": {},
   "source": [
    "Widzimy, że została wykonana funkcja `get(self)` z czego wynika, iż przeglądarka internetowa pobierająca treść strony wysyła do serwera zapytanie metodą `GET`."
   ]
  },
  {
   "cell_type": "markdown",
   "metadata": {},
   "source": [
    "Jednakże jest to pewne ograniczenie - nie możemy wysyłać innych zapytań niż `GET` oraz `POST` (zapytanie `POST` można wykonywać poprzez formularze, ustawiając wartość atrybutu method na `POST` w znaczniku `<form>`). Dlatego też musimy albo wykorzystać konsolę albo dedykowany program, np. Postman."
   ]
  },
  {
   "cell_type": "markdown",
   "metadata": {},
   "source": [
    "W celu łatwego wysyłania zapytań do naszego serwera pobieramy program [Postman](https://www.postman.com/downloads/), do do pobrania wybieramy wersję 64-bitową.\n",
    "<img src='imgs/postman_download.png' width='400' />"
   ]
  },
  {
   "cell_type": "markdown",
   "metadata": {},
   "source": [
    "Po instalacji otwieramy aplikację `Postman`\n",
    "<img src=\"imgs/postman_test_http_methods.png\" width='600' />"
   ]
  },
  {
   "cell_type": "markdown",
   "metadata": {},
   "source": [
    "Na początku, w programie `Postman` ustawiamy metodę, w naszym przypadku `GET`. Następnie wpisujemy adres serwera oraz zasób, w tym przypadku będzie to `http://127.0.0.1:5000/` (adres to `http://127.0.0.1:5000`, zasób: `/`). Po czym klikamy niebieski przycisk `send`.\n",
    "\n",
    "Po krótkiej chwili powinniśmy otrzymać odpowiedź, która jest wyświetlona w polu oznaczonym jako `odpowiedź w formacie JSON`, jeżeli zapytanie się nie powiodło to w miejscu `status odpowiedzi` powinien się znaleźć kod inny niż 200."
   ]
  },
  {
   "cell_type": "markdown",
   "metadata": {},
   "source": [
    "W przypadku wyłączonego serwera powinniśmy otrzymać taki ekran\n",
    "<img src='imgs/server_down.png' width='600' />"
   ]
  },
  {
   "cell_type": "markdown",
   "metadata": {},
   "source": [
    "W programie `Postman` zmieniamy teraz metodę z `GET` na `POST`. Jak widzimy, dostaliśmy inną odpowiedź mimo, że nie został zmieniony adres, ani ścieżka do zasobu. Dzięki różnym metodom HTTP możemy dawać dostęp do dokładnie tego samego zasobu ale w innym celu (`GET` do pobrania, `POST` do tworzenia itd.)"
   ]
  },
  {
   "cell_type": "markdown",
   "metadata": {},
   "source": [
    "<img src='imgs/postman_post.png' width='600' />"
   ]
  },
  {
   "cell_type": "markdown",
   "metadata": {},
   "source": [
    "REST API we Flasku działa przez konwencję. Metoda `get(self)` odpowiada na zapytania metodą `GET`. Oznacza to, że nie musimy dodawać żadnych wskazówek jaka metoda w klasie `HelloWorld` ma być użyta do obsłużenia zapytania `GET`, bo domyślnie będzie to właśnie wspomniana metoda `get(self)`.\n",
    "\n",
    "Takie działanie przez konwencje bardzo często jest używane w programowaniu aplikacji webowych (i nie tylko), pozwala ono na zaoszczędzenie wielu linijek kodu, które miałby wiązać pewne elementy ze sobą. Konwencja ułatwia także prace nad kodem zastanym po innym programiście."
   ]
  },
  {
   "cell_type": "markdown",
   "metadata": {},
   "source": [
    "<img src='imgs/http_methods_how_it_works.png' width='600' />"
   ]
  },
  {
   "cell_type": "markdown",
   "metadata": {},
   "source": [
    "Tak wygląda `REST API` w bardzo minimalistycznej wersji, poza tym, że nie wykonuje żadnych operacji zapisu/odczytu danych na serwerze to obsługuje różne metody HTTP. Jak zostało wspomniane, konwencja z nazwami metod pozwala zaoszczędzić pisania trochę kodu więcej. Jednakże, bez rozszerzenia `flask-restful` również możemy zbudować `REST API` korzystając z 'czystego' Flaska, bez dodatków. Dokładnie ten sam przykład ale bez wykorzystania rozszerzenia `flask-restful` jest dostępny w pliku `http_methods_only_flask.py`."
   ]
  },
  {
   "cell_type": "markdown",
   "metadata": {},
   "source": [
    "Zadanie 1 (3 pkt.)\n",
    "\n",
    "1. Pobierz [rozwiązane zadania z laboratorium 5](http://e-learning.cdv.pl/edu/mod/resource/view.php?id=17832). Dodaj kilku użytkowników.\n",
    "2. Stwórz dodatkowy zasób `/api/user`, reprezentowany przez klasę `Users`, który będzie obsługiwał metodę `GET`. Na zapytanie `GET` serwer powinien zwrócić listę użytkowników. (po pobraniu listy użytkowników z bazy należy ich listę zamienić na słownik)\n",
    "\n",
    "`Uwaga - adres serwera z zajęć nr 5 ma port 1234, a nie 5000 jak w powyższych przykładach.`\n",
    "\n",
    "Do tej zamiany można wykorzystać poniższą funkcję\n",
    "```python\n",
    "def users_to_dict(users):\n",
    "    users_dict = []\n",
    "    for user in users:\n",
    "        users_dict.append({\n",
    "            'username': user.username,\n",
    "            'email': user.email,\n",
    "            'country': user.country.name\n",
    "        })\n",
    "    return users_dict\n",
    "```\n",
    "Normalnie korzystając z klas z biblioteki [pydantic](https://pydantic-docs.helpmanual.io/) (po krótce omówionej na laboratorium 1) nie musielibyśmy pisać specjalnego kodu zamieniającego naszego użytkownika na słownik, ponieważ klasy z biblioteki [pydantic](https://pydantic-docs.helpmanual.io/) już mają taką funkcjonalność.\n",
    "\n",
    "Oczekiwany rezultat\n",
    "<img src='imgs/zad1.png' width='600' />"
   ]
  },
  {
   "cell_type": "markdown",
   "metadata": {},
   "source": [
    "### Odbieranie danych na serwerze"
   ]
  },
  {
   "cell_type": "markdown",
   "metadata": {},
   "source": [
    "Na wcześniejszych zajęciach odbieraliśmy dane z formularza. Korzystając z REST API chcielibyśmy wysyłać dane w formacie `JSON`. Takie dane na serwerze będziemy odbierali w trochę inny sposób. \n",
    "\n",
    "Tworzymy kolejny program o nazwie `todo.py`, który już będzie obsługiwał dwie metody `GET` (do pobierania obiektów) oraz `PUT` (do ich zapisywania), na razie obiekty będą zapisywane nie w bazie danych, a w słowniku, w naszym programie."
   ]
  },
  {
   "cell_type": "markdown",
   "metadata": {},
   "source": [
    "Do pustego pliku wklejamy następujące linijki\n",
    "```python\n",
    "from flask import Flask, request\n",
    "from flask_restful import Resource, Api, reqparse\n",
    "\n",
    "app = Flask(__name__)\n",
    "api = Api(app)\n",
    "\n",
    "todos = {}\n",
    "```\n",
    "\n",
    "Jak widzimy, w ostatniej linicje tworzymy pusty słownik - w nim będziemy zapisywali dane przychodzące od użytkownika. Będzie to słownik przechowujący rzeczy do zrobienia."
   ]
  },
  {
   "cell_type": "markdown",
   "metadata": {},
   "source": [
    "Następnie dodajemy klasę `Todo`, która dziedziczy z klasy `Resource`. W klasie `Todo` dodajemy metodę `get`, która będzie wypisywała notatkę z id `todo_id`. Jak widać, `todo_id` jest przyjmowane jako argument metody `get`. `todo_id` będzie się znajdowało w ścieżce do zasobu, co będzie widoczne w przykładzie. Jeżeli notatka z id `todo_id` istnieje wówczas ją pobieramy ze słownika i wypisujemy, w innym przypadku wypisujemy pusty słownik (który będzie zamieniony na pusty obiekt `JSON`).\n",
    "```python\n",
    "class Todo(Resource):\n",
    "    def get(self, todo_id):\n",
    "        if todo_id in todos:\n",
    "            return {todo_id: todos[todo_id]}\n",
    "        else:\n",
    "            return {}\n",
    "```"
   ]
  },
  {
   "cell_type": "markdown",
   "metadata": {},
   "source": [
    "Następnie do klasy `Todo` dodajemy metodę `put`, która będzie dodawała notatki do naszego słownika `todo`\n",
    "```python\n",
    "class Todo(Resource):\n",
    "    def get(self, todo_id):\n",
    "        if todo_id in todos:\n",
    "            return {todo_id: todos[todo_id]}\n",
    "        else:\n",
    "            return {}\n",
    "        \n",
    "    def put(self, todo_id):\n",
    "            if todo_id in todos:\n",
    "                return {}, 409\n",
    "            todos[todo_id] = request.json['data']\n",
    "            return {todo_id: todos[todo_id]}\n",
    "```\n",
    "w przypadku, gdy notatka z id `todo_id` już istnieje w słowniku to zwracamy pusty słownik oraz ustawiamy kod błędu na 409 (co oznacza konflikt - taka notatka już istnieje)\n",
    "```python\n",
    "return {}, 409\n",
    "```\n",
    "\n",
    "W innym przypadku, dodajemy notatkę do naszej list. Treść notatki, ma być wysyłana w obiekcie `JSON`, który możemy pobrać za pomocą słownika `request.json['data']`. Po zapisaniu zwracamy zarówno id jak i treść zapisanej notatki."
   ]
  },
  {
   "cell_type": "markdown",
   "metadata": {},
   "source": [
    "#### Opis działania"
   ]
  },
  {
   "cell_type": "markdown",
   "metadata": {},
   "source": [
    "Pobieranie notatki będzie się odbywało za pomocą metody `GET` korzystając z następującego adresu `127.0.0.1:5000/todo/[todo_id]`, gdzie `todo_id` będzie id naszej notatki. Natomiast dodawanie notatki będzie się odbywało poprzez wysłanie zapytania `PUT` pod adres `127.0.0.1:5000/todo/todo_id` wraz z danymi wysyłanymi w formacie `JSON`. Dla przykładu, wysyłając zapytanie `PUT` pod adres `127.0.0.1:5000/todo/1` z danymi\n",
    "```json\n",
    "{\n",
    "    'data': 'Pierwsza notatka'\n",
    "}\n",
    "```\n",
    "powinniśmy dodać notatkę z id = 1, z treścią `Pierwsza notatka`.\n",
    "\n",
    "Aby wysłać dane w programie `postman` musimy wejść do zakładki `body` (znajduje się ona pod adresem), wybrać opcję `raw`, a następnie z listy rozwijanej wybrać opcję `JSON`.\n",
    "<img src=\"imgs/postman_json.png\" width='500' />\n",
    "po wpisaniu danych możemy wysłać zapytanie poprzez kliknięcie przycisku `send`\n",
    "<img src=\"imgs/todo_put.png\" width='800' />"
   ]
  },
  {
   "cell_type": "markdown",
   "metadata": {},
   "source": [
    "Następnie wyślemy zapytanie `GET` pod adres `127.0.0.1:5000/todo/1` i w odpowiedzi powinniśmy otrzymać\n",
    "```json\n",
    "{\n",
    "    '1': 'Pierwsza notatka'\n",
    "}\n",
    "```\n",
    "<img src=\"imgs/todo_get.png\" width='800' />"
   ]
  },
  {
   "cell_type": "markdown",
   "metadata": {},
   "source": [
    "Zadanie 2 (2 pkt.)\n",
    "\n",
    "1. Do poprzednio napisanej aplikacji w pliku `todo.py` dodaj obsługę metody `DELETE`, która będzie usuwała notatkę z podanym `todo_id`, a następnie zwróci id oraz treść usuniętej notatki (taka sama odpowiedź jak w przypadku metody `PUT`, gdy się udało dodać notatkę).\n",
    "2. W przypadku, gdy notatka nie istniała funkcja powinna zwrócić pusty słownik.\n",
    "3. Przetestuj działanie za pomocą programu `postman`."
   ]
  },
  {
   "cell_type": "markdown",
   "metadata": {},
   "source": [
    "Zadanie 3 (2 pkt.)\n",
    "\n",
    "1. Dodaj metodę `patch`, która będzie aktualizowała notatki. Będzie ona odpowiedzialna tylko i wyłącznie za aktualizację notatki. Oznacza to, iż w przypadku, gdy nie ma notatki na serwerze to w odpowiedzi powinniśmy dostać pusty słownik. Natomiast, gdy istnieje taka notatka to powinniśmy ją zaktualizować oraz wysłać jej nową treść (w takim samym formacie jak po dodaniu notatki w funkcji `put`).\n",
    "2. Przetestuj działanie metody `patch` za pomocą programu `postman` wysyłając zapytanie `PATCH`."
   ]
  },
  {
   "cell_type": "markdown",
   "metadata": {},
   "source": [
    "### Aplikacja z użytkownikami jako REST API"
   ]
  },
  {
   "cell_type": "markdown",
   "metadata": {},
   "source": [
    "W zadaniu 1 dodaliśmy możliwość wypisywania użytkowników za pomocą zapytania `GET`. Teraz dodamy wszystkie operacje na danych, tak by można było wykonywać wszystkie 4 operacje na danych z użytkownikami poprzez `REST API`. Wykorzystamy [aplikację webową z zajęć nr 4](http://e-learning.cdv.pl/edu/mod/resource/view.php?id=16801), jest ona praktycznie tą samą aplikacją co ta z zajęć 5, jednakże nie posiada obywatelstwa użytkowników - mamy tylko 1 tabelę `users` w bazie danych."
   ]
  },
  {
   "cell_type": "markdown",
   "metadata": {},
   "source": [
    "Otwieramy plik `app_rest.py`, który zawiera kod ze szkieletem naszej aplikacji wraz z obsługą bazy danych i dodaniem początkowej listy użytkowników."
   ]
  },
  {
   "cell_type": "markdown",
   "metadata": {},
   "source": [
    "Jedną ze zmian w porównaniu do kodu z laboratorium nr 4, oprócz dodania kodu odpowiedzialnego za stworzenie `REST API` jest dodanie metody `to_dict(self)` w klasie użytkownika.\n",
    "```python\n",
    "    def to_dict(self):\n",
    "        return {\n",
    "            'id': self.id,\n",
    "            'username': self.username,\n",
    "            'email': self.email\n",
    "        }\n",
    "```\n",
    "Zadaniem tej metody jest zwrócenie danych użytkownika jako słownika pythonowego - dzięki temu możemy zwracać użytkownika tak jak jest to przedstawione poniżej w metodzie `get(self, user_id)`."
   ]
  },
  {
   "cell_type": "markdown",
   "metadata": {},
   "source": [
    "W linijkach\n",
    "```python\n",
    "class APIUser(Resource):\n",
    "    def get(self, user_id):\n",
    "        user = db.session.query(User).filter(User.id == user_id).first()\n",
    "        if user is None:\n",
    "            return {}\n",
    "        else:\n",
    "            return user.to_dict()\n",
    "\n",
    "    def put(self, user_id=None):\n",
    "        data = request.json\n",
    "\n",
    "        if data is None or 'email' not in data:\n",
    "            return {'message': 'Wysłano niepoprawne dane w zapytaniu'}, 400\n",
    "\n",
    "        user_in_db = db.session.query(User).filter(User.email == data['email']).first()\n",
    "        if user_in_db is None:\n",
    "            new_user = User(**data)\n",
    "            db.session.add(new_user)\n",
    "            db.session.commit()\n",
    "            return new_user.to_dict()\n",
    "        else:\n",
    "            # w przypadku, gdy użytkownik już istnieje zwracamy pusty słownik\n",
    "            # oraz status 409 - CONFLICT\n",
    "            # w innej implementacji w takiej sytuacji moglibyśmy zastępować użytkownika nowymi danymi\n",
    "            # wówczas nie potrzebowalibyśmy metody PATCH\n",
    "            return {'message': 'Użytkownik z podanym adresem email już istnieje'}, 409\n",
    "\n",
    "    def delete(self, user_id):\n",
    "        return f'usuwanie użytkownika z id {user_id}'\n",
    "    \n",
    "    def patch(self, user_id):\n",
    "        return f'aktualizacja użytkownika z id {user_id}'\n",
    "```\n",
    "\n",
    "znajdują się metody do operacji na użytkowniku, metoda `get` oraz `put` są już zaimplementowane.\n",
    "\n",
    "Metoda `get` pobiera użytkownika z id równym `user_id`. Jeżeli w bazie istnieje użytkownik z takim id wówczas jest on zwracany po wywołaniu na nim metody `to_dict`. Metoda ta jak zostało to wcześniej wspomniane zwraca słownik pythonowy. Jeżeli taki użytkownik nie istniał jest zwracany pusty słownik.\n",
    "\n",
    "Metoda `put` dodaje użytkownika. Zauważmy, że ta metoda nie ma argumentu `user_id`, ponieważ dodając użytkownika nie znamy jego `id` - zostanie ono dodane przez bazę danych. Następnie sprawdzamy, czy użytkownik podał dane - czy zmienna `request.json` nie jest `None` oraz czy `email` jest podany w tych danych.\n",
    "Zakładamy, że dane przesyłane do stworzenia użytkownika będą w formacie \n",
    "```json\n",
    "{\n",
    "    \"email\": \"jan@wp.pl\",\n",
    "    \"username\": \"jan\"\n",
    "}\n",
    "```\n",
    "Jeżeli dane nie zostały przekazane lub nie są w pożądanym formacie zwracamy wiadomość oraz ustawiamy kod HTTP na `400` (Bad request).\n",
    "```python\n",
    "data = request.json\n",
    "if data is None or 'email' not in data:\n",
    "    return {'message': 'Wysłano niepoprawne dane w zapytaniu'}, 400\n",
    "```\n",
    "Następnie sprawdzamy, czy użytkownik z podanym emailem w przekazanych danych istnieje w bazie danych.\n",
    "Jeżeli nie istnieje to tworzymy go\n",
    "```python\n",
    "new_user = User()\n",
    "new_user.email = data['email']\n",
    "new_user.username = data.get('username', '')\n",
    "```\n",
    "a następnie dodajemy do bazy danych i zwracamy\n",
    "```python\n",
    "db.session.add(new_user)\n",
    "db.session.commit()\n",
    "return new_user.to_dict()\n",
    "```\n",
    "Z drugiej strony, jeżeli użytkownik już istniał to zwracamy wiadomość oraz kod błędu `409` (Conflict)\n",
    "```python\n",
    "return {'message': 'Użytkownik z podanym adresem email już istnieje'}, 409\n",
    "```"
   ]
  },
  {
   "cell_type": "markdown",
   "metadata": {},
   "source": [
    "W linijkach\n",
    "```python\n",
    "class APIUsers(Resource):\n",
    "    def get(self):\n",
    "        return \"wypisywanie wszystkich użytkowników\"\n",
    "```\n",
    "\n",
    "znajduje się metoda do wypisywania wszystkich użytkowników - jest tylko jedna, metoda `GET`, ponieważ nie chcemy modyfikować wszystkich użytkowników na raz ale dobrze byłoby mieć metodę, która wypisuje wszystkich na raz."
   ]
  },
  {
   "cell_type": "markdown",
   "metadata": {},
   "source": [
    "Do powyższych klas dodajemy ścieżki\n",
    "```python\n",
    "api.add_resource(APIUser, '/api/user/<int:user_id>', '/api/user')\n",
    "api.add_resource(APIUsers, '/api/users')\n",
    "```\n",
    "\n",
    "Operacje na użytkowniku z `id` 1 będziemy wykonywali za pomocą ścieżki `127.0.0.1:5001/api/user/1` korzystając z metod `GET`, `PUT`, `DELETE` oraz `PATCH`. Zauważmy, że tym razem aplikacja będzie dostępna na porcie `5001` (tak żebyśmy przez przypadek nie korzystali z poprzedniej).\n",
    "\n",
    "Dla klasy `APIUser` są ustawione 2 ścieżki. Pierwsza pojawiła się już wcześniej, druga `'/api/user'` natomiast pozwala na wykonanie metody `put` bez podawania `user_id`."
   ]
  },
  {
   "cell_type": "markdown",
   "metadata": {},
   "source": [
    "Na końcu pliku znajduje się metoda `create_initial_users`, która tworzy 2 użytkowników podczas uruchamiania serwera, o ile już nie istnieli. Pod nią znajduję się kod\n",
    "```python\n",
    "if __name__==\"__main__\":\n",
    "    # stworzenie bazy danych\n",
    "    db.create_all()\n",
    "    # dodanie początkowych oraz użytkowników\n",
    "    create_initial_users()\n",
    "    # uruchomienie aplikacji\n",
    "    app.run(debug=True, port=5001)\n",
    "```\n",
    "który widzieliśmy już wcześniej - tworzy on bazę danych oraz tabele jeżeli nie istniały, a także tworzy użytkowników i uruchamia aplikację na porcie `5001` w trybie deweloperskim (`debug=True`). Dla przypomnienia - tryb deweloperski ułatwia rozwijanie aplikacji, po każdej zmianie kodu serwera jest on automatycznie przeładowywany, natomiast wszystkie wyjątki podczas działania serwera mają dokładny opis."
   ]
  },
  {
   "cell_type": "markdown",
   "metadata": {},
   "source": [
    "Zadanie 4 (3 pkt.)\n",
    "\n",
    "1. Dodaj kod wypisujący wszystkich użytkowników, w tym celu dokonaj modyfikacji funkcji `get` w klasie `APIUsers`. Pamiętaj o wywołaniu metody `to_dict` na każdym użytkowniku.\n",
    "2. Sprawdź w programie `postman`, wykonując zapytanie `GET` pod adres `127.0.0.1:5001/api/users`, czy jesteś w stanie wypisać wszystkich użytkowników."
   ]
  },
  {
   "cell_type": "markdown",
   "metadata": {},
   "source": [
    "Zadanie 5 (3pkt.)\n",
    "1. Uzupełnij metody `delete` oraz `patch` w klasie `APIUser`. Możesz wykorzystać kod odpowiedzialny za wykonywanie zapytań do bazy danych z odpowiednich funkcji z [laboratorium nr 4](http://e-learning.cdv.pl/edu/mod/resource/view.php?id=16801).\n",
    "\n",
    "W przypadku metody `DELETE`, jeżeli użytkownik nie istnieje powinniśmy zwrócić pusty słownik, jeżeli istniał to po jego usunięciu z bazy danych, zwracamy go (należy pamiętać o wywołaniu metody `to_dict`).\n",
    "\n",
    "W przypadku metody `PATCH`, jeżeli użytkownik nie istniał zwracamy kod `400` oraz wiadomość `{'message': 'Użytkownik z podanym id nie istnieje'}`. Jeżeli istniał to dokonujemy aktualizacji użytkownika, zapisujemy go w bazie i go zwracamy (należy pamiętać o wywołaniu metody `to_dict`). Zakładamy, że dane do aktualizacji użytkownika mają taki sam format jak dla metody `put` (opsianej powyżej).\n",
    "2. Sprawdź w programie `postman`, wykonując zapytanie `PATCH` oraz `DELETE` z odpowiednimi danymi pod adres `127.0.0.1:5001/api/users`, czy jesteś w stanie wykonywać wszystkie operacje na odpowiednim użytkowniku."
   ]
  },
  {
   "cell_type": "markdown",
   "metadata": {},
   "source": [
    "## Podsumowanie"
   ]
  },
  {
   "cell_type": "markdown",
   "metadata": {},
   "source": [
    "Poza funkcjonalnościami przedstawionymi powyżej, rozszerzenie `flask-restful` ma więcej możliwości, takich jak na przykład [parsowanie argumentów](https://flask-restful.readthedocs.io/en/latest/reqparse.html), które są wysyłane przez użytkownika na serwer (np. danych nowego użytkownika)."
   ]
  },
  {
   "cell_type": "markdown",
   "metadata": {},
   "source": [
    "Jak mogliśmy zauważyć wykonując powyższe zadania, zaletami korzystania z `REST API` jest mniejsza ilość kodu oraz wszechstronność rozwiązania. Dzięki `REST API` nie jesteśmy przywiązani do wyświetlania danych w kodzie stron HTML - na przykład możemy pobierać dane z `REST API` w aplikacji mobilnej. Ponadto, aby dokonać operacji na którymś z zasobów, np. na jednym użytkowniku, wysyłamy o wiele mniej danych między klientem a serwerem co jest dużą zaletą w przypadku urządzeń mobilnych."
   ]
  },
  {
   "cell_type": "markdown",
   "metadata": {},
   "source": [
    "Ponadto możemy w ten sposób wysyłać dane do predykcji między serwisami, a następnie wysyłać odpowiedzi. Dane nie muszą być widoczne, więc nie muszą występować jako tabelki `HTML`, natomiast dzięki wysyłaniu ich poprzez `REST API` dokładnie znamy ich strukturę co bardzo przyspiesza ich parsowanie."
   ]
  }
 ],
 "metadata": {
  "kernelspec": {
   "display_name": "Python 3",
   "language": "python",
   "name": "python3"
  },
  "language_info": {
   "codemirror_mode": {
    "name": "ipython",
    "version": 3
   },
   "file_extension": ".py",
   "mimetype": "text/x-python",
   "name": "python",
   "nbconvert_exporter": "python",
   "pygments_lexer": "ipython3",
   "version": "3.7.4"
  }
 },
 "nbformat": 4,
 "nbformat_minor": 4
}
