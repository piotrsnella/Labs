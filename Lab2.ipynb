{
 "cells": [
  {
   "cell_type": "code",
   "execution_count": 17,
   "metadata": {},
   "outputs": [],
   "source": [
    "from sqlalchemy import create_engine\n",
    "# https://sqlalchemy-utils.readthedocs.io/en/latest/index.html\n",
    "from sqlalchemy_utils.functions import database_exists, create_database\n",
    "\n",
    "# różne connection strings dla różnych baz\n",
    "# więcej przykładów na https://docs.sqlalchemy.org/en/14/core/engines.html#database-urls\n",
    "\n",
    "# sqlite\n",
    "# baza w piku, linux/mac\n",
    "# SQLITE_DATABASE_URL=\"sqlite://///home/jakub/baza2.db\"\n",
    "SQLITE_DATABASE_URL=r\"sqlite:///C:\\PythonScripts\\SpyderScripts\\Jakub Tomczak\\lab2\\Base.db\"\n",
    "\n",
    "def create_database_if_doesn_exist(engine):\n",
    "    if not database_exists(engine.url):\n",
    "        create_database(engine.url)\n",
    "\n",
    "def create_connection(connection_url: str, debug_sql: bool = True):\n",
    "    url = connection_url\n",
    "    engine = create_engine(url, echo=debug_sql)\n",
    "\n",
    "    # creates database if doesn't exist\n",
    "    create_database_if_doesn_exist(engine)\n",
    "    return engine"
   ]
  },
  {
   "cell_type": "code",
   "execution_count": 18,
   "metadata": {},
   "outputs": [],
   "source": [
    "engine = create_connection(connection_url=SQLITE_DATABASE_URL, debug_sql=False)\n"
   ]
  },
  {
   "cell_type": "code",
   "execution_count": 19,
   "metadata": {},
   "outputs": [],
   "source": [
    "from sqlalchemy.ext.declarative import declarative_base\n",
    "Base = declarative_base()"
   ]
  },
  {
   "cell_type": "code",
   "execution_count": 23,
   "metadata": {},
   "outputs": [],
   "source": [
    "from sqlalchemy import Column, Integer, String\n",
    "from typing import List\n",
    "from pydantic import BaseModel\n",
    "\n",
    "class User(Base):\n",
    "    # specjalny atrybut (ważna jest jej nazwa - taka konwencja),\n",
    "    # informuje SQLAlchemy na jaką tablicę ma mapować klasę User\n",
    "    __tablename__ = \"users\"\n",
    "\n",
    "    # id użytkownika, jest kluczem podstawowym, co oznacza, że\n",
    "    # żaden inny użytkownik nie może mieć takiego samego id\n",
    "    id = Column(Integer, primary_key=True, index=True, unique=True)\n",
    "    first_name = Column(String(30))\n",
    "    last_name = Column(String(30))\n",
    "    age = Column(Integer)\n",
    "\n",
    "    # reprezentacja naszej klasy = metoda podobna do __str__\n",
    "    def __repr__(self):\n",
    "        return f'<User(id={self.id}, first_name={self.first_name}, last_name={self.last_name}, age={self.age})>'"
   ]
  },
  {
   "cell_type": "code",
   "execution_count": 24,
   "metadata": {},
   "outputs": [
    {
     "data": {
      "text/plain": [
       "Table('users', MetaData(bind=None), Column('id', Integer(), table=<users>, primary_key=True, nullable=False), Column('first_name', String(length=30), table=<users>), Column('last_name', String(length=30), table=<users>), Column('age', Integer(), table=<users>), schema=None)"
      ]
     },
     "execution_count": 24,
     "metadata": {},
     "output_type": "execute_result"
    }
   ],
   "source": [
    "User.__table__\n"
   ]
  },
  {
   "cell_type": "code",
   "execution_count": 25,
   "metadata": {},
   "outputs": [
    {
     "name": "stdout",
     "output_type": "stream",
     "text": [
      "<User(id=None, first_name=Jan, last_name=Kowalski, age=21)>\n",
      "<User(id=None, first_name=Jan, last_name=Kowalski, age=20)>\n"
     ]
    }
   ],
   "source": [
    "użytkownik = {\n",
    "    \"first_name\": \"Jan\",\n",
    "    \"last_name\": \"Kowalski\",\n",
    "    \"age\": 21\n",
    "}\n",
    "jan = User(**użytkownik)\n",
    "print(jan)\n",
    "\n",
    "jan = User(first_name=\"Jan\", last_name=\"Kowalski\", age=20)\n",
    "print(jan)\n"
   ]
  },
  {
   "cell_type": "code",
   "execution_count": 26,
   "metadata": {},
   "outputs": [],
   "source": [
    "# tworzy tabele z listy tabels jeżeli nie istniały w bazie\n",
    "tables = [User.__table__]\n",
    "Base.metadata.create_all(engine, tables)"
   ]
  },
  {
   "cell_type": "code",
   "execution_count": 27,
   "metadata": {},
   "outputs": [],
   "source": [
    "from sqlalchemy.orm import sessionmaker\n",
    "Session = sessionmaker(bind=engine)\n",
    "session = Session(autocommit=False)\n"
   ]
  },
  {
   "cell_type": "code",
   "execution_count": 28,
   "metadata": {},
   "outputs": [
    {
     "name": "stdout",
     "output_type": "stream",
     "text": [
      "<User(id=None, first_name=Jan, last_name=Kowalski, age=20)>\n"
     ]
    },
    {
     "data": {
      "text/plain": [
       "IdentitySet([<User(id=None, first_name=Jan, last_name=Kowalski, age=20)>])"
      ]
     },
     "execution_count": 28,
     "metadata": {},
     "output_type": "execute_result"
    }
   ],
   "source": [
    "print(jan)\n",
    "session.add(jan)\n",
    "# użytkownik nie jest jeszcze dodany do bazy\n",
    "# session.new przechowuje zbiór obiektów które mają być doane do bazy\n",
    "session.new"
   ]
  },
  {
   "cell_type": "code",
   "execution_count": 29,
   "metadata": {},
   "outputs": [
    {
     "name": "stdout",
     "output_type": "stream",
     "text": [
      "<User(id=1, first_name=Jan, last_name=Kowalski, age=20)>\n"
     ]
    }
   ],
   "source": [
    "session.commit()\n",
    "print(jan)"
   ]
  },
  {
   "cell_type": "code",
   "execution_count": 30,
   "metadata": {},
   "outputs": [],
   "source": [
    "users = [\n",
    "    ('Andrzej', 'Nowak', 10),\n",
    "    ('Janina', 'Nowak', 12),\n",
    "    ('Anna', 'Kowalska', 33),\n",
    "    ('Jan', 'Nowak', 30)\n",
    "]\n",
    "session.add_all([User(first_name=f_name, last_name=l_name, age=age) for f_name, l_name, age in users])\n",
    "session.commit()"
   ]
  },
  {
   "cell_type": "code",
   "execution_count": 31,
   "metadata": {},
   "outputs": [
    {
     "name": "stdout",
     "output_type": "stream",
     "text": [
      "ID: 1, Imię Jan, nazwisko Kowalski\n",
      "ID: 2, Imię Andrzej, nazwisko Nowak\n",
      "ID: 3, Imię Janina, nazwisko Nowak\n",
      "ID: 4, Imię Anna, nazwisko Kowalska\n",
      "ID: 5, Imię Jan, nazwisko Nowak\n"
     ]
    }
   ],
   "source": [
    "users = session.query(User).all()\n",
    "for user in users:\n",
    "    print(f'ID: {user.id}, Imię {user.first_name}, nazwisko {user.last_name}')\n"
   ]
  },
  {
   "cell_type": "code",
   "execution_count": 32,
   "metadata": {},
   "outputs": [
    {
     "name": "stdout",
     "output_type": "stream",
     "text": [
      "[<User(id=1, first_name=Jan, last_name=Kowalski, age=20)>, <User(id=2, first_name=Andrzej, last_name=Nowak, age=10)>, <User(id=3, first_name=Janina, last_name=Nowak, age=12)>, <User(id=4, first_name=Anna, last_name=Kowalska, age=33)>, <User(id=5, first_name=Jan, last_name=Nowak, age=30)>]\n"
     ]
    }
   ],
   "source": [
    "# pobieranie wszystkich wyników\n",
    "users = session.query(User).all()\n",
    "print(users)"
   ]
  },
  {
   "cell_type": "code",
   "execution_count": 33,
   "metadata": {},
   "outputs": [
    {
     "name": "stdout",
     "output_type": "stream",
     "text": [
      "2:\tAndrzej\n",
      "4:\tAnna\n",
      "1:\tJan\n",
      "5:\tJan\n",
      "3:\tJanina\n"
     ]
    }
   ],
   "source": [
    "# sortowanie danych\n",
    "users_sorted_by_last_first_name = session.query(User).order_by(User.first_name)\n",
    "for user in users_sorted_by_last_first_name:\n",
    "    print(f'{user.id}:\\t{user.first_name}')"
   ]
  },
  {
   "cell_type": "code",
   "execution_count": 34,
   "metadata": {},
   "outputs": [
    {
     "name": "stdout",
     "output_type": "stream",
     "text": [
      "wszystkie nazwiska\n",
      " [('Kowalski',), ('Nowak',), ('Nowak',), ('Kowalska',), ('Nowak',)]\n",
      "********************\n",
      "wszystkie unikatowe nazwiska\n",
      " [('Kowalski',), ('Nowak',), ('Kowalska',)]\n"
     ]
    }
   ],
   "source": [
    "# filtrowanie wyników - pobranie tylko nazwisk użytkowników\n",
    "last_names = session.query(User.last_name).all()\n",
    "print('wszystkie nazwiska\\n', last_names)\n",
    "print('*'*20)\n",
    "# lepiej wykonywać jak najwięcej możliwych operacji po stronie bazy danych\n",
    "# w ramach zapytania - mniej danych do przesyłania\n",
    "last_names = session.query(User.last_name).distinct().all()\n",
    "print('wszystkie unikatowe nazwiska\\n', last_names)"
   ]
  },
  {
   "cell_type": "code",
   "execution_count": 35,
   "metadata": {},
   "outputs": [
    {
     "name": "stdout",
     "output_type": "stream",
     "text": [
      "iterowanie po rezultatach\n",
      "<class 'sqlalchemy.util._collections.result'> \t ('Kowalski',)\n",
      "<class 'sqlalchemy.util._collections.result'> \t ('Nowak',)\n",
      "<class 'sqlalchemy.util._collections.result'> \t ('Kowalska',)\n",
      "********************\n",
      "<class 'str'> \t Kowalski\n",
      "<class 'str'> \t Nowak\n",
      "<class 'str'> \t Kowalska\n"
     ]
    }
   ],
   "source": [
    "# typ zwracanych rezultatów to result\n",
    "last_names = session.query(User.last_name).distinct().all()\n",
    "print('iterowanie po rezultatach')\n",
    "for last_name in last_names:\n",
    "    print(type(last_name), '\\t', last_name)\n",
    "\n",
    "print('*'*20)\n",
    "for last_name, in last_names:\n",
    "    print(type(last_name), '\\t', last_name)"
   ]
  },
  {
   "cell_type": "code",
   "execution_count": 36,
   "metadata": {},
   "outputs": [
    {
     "name": "stdout",
     "output_type": "stream",
     "text": [
      "Kobiety w bazie danych użytkowników\n",
      "3:\tJanina\n",
      "4:\tAnna\n",
      "Andrzeje i Janiny w bazie danych\n",
      "2:\tAndrzej\n",
      "3:\tJanina\n",
      "Andrzeje i Janiny w bazie danych\n",
      "1:\tJan Kowalski\n"
     ]
    }
   ],
   "source": [
    "women_in_last_names = session.query(User).filter(User.first_name.like('%a'))\n",
    "print('Kobiety w bazie danych użytkowników')\n",
    "for user in women_in_last_names:\n",
    "    print(f'{user.id}:\\t{user.first_name}')\n",
    "\n",
    "# możliwość użycia operatora _in\n",
    "print('Andrzeje i Janiny w bazie danych')\n",
    "filtered_query = session.query(User).filter(User.first_name.in_(['Andrzej', 'Janina']))\n",
    "for user in filtered_query:\n",
    "    print(f'{user.id}:\\t{user.first_name}')\n",
    "\n",
    "print('Andrzeje i Janiny w bazie danych')\n",
    "and_conditions = session.query(User).filter(User.first_name == 'Jan', User.last_name == 'Kowalski')\n",
    "for user in and_conditions:\n",
    "    print(f'{user.id}:\\t{user.first_name} {user.last_name}')"
   ]
  },
  {
   "cell_type": "code",
   "execution_count": 37,
   "metadata": {},
   "outputs": [
    {
     "name": "stdout",
     "output_type": "stream",
     "text": [
      "Aktualizacja użytkowników\n",
      "przed aktualizacją <User(id=1, first_name=Jan, last_name=Kowalski, age=20)>\n",
      "po aktualizacji <User(id=1, first_name=Janeczek, last_name=Kowalski, age=20)>\n"
     ]
    }
   ],
   "source": [
    "session.rollback()\n",
    "print('Aktualizacja użytkowników')\n",
    "# chcemy znaleźć pierwszego jana w tabeli i go zaktualizować\n",
    "user_to_be_updated = session.query(User).filter(User.first_name=='Jan').first()\n",
    "print('przed aktualizacją', user_to_be_updated)\n",
    "user_to_be_updated.first_name = 'Janeczek'\n",
    "session.add(user_to_be_updated)\n",
    "session.commit()\n",
    "\n",
    "# po aktualizacji nie możemy go znaleźć po imieniu, bo je zmieniliśmy na janeczek\n",
    "# więc używamy jego id\n",
    "id = user_to_be_updated.id\n",
    "user_to_be_updated = session.query(User).filter(User.id == id).first()\n",
    "print('po aktualizacji', user_to_be_updated)"
   ]
  },
  {
   "cell_type": "code",
   "execution_count": 38,
   "metadata": {},
   "outputs": [
    {
     "name": "stdout",
     "output_type": "stream",
     "text": [
      "przed usunięciem <User(id=5, first_name=Jan, last_name=Nowak, age=30)>\n",
      "po usunięciu None\n"
     ]
    }
   ],
   "source": [
    "# usuwanie użytkowników\n",
    "user_to_be_deleted = session.query(User).filter(User.first_name == 'Jan').first()\n",
    "print('przed usunięciem', user_to_be_deleted)\n",
    "\n",
    "if type(user_to_be_deleted) is list:\n",
    "    for r in user_to_be_deleted:\n",
    "        session.delete(r)\n",
    "        session.commit()\n",
    "else:\n",
    "    session.delete(user_to_be_deleted)\n",
    "    session.commit()\n",
    "\n",
    "user_to_be_deleted = session.query(User).filter(User.first_name == 'Jan').first()\n",
    "print('po usunięciu', user_to_be_deleted)"
   ]
  },
  {
   "cell_type": "code",
   "execution_count": null,
   "metadata": {},
   "outputs": [],
   "source": []
  }
 ],
 "metadata": {
  "kernelspec": {
   "display_name": "Python 3",
   "language": "python",
   "name": "python3"
  },
  "language_info": {
   "codemirror_mode": {
    "name": "ipython",
    "version": 3
   },
   "file_extension": ".py",
   "mimetype": "text/x-python",
   "name": "python",
   "nbconvert_exporter": "python",
   "pygments_lexer": "ipython3",
   "version": "3.7.4"
  }
 },
 "nbformat": 4,
 "nbformat_minor": 2
}
