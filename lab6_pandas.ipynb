{
 "cells": [
  {
   "cell_type": "markdown",
   "metadata": {
    "slideshow": {
     "slide_type": "slide"
    }
   },
   "source": [
    "# Python w analizie ekonomicznej - poziom zaawansowany, warsztaty\n",
    "## Temat: Pandas - wstęp.\n",
    "\n",
    "(odpowiedzi do zadań w czasie prezentacji proszę udzielać na czacie)\n",
    "\n",
    "Jakub Tomczak *jakub.tomczak@cdv.pl*"
   ]
  },
  {
   "cell_type": "markdown",
   "metadata": {
    "slideshow": {
     "slide_type": "slide"
    }
   },
   "source": [
    "Agenda:\n",
    "\n",
    "    * wstęp do biblioteki Pandas\n",
    "\n",
    "Wymagane biblioteki:\n",
    "\n",
    "    * pandas\n",
    "    * matplotlib"
   ]
  },
  {
   "cell_type": "markdown",
   "metadata": {
    "slideshow": {
     "slide_type": "slide"
    }
   },
   "source": [
    "[Pandas](https://pandas.pydata.org/pandas-docs/stable/index.html) - open source'owa (kod jest dostępny online) biblioteka dostarczająca wysokiej wydajności oraz łatwe w użyciu struktury danych oraz narzędzia do analizy danych w języku python."
   ]
  },
  {
   "cell_type": "markdown",
   "metadata": {
    "slideshow": {
     "slide_type": "subslide"
    }
   },
   "source": [
    "### Instalacja modułu `pandas` oraz `matplotlib`\n",
    "\n",
    "Otwieramy konsolę `Anaconda prompt`.\n",
    "<img src='imgs/anaconda_prompt.png' width=\"500\" />"
   ]
  },
  {
   "cell_type": "markdown",
   "metadata": {
    "slideshow": {
     "slide_type": "subslide"
    }
   },
   "source": [
    "oraz instalujemy obie biblioteki za pomocą komendy\n",
    "```bash\n",
    "    pip install pandas matplotlib\n",
    "```\n",
    "\n",
    "w przypadku Anacondy powinny być one już zainstalowany.\n",
    "\n",
    "Przechodzimy do folderu z plikiem `lab6_pandas.ipynb` w konsoli (za pomocą komendy `cd /d folder_z_plikiem_lab6_pandas.ipynb`).\n",
    "W konsoli wpisujemy `jupyter notebook` - powinna otworzyć się przeglądarka internetowa wraz z wyświetloną listą pliku z folderu w którym byliśmy podczas uruchamiania komendy.\n",
    "Otwieramy plik `lab6_pandas.ipynb`.\n",
    "<img src=\"imgs/anaconda_jupyter notebook.png\" width=600 />"
   ]
  },
  {
   "cell_type": "markdown",
   "metadata": {
    "slideshow": {
     "slide_type": "subslide"
    }
   },
   "source": [
    "<img src=\"imgs/anaconda_jupyter notebook1.png\" width=800 />"
   ]
  },
  {
   "cell_type": "markdown",
   "metadata": {
    "slideshow": {
     "slide_type": "subslide"
    }
   },
   "source": [
    "Moduł `Pandas` będziemy importowali zawsze poprzez komendę"
   ]
  },
  {
   "cell_type": "code",
   "execution_count": 1,
   "metadata": {
    "slideshow": {
     "slide_type": "-"
    }
   },
   "outputs": [],
   "source": [
    "import pandas as pd"
   ]
  },
  {
   "cell_type": "markdown",
   "metadata": {
    "slideshow": {
     "slide_type": "-"
    }
   },
   "source": [
    "wówczas wszystkie funkcje dostępne w module `pandas` będziemy wywoływali poprzez kod `pd.[nazwa funkcji]`."
   ]
  },
  {
   "cell_type": "markdown",
   "metadata": {
    "slideshow": {
     "slide_type": "subslide"
    }
   },
   "source": [
    "Moduł `matplotlib` będzie nam potrzebny do rysowania wykresów, importujemy go za pomocą polecenia"
   ]
  },
  {
   "cell_type": "code",
   "execution_count": 2,
   "metadata": {
    "slideshow": {
     "slide_type": "-"
    }
   },
   "outputs": [],
   "source": [
    "import matplotlib"
   ]
  },
  {
   "cell_type": "markdown",
   "metadata": {
    "slideshow": {
     "slide_type": "slide"
    }
   },
   "source": [
    "## Wczytywanie danych\n",
    "\n",
    "Pandas obsługuje wiele znanych formatów plików takich jak `csv`, `hdf5`, `json`, `html`, binarne, `sql`, `python pickle`, `SAS` ...\n",
    "\n",
    "Na dzisiejszych zajęciach zajmiemy się plikami `csv` . W archiwum z plikami do tych zajęć znajduje się folder `files`, a w nim plik `cars.csv`.\n",
    "\n",
    "To ten sam plik, który jest w przykładowych zbiorach do projektu.\n",
    "```python\n",
    "dataset = pd.read_csv('files/cars.csv', sep=';')\n",
    "```"
   ]
  },
  {
   "cell_type": "code",
   "execution_count": 3,
   "metadata": {
    "slideshow": {
     "slide_type": "-"
    }
   },
   "outputs": [],
   "source": [
    "dataset = pd.read_csv('files/cars.csv', sep=';')"
   ]
  },
  {
   "cell_type": "markdown",
   "metadata": {
    "slideshow": {
     "slide_type": "subslide"
    }
   },
   "source": [
    "Wyświetlmy wczytany zbiór danych. Zauważmy, że oprócz kolumny `id`, przed nią, znajdują się indeksy wierszy - to indeksowanie jest automatycznie dodane przez pandas."
   ]
  },
  {
   "cell_type": "code",
   "execution_count": 4,
   "metadata": {
    "slideshow": {
     "slide_type": "-"
    }
   },
   "outputs": [
    {
     "data": {
      "text/html": [
       "<div>\n",
       "<style scoped>\n",
       "    .dataframe tbody tr th:only-of-type {\n",
       "        vertical-align: middle;\n",
       "    }\n",
       "\n",
       "    .dataframe tbody tr th {\n",
       "        vertical-align: top;\n",
       "    }\n",
       "\n",
       "    .dataframe thead th {\n",
       "        text-align: right;\n",
       "    }\n",
       "</style>\n",
       "<table border=\"1\" class=\"dataframe\">\n",
       "  <thead>\n",
       "    <tr style=\"text-align: right;\">\n",
       "      <th></th>\n",
       "      <th>id</th>\n",
       "      <th>marka</th>\n",
       "      <th>model</th>\n",
       "      <th>typ samochodu</th>\n",
       "      <th>rocznik</th>\n",
       "      <th>cena</th>\n",
       "      <th>powypadkowy</th>\n",
       "      <th>data i godzina dodania ogłoszenia</th>\n",
       "    </tr>\n",
       "  </thead>\n",
       "  <tbody>\n",
       "    <tr>\n",
       "      <th>0</th>\n",
       "      <td>1</td>\n",
       "      <td>ford</td>\n",
       "      <td>focus</td>\n",
       "      <td>osobowy</td>\n",
       "      <td>2010</td>\n",
       "      <td>20500</td>\n",
       "      <td>0</td>\n",
       "      <td>20-05-2020 14:20</td>\n",
       "    </tr>\n",
       "    <tr>\n",
       "      <th>1</th>\n",
       "      <td>2</td>\n",
       "      <td>opel</td>\n",
       "      <td>NaN</td>\n",
       "      <td>osobowy</td>\n",
       "      <td>2014</td>\n",
       "      <td>13 000</td>\n",
       "      <td>0</td>\n",
       "      <td>19-05-2020 10:21</td>\n",
       "    </tr>\n",
       "    <tr>\n",
       "      <th>2</th>\n",
       "      <td>3</td>\n",
       "      <td>opel</td>\n",
       "      <td>adam</td>\n",
       "      <td>osobowy</td>\n",
       "      <td>2018</td>\n",
       "      <td>35 000</td>\n",
       "      <td>0</td>\n",
       "      <td>11-05-2020 13:21</td>\n",
       "    </tr>\n",
       "    <tr>\n",
       "      <th>3</th>\n",
       "      <td>4</td>\n",
       "      <td>opel</td>\n",
       "      <td>corsa</td>\n",
       "      <td>osobowy</td>\n",
       "      <td>2014</td>\n",
       "      <td>13 000</td>\n",
       "      <td>1</td>\n",
       "      <td>19-05-2020 08:21</td>\n",
       "    </tr>\n",
       "    <tr>\n",
       "      <th>4</th>\n",
       "      <td>5</td>\n",
       "      <td>opel</td>\n",
       "      <td>astra</td>\n",
       "      <td>osobowy</td>\n",
       "      <td>2007</td>\n",
       "      <td>8 900</td>\n",
       "      <td>1</td>\n",
       "      <td>14-05-2020 09:36</td>\n",
       "    </tr>\n",
       "    <tr>\n",
       "      <th>5</th>\n",
       "      <td>6</td>\n",
       "      <td>skoda</td>\n",
       "      <td>octavia</td>\n",
       "      <td>osobowy</td>\n",
       "      <td>2014</td>\n",
       "      <td>22 000</td>\n",
       "      <td>0</td>\n",
       "      <td>21-04-2020 11:54</td>\n",
       "    </tr>\n",
       "    <tr>\n",
       "      <th>6</th>\n",
       "      <td>7</td>\n",
       "      <td>audi</td>\n",
       "      <td>a4</td>\n",
       "      <td>osobowy</td>\n",
       "      <td>2008</td>\n",
       "      <td>38 000</td>\n",
       "      <td>0</td>\n",
       "      <td>22-04-2020 01:12</td>\n",
       "    </tr>\n",
       "    <tr>\n",
       "      <th>7</th>\n",
       "      <td>8</td>\n",
       "      <td>volkswagen</td>\n",
       "      <td>golf</td>\n",
       "      <td>osobowy</td>\n",
       "      <td>2005</td>\n",
       "      <td>12 900</td>\n",
       "      <td>1</td>\n",
       "      <td>11-05-2020 15:48</td>\n",
       "    </tr>\n",
       "    <tr>\n",
       "      <th>8</th>\n",
       "      <td>9</td>\n",
       "      <td>mercedes-benz</td>\n",
       "      <td>klasa s 500</td>\n",
       "      <td>osobowy</td>\n",
       "      <td>2001</td>\n",
       "      <td>41 900</td>\n",
       "      <td>0</td>\n",
       "      <td>30-04-2020 14:52</td>\n",
       "    </tr>\n",
       "    <tr>\n",
       "      <th>9</th>\n",
       "      <td>10</td>\n",
       "      <td>renault</td>\n",
       "      <td>master</td>\n",
       "      <td>dostawczy</td>\n",
       "      <td>2016</td>\n",
       "      <td>37 314</td>\n",
       "      <td>0</td>\n",
       "      <td>13-04-2020 11:11</td>\n",
       "    </tr>\n",
       "    <tr>\n",
       "      <th>10</th>\n",
       "      <td>11</td>\n",
       "      <td>volkswagen</td>\n",
       "      <td>craft</td>\n",
       "      <td>dostawczy</td>\n",
       "      <td>2003</td>\n",
       "      <td>6 900</td>\n",
       "      <td>0</td>\n",
       "      <td>20-05-2020 10:19</td>\n",
       "    </tr>\n",
       "    <tr>\n",
       "      <th>11</th>\n",
       "      <td>12</td>\n",
       "      <td>citroen</td>\n",
       "      <td>NaN</td>\n",
       "      <td>dostawczy</td>\n",
       "      <td>2017</td>\n",
       "      <td>48 780</td>\n",
       "      <td>0</td>\n",
       "      <td>10-05-2020 08:40</td>\n",
       "    </tr>\n",
       "    <tr>\n",
       "      <th>12</th>\n",
       "      <td>13</td>\n",
       "      <td>man</td>\n",
       "      <td>NaN</td>\n",
       "      <td>ciężarowy</td>\n",
       "      <td>2004</td>\n",
       "      <td>22 000</td>\n",
       "      <td>1</td>\n",
       "      <td>13-05-2020 10:15</td>\n",
       "    </tr>\n",
       "    <tr>\n",
       "      <th>13</th>\n",
       "      <td>14</td>\n",
       "      <td>daf</td>\n",
       "      <td>xf 460</td>\n",
       "      <td>ciężarowy</td>\n",
       "      <td>2016</td>\n",
       "      <td>142 000</td>\n",
       "      <td>0</td>\n",
       "      <td>26-05-2020 11:45</td>\n",
       "    </tr>\n",
       "  </tbody>\n",
       "</table>\n",
       "</div>"
      ],
      "text/plain": [
       "    id          marka        model typ samochodu  rocznik     cena  \\\n",
       "0    1           ford        focus       osobowy     2010    20500   \n",
       "1    2           opel          NaN       osobowy     2014   13 000   \n",
       "2    3           opel         adam       osobowy     2018   35 000   \n",
       "3    4           opel        corsa       osobowy     2014   13 000   \n",
       "4    5           opel        astra       osobowy     2007    8 900   \n",
       "5    6          skoda      octavia       osobowy     2014   22 000   \n",
       "6    7           audi           a4       osobowy     2008   38 000   \n",
       "7    8     volkswagen         golf       osobowy     2005   12 900   \n",
       "8    9  mercedes-benz  klasa s 500       osobowy     2001   41 900   \n",
       "9   10        renault       master     dostawczy     2016   37 314   \n",
       "10  11     volkswagen        craft     dostawczy     2003    6 900   \n",
       "11  12        citroen          NaN     dostawczy     2017   48 780   \n",
       "12  13            man          NaN     ciężarowy     2004   22 000   \n",
       "13  14            daf       xf 460     ciężarowy     2016  142 000   \n",
       "\n",
       "    powypadkowy data i godzina dodania ogłoszenia  \n",
       "0             0                  20-05-2020 14:20  \n",
       "1             0                  19-05-2020 10:21  \n",
       "2             0                  11-05-2020 13:21  \n",
       "3             1                  19-05-2020 08:21  \n",
       "4             1                  14-05-2020 09:36  \n",
       "5             0                  21-04-2020 11:54  \n",
       "6             0                  22-04-2020 01:12  \n",
       "7             1                  11-05-2020 15:48  \n",
       "8             0                  30-04-2020 14:52  \n",
       "9             0                  13-04-2020 11:11  \n",
       "10            0                  20-05-2020 10:19  \n",
       "11            0                  10-05-2020 08:40  \n",
       "12            1                  13-05-2020 10:15  \n",
       "13            0                  26-05-2020 11:45  "
      ]
     },
     "execution_count": 4,
     "metadata": {},
     "output_type": "execute_result"
    }
   ],
   "source": [
    "dataset"
   ]
  },
  {
   "cell_type": "markdown",
   "metadata": {
    "slideshow": {
     "slide_type": "subslide"
    }
   },
   "source": [
    "pandas wczytując dane tworzy obiekt `DataFrame`, który przechowuje kolumny z danymi jako typ `Series`."
   ]
  },
  {
   "cell_type": "code",
   "execution_count": 5,
   "metadata": {
    "slideshow": {
     "slide_type": "-"
    }
   },
   "outputs": [
    {
     "name": "stdout",
     "output_type": "stream",
     "text": [
      "Typ wczytanych danych <class 'pandas.core.frame.DataFrame'>\n",
      "Typ kolumny id <class 'pandas.core.series.Series'>\n"
     ]
    }
   ],
   "source": [
    "print('Typ wczytanych danych', type(dataset))\n",
    "print('Typ kolumny id', type(dataset['id']))"
   ]
  },
  {
   "cell_type": "markdown",
   "metadata": {
    "slideshow": {
     "slide_type": "subslide"
    }
   },
   "source": [
    "Aby nie wczytywać całego zbioru (niektóre zbiory mają po kilka milionów wierszy!), tylko pierwsze kilka wierszy, aby sprawdzić, czy dane są poprawnie załadowane, możemy użyć funkcji `head` na ramce danych"
   ]
  },
  {
   "cell_type": "code",
   "execution_count": 6,
   "metadata": {
    "slideshow": {
     "slide_type": "-"
    }
   },
   "outputs": [
    {
     "data": {
      "text/html": [
       "<div>\n",
       "<style scoped>\n",
       "    .dataframe tbody tr th:only-of-type {\n",
       "        vertical-align: middle;\n",
       "    }\n",
       "\n",
       "    .dataframe tbody tr th {\n",
       "        vertical-align: top;\n",
       "    }\n",
       "\n",
       "    .dataframe thead th {\n",
       "        text-align: right;\n",
       "    }\n",
       "</style>\n",
       "<table border=\"1\" class=\"dataframe\">\n",
       "  <thead>\n",
       "    <tr style=\"text-align: right;\">\n",
       "      <th></th>\n",
       "      <th>id</th>\n",
       "      <th>marka</th>\n",
       "      <th>model</th>\n",
       "      <th>typ samochodu</th>\n",
       "      <th>rocznik</th>\n",
       "      <th>cena</th>\n",
       "      <th>powypadkowy</th>\n",
       "      <th>data i godzina dodania ogłoszenia</th>\n",
       "    </tr>\n",
       "  </thead>\n",
       "  <tbody>\n",
       "    <tr>\n",
       "      <th>0</th>\n",
       "      <td>1</td>\n",
       "      <td>ford</td>\n",
       "      <td>focus</td>\n",
       "      <td>osobowy</td>\n",
       "      <td>2010</td>\n",
       "      <td>20500</td>\n",
       "      <td>0</td>\n",
       "      <td>20-05-2020 14:20</td>\n",
       "    </tr>\n",
       "    <tr>\n",
       "      <th>1</th>\n",
       "      <td>2</td>\n",
       "      <td>opel</td>\n",
       "      <td>NaN</td>\n",
       "      <td>osobowy</td>\n",
       "      <td>2014</td>\n",
       "      <td>13 000</td>\n",
       "      <td>0</td>\n",
       "      <td>19-05-2020 10:21</td>\n",
       "    </tr>\n",
       "    <tr>\n",
       "      <th>2</th>\n",
       "      <td>3</td>\n",
       "      <td>opel</td>\n",
       "      <td>adam</td>\n",
       "      <td>osobowy</td>\n",
       "      <td>2018</td>\n",
       "      <td>35 000</td>\n",
       "      <td>0</td>\n",
       "      <td>11-05-2020 13:21</td>\n",
       "    </tr>\n",
       "    <tr>\n",
       "      <th>3</th>\n",
       "      <td>4</td>\n",
       "      <td>opel</td>\n",
       "      <td>corsa</td>\n",
       "      <td>osobowy</td>\n",
       "      <td>2014</td>\n",
       "      <td>13 000</td>\n",
       "      <td>1</td>\n",
       "      <td>19-05-2020 08:21</td>\n",
       "    </tr>\n",
       "    <tr>\n",
       "      <th>4</th>\n",
       "      <td>5</td>\n",
       "      <td>opel</td>\n",
       "      <td>astra</td>\n",
       "      <td>osobowy</td>\n",
       "      <td>2007</td>\n",
       "      <td>8 900</td>\n",
       "      <td>1</td>\n",
       "      <td>14-05-2020 09:36</td>\n",
       "    </tr>\n",
       "  </tbody>\n",
       "</table>\n",
       "</div>"
      ],
      "text/plain": [
       "   id marka  model typ samochodu  rocznik    cena  powypadkowy  \\\n",
       "0   1  ford  focus       osobowy     2010   20500            0   \n",
       "1   2  opel    NaN       osobowy     2014  13 000            0   \n",
       "2   3  opel   adam       osobowy     2018  35 000            0   \n",
       "3   4  opel  corsa       osobowy     2014  13 000            1   \n",
       "4   5  opel  astra       osobowy     2007   8 900            1   \n",
       "\n",
       "  data i godzina dodania ogłoszenia  \n",
       "0                  20-05-2020 14:20  \n",
       "1                  19-05-2020 10:21  \n",
       "2                  11-05-2020 13:21  \n",
       "3                  19-05-2020 08:21  \n",
       "4                  14-05-2020 09:36  "
      ]
     },
     "execution_count": 6,
     "metadata": {},
     "output_type": "execute_result"
    }
   ],
   "source": [
    "dataset.head()"
   ]
  },
  {
   "cell_type": "markdown",
   "metadata": {
    "slideshow": {
     "slide_type": "subslide"
    }
   },
   "source": [
    "Wszystkie dane zostały poprawnie wczytane. \n",
    "Pandas potrafi samemu na podstawie danych w kolumnach ustawić odpowiedni typ danych w danej kolumnie - zgaduje, należy więc sprawdzić jakie typy przypisał wczytanym kolumnom.\n",
    "Sprawdźmy jakie są typy kolumn za pomocą funkcji `info`, którą wywołujemy na zbiorze danych."
   ]
  },
  {
   "cell_type": "code",
   "execution_count": 7,
   "metadata": {
    "slideshow": {
     "slide_type": "-"
    }
   },
   "outputs": [
    {
     "name": "stdout",
     "output_type": "stream",
     "text": [
      "<class 'pandas.core.frame.DataFrame'>\n",
      "RangeIndex: 14 entries, 0 to 13\n",
      "Data columns (total 8 columns):\n",
      " #   Column                             Non-Null Count  Dtype \n",
      "---  ------                             --------------  ----- \n",
      " 0   id                                 14 non-null     int64 \n",
      " 1   marka                              14 non-null     object\n",
      " 2   model                              11 non-null     object\n",
      " 3   typ samochodu                      14 non-null     object\n",
      " 4   rocznik                            14 non-null     int64 \n",
      " 5   cena                               14 non-null     object\n",
      " 6   powypadkowy                        14 non-null     int64 \n",
      " 7   data i godzina dodania ogłoszenia  14 non-null     object\n",
      "dtypes: int64(3), object(5)\n",
      "memory usage: 1.0+ KB\n"
     ]
    }
   ],
   "source": [
    "dataset.info()"
   ]
  },
  {
   "cell_type": "markdown",
   "metadata": {
    "slideshow": {
     "slide_type": "-"
    }
   },
   "source": [
    "Widzimy, że pandas potrafi również podliczyć liczbę pustych wartości już na etapie wczytywania danych - kolumna `Non-Null Count` dla wiersza `model`, gdzie mamy liczbę 11 co oznacza, że są 3 puste wartości (mają typ Null)."
   ]
  },
  {
   "cell_type": "markdown",
   "metadata": {
    "slideshow": {
     "slide_type": "subslide"
    }
   },
   "source": [
    "## Podstawowe informacje o ramce danych\n",
    "\n",
    "Wyświetlanie podsumowana danych liczbowych"
   ]
  },
  {
   "cell_type": "code",
   "execution_count": 8,
   "metadata": {
    "slideshow": {
     "slide_type": "-"
    }
   },
   "outputs": [
    {
     "data": {
      "text/html": [
       "<div>\n",
       "<style scoped>\n",
       "    .dataframe tbody tr th:only-of-type {\n",
       "        vertical-align: middle;\n",
       "    }\n",
       "\n",
       "    .dataframe tbody tr th {\n",
       "        vertical-align: top;\n",
       "    }\n",
       "\n",
       "    .dataframe thead th {\n",
       "        text-align: right;\n",
       "    }\n",
       "</style>\n",
       "<table border=\"1\" class=\"dataframe\">\n",
       "  <thead>\n",
       "    <tr style=\"text-align: right;\">\n",
       "      <th></th>\n",
       "      <th>id</th>\n",
       "      <th>rocznik</th>\n",
       "      <th>powypadkowy</th>\n",
       "    </tr>\n",
       "  </thead>\n",
       "  <tbody>\n",
       "    <tr>\n",
       "      <th>count</th>\n",
       "      <td>14.0000</td>\n",
       "      <td>14.000000</td>\n",
       "      <td>14.000000</td>\n",
       "    </tr>\n",
       "    <tr>\n",
       "      <th>mean</th>\n",
       "      <td>7.5000</td>\n",
       "      <td>2010.500000</td>\n",
       "      <td>0.285714</td>\n",
       "    </tr>\n",
       "    <tr>\n",
       "      <th>std</th>\n",
       "      <td>4.1833</td>\n",
       "      <td>5.774613</td>\n",
       "      <td>0.468807</td>\n",
       "    </tr>\n",
       "    <tr>\n",
       "      <th>min</th>\n",
       "      <td>1.0000</td>\n",
       "      <td>2001.000000</td>\n",
       "      <td>0.000000</td>\n",
       "    </tr>\n",
       "    <tr>\n",
       "      <th>25%</th>\n",
       "      <td>4.2500</td>\n",
       "      <td>2005.500000</td>\n",
       "      <td>0.000000</td>\n",
       "    </tr>\n",
       "    <tr>\n",
       "      <th>50%</th>\n",
       "      <td>7.5000</td>\n",
       "      <td>2012.000000</td>\n",
       "      <td>0.000000</td>\n",
       "    </tr>\n",
       "    <tr>\n",
       "      <th>75%</th>\n",
       "      <td>10.7500</td>\n",
       "      <td>2015.500000</td>\n",
       "      <td>0.750000</td>\n",
       "    </tr>\n",
       "    <tr>\n",
       "      <th>max</th>\n",
       "      <td>14.0000</td>\n",
       "      <td>2018.000000</td>\n",
       "      <td>1.000000</td>\n",
       "    </tr>\n",
       "  </tbody>\n",
       "</table>\n",
       "</div>"
      ],
      "text/plain": [
       "            id      rocznik  powypadkowy\n",
       "count  14.0000    14.000000    14.000000\n",
       "mean    7.5000  2010.500000     0.285714\n",
       "std     4.1833     5.774613     0.468807\n",
       "min     1.0000  2001.000000     0.000000\n",
       "25%     4.2500  2005.500000     0.000000\n",
       "50%     7.5000  2012.000000     0.000000\n",
       "75%    10.7500  2015.500000     0.750000\n",
       "max    14.0000  2018.000000     1.000000"
      ]
     },
     "execution_count": 8,
     "metadata": {},
     "output_type": "execute_result"
    }
   ],
   "source": [
    "dataset.describe()"
   ]
  },
  {
   "cell_type": "markdown",
   "metadata": {
    "slideshow": {
     "slide_type": "subslide"
    }
   },
   "source": [
    "Rozmiar ramki (liczba wierszy x liczba kolumn)"
   ]
  },
  {
   "cell_type": "code",
   "execution_count": 9,
   "metadata": {
    "slideshow": {
     "slide_type": "-"
    }
   },
   "outputs": [
    {
     "data": {
      "text/plain": [
       "(14, 8)"
      ]
     },
     "execution_count": 9,
     "metadata": {},
     "output_type": "execute_result"
    }
   ],
   "source": [
    "dataset.shape"
   ]
  },
  {
   "cell_type": "markdown",
   "metadata": {
    "slideshow": {
     "slide_type": "fragment"
    }
   },
   "source": [
    "Liczba wierszy - metoda `len` znana z pythona."
   ]
  },
  {
   "cell_type": "code",
   "execution_count": 10,
   "metadata": {
    "slideshow": {
     "slide_type": "-"
    }
   },
   "outputs": [
    {
     "data": {
      "text/plain": [
       "14"
      ]
     },
     "execution_count": 10,
     "metadata": {},
     "output_type": "execute_result"
    }
   ],
   "source": [
    "len(dataset)"
   ]
  },
  {
   "cell_type": "markdown",
   "metadata": {
    "slideshow": {
     "slide_type": "subslide"
    }
   },
   "source": [
    "Nazwy kolumn"
   ]
  },
  {
   "cell_type": "code",
   "execution_count": 11,
   "metadata": {
    "slideshow": {
     "slide_type": "-"
    }
   },
   "outputs": [
    {
     "data": {
      "text/plain": [
       "Index(['id', 'marka', 'model', 'typ samochodu', 'rocznik', 'cena',\n",
       "       'powypadkowy', 'data i godzina dodania ogłoszenia'],\n",
       "      dtype='object')"
      ]
     },
     "execution_count": 11,
     "metadata": {},
     "output_type": "execute_result"
    }
   ],
   "source": [
    "dataset.columns"
   ]
  },
  {
   "cell_type": "markdown",
   "metadata": {
    "slideshow": {
     "slide_type": "subslide"
    }
   },
   "source": [
    "Przechodzenie po ramce danych"
   ]
  },
  {
   "cell_type": "code",
   "execution_count": 12,
   "metadata": {
    "slideshow": {
     "slide_type": "-"
    }
   },
   "outputs": [
    {
     "name": "stdout",
     "output_type": "stream",
     "text": [
      "id\n",
      "marka\n",
      "model\n",
      "typ samochodu\n",
      "rocznik\n",
      "cena\n",
      "powypadkowy\n",
      "data i godzina dodania ogłoszenia\n"
     ]
    }
   ],
   "source": [
    "for row in dataset:\n",
    "    print(row)"
   ]
  },
  {
   "cell_type": "markdown",
   "metadata": {
    "slideshow": {
     "slide_type": "-"
    }
   },
   "source": [
    "chyba nie o to nam chodziło..."
   ]
  },
  {
   "cell_type": "code",
   "execution_count": 13,
   "metadata": {
    "slideshow": {
     "slide_type": "subslide"
    }
   },
   "outputs": [
    {
     "name": "stdout",
     "output_type": "stream",
     "text": [
      "indeks 0 \n",
      " <class 'pandas.core.series.Series'> \n",
      " id                                                  1\n",
      "marka                                            ford\n",
      "model                                           focus\n",
      "typ samochodu                                 osobowy\n",
      "rocznik                                          2010\n",
      "cena                                            20500\n",
      "powypadkowy                                         0\n",
      "data i godzina dodania ogłoszenia    20-05-2020 14:20\n",
      "Name: 0, dtype: object\n",
      "indeks 1 \n",
      " <class 'pandas.core.series.Series'> \n",
      " id                                                  2\n",
      "marka                                            opel\n",
      "model                                             NaN\n",
      "typ samochodu                                 osobowy\n",
      "rocznik                                          2014\n",
      "cena                                           13 000\n",
      "powypadkowy                                         0\n",
      "data i godzina dodania ogłoszenia    19-05-2020 10:21\n",
      "Name: 1, dtype: object\n",
      "indeks 2 \n",
      " <class 'pandas.core.series.Series'> \n",
      " id                                                  3\n",
      "marka                                            opel\n",
      "model                                            adam\n",
      "typ samochodu                                 osobowy\n",
      "rocznik                                          2018\n",
      "cena                                           35 000\n",
      "powypadkowy                                         0\n",
      "data i godzina dodania ogłoszenia    11-05-2020 13:21\n",
      "Name: 2, dtype: object\n",
      "indeks 3 \n",
      " <class 'pandas.core.series.Series'> \n",
      " id                                                  4\n",
      "marka                                            opel\n",
      "model                                           corsa\n",
      "typ samochodu                                 osobowy\n",
      "rocznik                                          2014\n",
      "cena                                           13 000\n",
      "powypadkowy                                         1\n",
      "data i godzina dodania ogłoszenia    19-05-2020 08:21\n",
      "Name: 3, dtype: object\n",
      "indeks 4 \n",
      " <class 'pandas.core.series.Series'> \n",
      " id                                                  5\n",
      "marka                                            opel\n",
      "model                                           astra\n",
      "typ samochodu                                 osobowy\n",
      "rocznik                                          2007\n",
      "cena                                            8 900\n",
      "powypadkowy                                         1\n",
      "data i godzina dodania ogłoszenia    14-05-2020 09:36\n",
      "Name: 4, dtype: object\n",
      "indeks 5 \n",
      " <class 'pandas.core.series.Series'> \n",
      " id                                                  6\n",
      "marka                                           skoda\n",
      "model                                         octavia\n",
      "typ samochodu                                 osobowy\n",
      "rocznik                                          2014\n",
      "cena                                           22 000\n",
      "powypadkowy                                         0\n",
      "data i godzina dodania ogłoszenia    21-04-2020 11:54\n",
      "Name: 5, dtype: object\n",
      "indeks 6 \n",
      " <class 'pandas.core.series.Series'> \n",
      " id                                                  7\n",
      "marka                                            audi\n",
      "model                                              a4\n",
      "typ samochodu                                 osobowy\n",
      "rocznik                                          2008\n",
      "cena                                           38 000\n",
      "powypadkowy                                         0\n",
      "data i godzina dodania ogłoszenia    22-04-2020 01:12\n",
      "Name: 6, dtype: object\n",
      "indeks 7 \n",
      " <class 'pandas.core.series.Series'> \n",
      " id                                                  8\n",
      "marka                                      volkswagen\n",
      "model                                            golf\n",
      "typ samochodu                                 osobowy\n",
      "rocznik                                          2005\n",
      "cena                                           12 900\n",
      "powypadkowy                                         1\n",
      "data i godzina dodania ogłoszenia    11-05-2020 15:48\n",
      "Name: 7, dtype: object\n",
      "indeks 8 \n",
      " <class 'pandas.core.series.Series'> \n",
      " id                                                  9\n",
      "marka                                   mercedes-benz\n",
      "model                                     klasa s 500\n",
      "typ samochodu                                 osobowy\n",
      "rocznik                                          2001\n",
      "cena                                           41 900\n",
      "powypadkowy                                         0\n",
      "data i godzina dodania ogłoszenia    30-04-2020 14:52\n",
      "Name: 8, dtype: object\n",
      "indeks 9 \n",
      " <class 'pandas.core.series.Series'> \n",
      " id                                                 10\n",
      "marka                                         renault\n",
      "model                                          master\n",
      "typ samochodu                               dostawczy\n",
      "rocznik                                          2016\n",
      "cena                                           37 314\n",
      "powypadkowy                                         0\n",
      "data i godzina dodania ogłoszenia    13-04-2020 11:11\n",
      "Name: 9, dtype: object\n",
      "indeks 10 \n",
      " <class 'pandas.core.series.Series'> \n",
      " id                                                 11\n",
      "marka                                      volkswagen\n",
      "model                                           craft\n",
      "typ samochodu                               dostawczy\n",
      "rocznik                                          2003\n",
      "cena                                            6 900\n",
      "powypadkowy                                         0\n",
      "data i godzina dodania ogłoszenia    20-05-2020 10:19\n",
      "Name: 10, dtype: object\n",
      "indeks 11 \n",
      " <class 'pandas.core.series.Series'> \n",
      " id                                                 12\n",
      "marka                                         citroen\n",
      "model                                             NaN\n",
      "typ samochodu                               dostawczy\n",
      "rocznik                                          2017\n",
      "cena                                           48 780\n",
      "powypadkowy                                         0\n",
      "data i godzina dodania ogłoszenia    10-05-2020 08:40\n",
      "Name: 11, dtype: object\n",
      "indeks 12 \n",
      " <class 'pandas.core.series.Series'> \n",
      " id                                                 13\n",
      "marka                                             man\n",
      "model                                             NaN\n",
      "typ samochodu                               ciężarowy\n",
      "rocznik                                          2004\n",
      "cena                                           22 000\n",
      "powypadkowy                                         1\n",
      "data i godzina dodania ogłoszenia    13-05-2020 10:15\n",
      "Name: 12, dtype: object\n",
      "indeks 13 \n",
      " <class 'pandas.core.series.Series'> \n",
      " id                                                 14\n",
      "marka                                             daf\n",
      "model                                          xf 460\n",
      "typ samochodu                               ciężarowy\n",
      "rocznik                                          2016\n",
      "cena                                          142 000\n",
      "powypadkowy                                         0\n",
      "data i godzina dodania ogłoszenia    26-05-2020 11:45\n",
      "Name: 13, dtype: object\n"
     ]
    }
   ],
   "source": [
    "for index, row in dataset.iterrows():\n",
    "    print('indeks', index, '\\n', type(row), '\\n', row)"
   ]
  },
  {
   "cell_type": "markdown",
   "metadata": {
    "slideshow": {
     "slide_type": "-"
    }
   },
   "source": [
    "Poznamy też inne metody przechodzenia po wierszach."
   ]
  },
  {
   "cell_type": "markdown",
   "metadata": {
    "slideshow": {
     "slide_type": "subslide"
    }
   },
   "source": [
    "Zadanie 1 (1pkt.)\n",
    "\n",
    "Wczytaj zbiór danych `wine` który jest dostępny pod adresem [https://archive.ics.uci.edu/ml/machine-learning-databases/wine-quality/winequality-white.csv](https://archive.ics.uci.edu/ml/machine-learning-databases/wine-quality/winequality-white.csv), natomiast opis tego zbioru znajduje się [stronie UCI - popularnej stronie z przykładowymi zbiorami danych](https://archive.ics.uci.edu/ml/datasets/Wine+Quality). Pandas obsługuje pobieranie danych z internetu - nie trzeba pobierać zbioru ręcznie tylko w metodzie `read_csv` zamiast ścieżki do pliku wstawić link do zbioru. Ustaw odpowieni separator kolumn. Wyświetl wczytane dane.\n"
   ]
  },
  {
   "cell_type": "markdown",
   "metadata": {
    "slideshow": {
     "slide_type": "subslide"
    }
   },
   "source": [
    "Zadanie 2 (1pkt.)\n",
    "\n",
    "Wypisz informacje dotyczące zbioru `wine` (metoda `info`), sprawdź, czy zostały ustawione poprawne typy danych. Następnie wypisz podstawowe dane dotyczące zbioru za pomocą metody `describe`."
   ]
  },
  {
   "cell_type": "markdown",
   "metadata": {
    "slideshow": {
     "slide_type": "subslide"
    }
   },
   "source": [
    "## Wyświetlanie danych z ramki danych `DataFrame`\n",
    "\n",
    "Chcąc wyświetlić tylko część danych z ramki możemy skorzystać z kilku metod. Niestety nie możemy użyć indeksowania jak w zwykłej liście."
   ]
  },
  {
   "cell_type": "code",
   "execution_count": 22,
   "metadata": {
    "slideshow": {
     "slide_type": "-"
    }
   },
   "outputs": [
    {
     "name": "stdout",
     "output_type": "stream",
     "text": [
      "Nie powiodło się wyświetlanie wiersza 0\n"
     ]
    }
   ],
   "source": [
    "try:\n",
    "    dataset[0]\n",
    "except KeyError as e:\n",
    "    print('Nie powiodło się wyświetlanie wiersza 0')"
   ]
  },
  {
   "cell_type": "markdown",
   "metadata": {
    "slideshow": {
     "slide_type": "subslide"
    }
   },
   "source": [
    "Aby wyświetlić pierwszy wiersz możemy użyć metody `iloc`, która pozwala na wybieranie wierszy oraz kolumn z ramki danych na postawie ich lokalizacji."
   ]
  },
  {
   "cell_type": "code",
   "execution_count": 23,
   "metadata": {
    "slideshow": {
     "slide_type": "-"
    }
   },
   "outputs": [
    {
     "data": {
      "text/plain": [
       "id                                                  1\n",
       "marka                                            ford\n",
       "model                                           focus\n",
       "typ samochodu                                 osobowy\n",
       "rocznik                                          2010\n",
       "cena                                            20500\n",
       "powypadkowy                                         0\n",
       "data i godzina dodania ogłoszenia    20-05-2020 14:20\n",
       "Name: 0, dtype: object"
      ]
     },
     "execution_count": 23,
     "metadata": {},
     "output_type": "execute_result"
    }
   ],
   "source": [
    "# wybranie całego pierwszego wiersza, : oznacza wybranie wszystkich kolumn - podobnie jak w numpy\n",
    "dataset.iloc[0, :]"
   ]
  },
  {
   "cell_type": "code",
   "execution_count": 26,
   "metadata": {
    "slideshow": {
     "slide_type": "-"
    }
   },
   "outputs": [
    {
     "name": "stdout",
     "output_type": "stream",
     "text": [
      "wybranie całego pierwszego wiersza, a z niego tylko kolumn `marka` oraz `cena`\n",
      "marka     ford\n",
      "cena     20500\n",
      "Name: 0, dtype: object\n",
      "\n",
      "niestety nie możemy używać nazw kolumn korzystając z iloc\n",
      "Nie udało się pobrać kolumn marka oraz cena, powód: .iloc requires numeric indexers, got ['marka' 'cena']\n"
     ]
    }
   ],
   "source": [
    "print('wybranie całego pierwszego wiersza, a z niego tylko kolumn `marka` oraz `cena`')\n",
    "print(dataset.iloc[0, [1, 5]])\n",
    "print()\n",
    "print('niestety nie możemy używać nazw kolumn korzystając z iloc')\n",
    "try:\n",
    "    dataset.iloc[0, ['marka', 'cena']]\n",
    "except IndexError as e:\n",
    "    print('Nie udało się pobrać kolumn marka oraz cena, powód:', e)"
   ]
  },
  {
   "cell_type": "markdown",
   "metadata": {
    "slideshow": {
     "slide_type": "subslide"
    }
   },
   "source": [
    "Możemy natomiast wybrać zakres wierszy oraz zakres kolumn korzystając z podobnej metody jak w przypadku macierzy w `numpy`, czy list pythonowych."
   ]
  },
  {
   "cell_type": "code",
   "execution_count": 27,
   "metadata": {
    "slideshow": {
     "slide_type": "-"
    }
   },
   "outputs": [
    {
     "data": {
      "text/html": [
       "<div>\n",
       "<style scoped>\n",
       "    .dataframe tbody tr th:only-of-type {\n",
       "        vertical-align: middle;\n",
       "    }\n",
       "\n",
       "    .dataframe tbody tr th {\n",
       "        vertical-align: top;\n",
       "    }\n",
       "\n",
       "    .dataframe thead th {\n",
       "        text-align: right;\n",
       "    }\n",
       "</style>\n",
       "<table border=\"1\" class=\"dataframe\">\n",
       "  <thead>\n",
       "    <tr style=\"text-align: right;\">\n",
       "      <th></th>\n",
       "      <th>marka</th>\n",
       "      <th>model</th>\n",
       "    </tr>\n",
       "  </thead>\n",
       "  <tbody>\n",
       "    <tr>\n",
       "      <th>2</th>\n",
       "      <td>opel</td>\n",
       "      <td>adam</td>\n",
       "    </tr>\n",
       "    <tr>\n",
       "      <th>4</th>\n",
       "      <td>opel</td>\n",
       "      <td>astra</td>\n",
       "    </tr>\n",
       "    <tr>\n",
       "      <th>6</th>\n",
       "      <td>audi</td>\n",
       "      <td>a4</td>\n",
       "    </tr>\n",
       "  </tbody>\n",
       "</table>\n",
       "</div>"
      ],
      "text/plain": [
       "  marka  model\n",
       "2  opel   adam\n",
       "4  opel  astra\n",
       "6  audi     a4"
      ]
     },
     "execution_count": 27,
     "metadata": {},
     "output_type": "execute_result"
    }
   ],
   "source": [
    "# wyświetl co drugi wiersz od 3 do 8 (wyłącznie) a z nich weź tylko kolumny od 2-giej do 4 (wyłącznie)\n",
    "dataset.iloc[2:8:2, 1:3]"
   ]
  },
  {
   "cell_type": "markdown",
   "metadata": {
    "slideshow": {
     "slide_type": "-"
    }
   },
   "source": [
    "Dzięki metodzie `iloc` możemy łatwiej przechodzić po wierszach naszej ramki danych."
   ]
  },
  {
   "cell_type": "code",
   "execution_count": 28,
   "metadata": {
    "slideshow": {
     "slide_type": "subslide"
    }
   },
   "outputs": [
    {
     "name": "stdout",
     "output_type": "stream",
     "text": [
      "ford\n",
      "opel\n",
      "opel\n",
      "opel\n",
      "opel\n",
      "skoda\n",
      "audi\n",
      "volkswagen\n",
      "mercedes-benz\n",
      "renault\n",
      "volkswagen\n",
      "citroen\n",
      "man\n",
      "daf\n"
     ]
    }
   ],
   "source": [
    "liczba_wierszy = dataset.shape[0]\n",
    "# lub\n",
    "liczba_wierszy = len(dataset)\n",
    "\n",
    "for index in range(liczba_wierszy):\n",
    "    print(dataset.iloc[index].marka)"
   ]
  },
  {
   "cell_type": "markdown",
   "metadata": {
    "slideshow": {
     "slide_type": "subslide"
    }
   },
   "source": [
    "Inną metodą do wyświetlania tylko wycinka danych jest metoda `loc`, bazuje ona jednak na indeksach dodanych przez pandas. Atutem tej metody jest możliwość wybierania kolumn po ich nazwach."
   ]
  },
  {
   "cell_type": "code",
   "execution_count": 29,
   "metadata": {
    "slideshow": {
     "slide_type": "-"
    }
   },
   "outputs": [
    {
     "data": {
      "text/html": [
       "<div>\n",
       "<style scoped>\n",
       "    .dataframe tbody tr th:only-of-type {\n",
       "        vertical-align: middle;\n",
       "    }\n",
       "\n",
       "    .dataframe tbody tr th {\n",
       "        vertical-align: top;\n",
       "    }\n",
       "\n",
       "    .dataframe thead th {\n",
       "        text-align: right;\n",
       "    }\n",
       "</style>\n",
       "<table border=\"1\" class=\"dataframe\">\n",
       "  <thead>\n",
       "    <tr style=\"text-align: right;\">\n",
       "      <th></th>\n",
       "      <th>marka</th>\n",
       "      <th>model</th>\n",
       "    </tr>\n",
       "  </thead>\n",
       "  <tbody>\n",
       "    <tr>\n",
       "      <th>0</th>\n",
       "      <td>ford</td>\n",
       "      <td>focus</td>\n",
       "    </tr>\n",
       "    <tr>\n",
       "      <th>1</th>\n",
       "      <td>opel</td>\n",
       "      <td>NaN</td>\n",
       "    </tr>\n",
       "    <tr>\n",
       "      <th>2</th>\n",
       "      <td>opel</td>\n",
       "      <td>adam</td>\n",
       "    </tr>\n",
       "    <tr>\n",
       "      <th>3</th>\n",
       "      <td>opel</td>\n",
       "      <td>corsa</td>\n",
       "    </tr>\n",
       "    <tr>\n",
       "      <th>4</th>\n",
       "      <td>opel</td>\n",
       "      <td>astra</td>\n",
       "    </tr>\n",
       "    <tr>\n",
       "      <th>5</th>\n",
       "      <td>skoda</td>\n",
       "      <td>octavia</td>\n",
       "    </tr>\n",
       "    <tr>\n",
       "      <th>6</th>\n",
       "      <td>audi</td>\n",
       "      <td>a4</td>\n",
       "    </tr>\n",
       "    <tr>\n",
       "      <th>7</th>\n",
       "      <td>volkswagen</td>\n",
       "      <td>golf</td>\n",
       "    </tr>\n",
       "    <tr>\n",
       "      <th>8</th>\n",
       "      <td>mercedes-benz</td>\n",
       "      <td>klasa s 500</td>\n",
       "    </tr>\n",
       "    <tr>\n",
       "      <th>9</th>\n",
       "      <td>renault</td>\n",
       "      <td>master</td>\n",
       "    </tr>\n",
       "    <tr>\n",
       "      <th>10</th>\n",
       "      <td>volkswagen</td>\n",
       "      <td>craft</td>\n",
       "    </tr>\n",
       "    <tr>\n",
       "      <th>11</th>\n",
       "      <td>citroen</td>\n",
       "      <td>NaN</td>\n",
       "    </tr>\n",
       "    <tr>\n",
       "      <th>12</th>\n",
       "      <td>man</td>\n",
       "      <td>NaN</td>\n",
       "    </tr>\n",
       "    <tr>\n",
       "      <th>13</th>\n",
       "      <td>daf</td>\n",
       "      <td>xf 460</td>\n",
       "    </tr>\n",
       "  </tbody>\n",
       "</table>\n",
       "</div>"
      ],
      "text/plain": [
       "            marka        model\n",
       "0            ford        focus\n",
       "1            opel          NaN\n",
       "2            opel         adam\n",
       "3            opel        corsa\n",
       "4            opel        astra\n",
       "5           skoda      octavia\n",
       "6            audi           a4\n",
       "7      volkswagen         golf\n",
       "8   mercedes-benz  klasa s 500\n",
       "9         renault       master\n",
       "10     volkswagen        craft\n",
       "11        citroen          NaN\n",
       "12            man          NaN\n",
       "13            daf       xf 460"
      ]
     },
     "execution_count": 29,
     "metadata": {},
     "output_type": "execute_result"
    }
   ],
   "source": [
    "dataset.loc[:, ['marka', 'model']]"
   ]
  },
  {
   "cell_type": "code",
   "execution_count": 30,
   "metadata": {
    "slideshow": {
     "slide_type": "subslide"
    }
   },
   "outputs": [
    {
     "data": {
      "text/html": [
       "<div>\n",
       "<style scoped>\n",
       "    .dataframe tbody tr th:only-of-type {\n",
       "        vertical-align: middle;\n",
       "    }\n",
       "\n",
       "    .dataframe tbody tr th {\n",
       "        vertical-align: top;\n",
       "    }\n",
       "\n",
       "    .dataframe thead th {\n",
       "        text-align: right;\n",
       "    }\n",
       "</style>\n",
       "<table border=\"1\" class=\"dataframe\">\n",
       "  <thead>\n",
       "    <tr style=\"text-align: right;\">\n",
       "      <th></th>\n",
       "      <th>marka</th>\n",
       "      <th>model</th>\n",
       "    </tr>\n",
       "  </thead>\n",
       "  <tbody>\n",
       "    <tr>\n",
       "      <th>2</th>\n",
       "      <td>opel</td>\n",
       "      <td>adam</td>\n",
       "    </tr>\n",
       "    <tr>\n",
       "      <th>4</th>\n",
       "      <td>opel</td>\n",
       "      <td>astra</td>\n",
       "    </tr>\n",
       "    <tr>\n",
       "      <th>6</th>\n",
       "      <td>audi</td>\n",
       "      <td>a4</td>\n",
       "    </tr>\n",
       "    <tr>\n",
       "      <th>8</th>\n",
       "      <td>mercedes-benz</td>\n",
       "      <td>klasa s 500</td>\n",
       "    </tr>\n",
       "  </tbody>\n",
       "</table>\n",
       "</div>"
      ],
      "text/plain": [
       "           marka        model\n",
       "2           opel         adam\n",
       "4           opel        astra\n",
       "6           audi           a4\n",
       "8  mercedes-benz  klasa s 500"
      ]
     },
     "execution_count": 30,
     "metadata": {},
     "output_type": "execute_result"
    }
   ],
   "source": [
    "dataset.loc[2:8:2, ['marka', 'model']]"
   ]
  },
  {
   "cell_type": "markdown",
   "metadata": {
    "slideshow": {
     "slide_type": "subslide"
    }
   },
   "source": [
    "## Różnica między `.loc`, a `.iloc`\n",
    "\n",
    "W przypadku, gdy indeksy są po kolei nie ma różnicy między metodą `iloc` a `loc`, natomiast różnice pojawiają się, gdy usuniemy część danych i części z indeksów dodanych przez pandas nie będzie.\n",
    "Przykład"
   ]
  },
  {
   "cell_type": "code",
   "execution_count": 31,
   "metadata": {
    "slideshow": {
     "slide_type": "-"
    }
   },
   "outputs": [
    {
     "data": {
      "text/html": [
       "<div>\n",
       "<style scoped>\n",
       "    .dataframe tbody tr th:only-of-type {\n",
       "        vertical-align: middle;\n",
       "    }\n",
       "\n",
       "    .dataframe tbody tr th {\n",
       "        vertical-align: top;\n",
       "    }\n",
       "\n",
       "    .dataframe thead th {\n",
       "        text-align: right;\n",
       "    }\n",
       "</style>\n",
       "<table border=\"1\" class=\"dataframe\">\n",
       "  <thead>\n",
       "    <tr style=\"text-align: right;\">\n",
       "      <th></th>\n",
       "      <th>id</th>\n",
       "      <th>marka</th>\n",
       "      <th>model</th>\n",
       "      <th>typ samochodu</th>\n",
       "      <th>rocznik</th>\n",
       "      <th>cena</th>\n",
       "      <th>powypadkowy</th>\n",
       "      <th>data i godzina dodania ogłoszenia</th>\n",
       "    </tr>\n",
       "  </thead>\n",
       "  <tbody>\n",
       "    <tr>\n",
       "      <th>0</th>\n",
       "      <td>1</td>\n",
       "      <td>ford</td>\n",
       "      <td>focus</td>\n",
       "      <td>osobowy</td>\n",
       "      <td>2010</td>\n",
       "      <td>20500</td>\n",
       "      <td>0</td>\n",
       "      <td>20-05-2020 14:20</td>\n",
       "    </tr>\n",
       "    <tr>\n",
       "      <th>1</th>\n",
       "      <td>2</td>\n",
       "      <td>opel</td>\n",
       "      <td>NaN</td>\n",
       "      <td>osobowy</td>\n",
       "      <td>2014</td>\n",
       "      <td>13 000</td>\n",
       "      <td>0</td>\n",
       "      <td>19-05-2020 10:21</td>\n",
       "    </tr>\n",
       "    <tr>\n",
       "      <th>3</th>\n",
       "      <td>4</td>\n",
       "      <td>opel</td>\n",
       "      <td>corsa</td>\n",
       "      <td>osobowy</td>\n",
       "      <td>2014</td>\n",
       "      <td>13 000</td>\n",
       "      <td>1</td>\n",
       "      <td>19-05-2020 08:21</td>\n",
       "    </tr>\n",
       "    <tr>\n",
       "      <th>4</th>\n",
       "      <td>5</td>\n",
       "      <td>opel</td>\n",
       "      <td>astra</td>\n",
       "      <td>osobowy</td>\n",
       "      <td>2007</td>\n",
       "      <td>8 900</td>\n",
       "      <td>1</td>\n",
       "      <td>14-05-2020 09:36</td>\n",
       "    </tr>\n",
       "    <tr>\n",
       "      <th>5</th>\n",
       "      <td>6</td>\n",
       "      <td>skoda</td>\n",
       "      <td>octavia</td>\n",
       "      <td>osobowy</td>\n",
       "      <td>2014</td>\n",
       "      <td>22 000</td>\n",
       "      <td>0</td>\n",
       "      <td>21-04-2020 11:54</td>\n",
       "    </tr>\n",
       "  </tbody>\n",
       "</table>\n",
       "</div>"
      ],
      "text/plain": [
       "   id  marka    model typ samochodu  rocznik    cena  powypadkowy  \\\n",
       "0   1   ford    focus       osobowy     2010   20500            0   \n",
       "1   2   opel      NaN       osobowy     2014  13 000            0   \n",
       "3   4   opel    corsa       osobowy     2014  13 000            1   \n",
       "4   5   opel    astra       osobowy     2007   8 900            1   \n",
       "5   6  skoda  octavia       osobowy     2014  22 000            0   \n",
       "\n",
       "  data i godzina dodania ogłoszenia  \n",
       "0                  20-05-2020 14:20  \n",
       "1                  19-05-2020 10:21  \n",
       "3                  19-05-2020 08:21  \n",
       "4                  14-05-2020 09:36  \n",
       "5                  21-04-2020 11:54  "
      ]
     },
     "execution_count": 31,
     "metadata": {},
     "output_type": "execute_result"
    }
   ],
   "source": [
    "# tworzymy zbiór, który jest naszym zbiorem pojazdów ale bez wiersza z indeksem 2\n",
    "dataset_removed = dataset.drop(2)\n",
    "dataset_removed.head()"
   ]
  },
  {
   "cell_type": "markdown",
   "metadata": {
    "slideshow": {
     "slide_type": "subslide"
    }
   },
   "source": [
    "Próba pobrania wartości z indeksem 2 za pomocą metody `.loc`"
   ]
  },
  {
   "cell_type": "code",
   "execution_count": 34,
   "metadata": {
    "scrolled": false,
    "slideshow": {
     "slide_type": "-"
    }
   },
   "outputs": [
    {
     "name": "stdout",
     "output_type": "stream",
     "text": [
      "Nie udało się wyświetlić wiersza z indeksem 2\n"
     ]
    }
   ],
   "source": [
    "try:\n",
    "    dataset_removed.loc[2]\n",
    "except KeyError as e:\n",
    "    print('Nie udało się wyświetlić wiersza z indeksem 2')"
   ]
  },
  {
   "cell_type": "markdown",
   "metadata": {
    "slideshow": {
     "slide_type": "subslide"
    }
   },
   "source": [
    "Próba pobrania wiersza na pozycji 3-ciej"
   ]
  },
  {
   "cell_type": "code",
   "execution_count": 35,
   "metadata": {
    "slideshow": {
     "slide_type": "-"
    }
   },
   "outputs": [
    {
     "data": {
      "text/plain": [
       "id                                                  4\n",
       "marka                                            opel\n",
       "model                                           corsa\n",
       "typ samochodu                                 osobowy\n",
       "rocznik                                          2014\n",
       "cena                                           13 000\n",
       "powypadkowy                                         1\n",
       "data i godzina dodania ogłoszenia    19-05-2020 08:21\n",
       "Name: 3, dtype: object"
      ]
     },
     "execution_count": 35,
     "metadata": {},
     "output_type": "execute_result"
    }
   ],
   "source": [
    "dataset_removed.iloc[2]"
   ]
  },
  {
   "cell_type": "markdown",
   "metadata": {
    "slideshow": {
     "slide_type": "subslide"
    }
   },
   "source": [
    "Należy pamiętać o tej różnicy. Problem ten można obejść jeżeli resetujemy indeks danej ramki danych po każdym usunięciu danych za pomocą metody [reset_index](https://pandas.pydata.org/pandas-docs/stable/reference/api/pandas.DataFrame.reset_index.html#pandas.DataFrame.reset_index)"
   ]
  },
  {
   "cell_type": "code",
   "execution_count": 36,
   "metadata": {
    "slideshow": {
     "slide_type": "-"
    }
   },
   "outputs": [
    {
     "data": {
      "text/html": [
       "<div>\n",
       "<style scoped>\n",
       "    .dataframe tbody tr th:only-of-type {\n",
       "        vertical-align: middle;\n",
       "    }\n",
       "\n",
       "    .dataframe tbody tr th {\n",
       "        vertical-align: top;\n",
       "    }\n",
       "\n",
       "    .dataframe thead th {\n",
       "        text-align: right;\n",
       "    }\n",
       "</style>\n",
       "<table border=\"1\" class=\"dataframe\">\n",
       "  <thead>\n",
       "    <tr style=\"text-align: right;\">\n",
       "      <th></th>\n",
       "      <th>id</th>\n",
       "      <th>marka</th>\n",
       "      <th>model</th>\n",
       "      <th>typ samochodu</th>\n",
       "      <th>rocznik</th>\n",
       "      <th>cena</th>\n",
       "      <th>powypadkowy</th>\n",
       "      <th>data i godzina dodania ogłoszenia</th>\n",
       "    </tr>\n",
       "  </thead>\n",
       "  <tbody>\n",
       "    <tr>\n",
       "      <th>0</th>\n",
       "      <td>1</td>\n",
       "      <td>ford</td>\n",
       "      <td>focus</td>\n",
       "      <td>osobowy</td>\n",
       "      <td>2010</td>\n",
       "      <td>20500</td>\n",
       "      <td>0</td>\n",
       "      <td>20-05-2020 14:20</td>\n",
       "    </tr>\n",
       "    <tr>\n",
       "      <th>1</th>\n",
       "      <td>2</td>\n",
       "      <td>opel</td>\n",
       "      <td>NaN</td>\n",
       "      <td>osobowy</td>\n",
       "      <td>2014</td>\n",
       "      <td>13 000</td>\n",
       "      <td>0</td>\n",
       "      <td>19-05-2020 10:21</td>\n",
       "    </tr>\n",
       "    <tr>\n",
       "      <th>2</th>\n",
       "      <td>4</td>\n",
       "      <td>opel</td>\n",
       "      <td>corsa</td>\n",
       "      <td>osobowy</td>\n",
       "      <td>2014</td>\n",
       "      <td>13 000</td>\n",
       "      <td>1</td>\n",
       "      <td>19-05-2020 08:21</td>\n",
       "    </tr>\n",
       "    <tr>\n",
       "      <th>3</th>\n",
       "      <td>5</td>\n",
       "      <td>opel</td>\n",
       "      <td>astra</td>\n",
       "      <td>osobowy</td>\n",
       "      <td>2007</td>\n",
       "      <td>8 900</td>\n",
       "      <td>1</td>\n",
       "      <td>14-05-2020 09:36</td>\n",
       "    </tr>\n",
       "    <tr>\n",
       "      <th>4</th>\n",
       "      <td>6</td>\n",
       "      <td>skoda</td>\n",
       "      <td>octavia</td>\n",
       "      <td>osobowy</td>\n",
       "      <td>2014</td>\n",
       "      <td>22 000</td>\n",
       "      <td>0</td>\n",
       "      <td>21-04-2020 11:54</td>\n",
       "    </tr>\n",
       "  </tbody>\n",
       "</table>\n",
       "</div>"
      ],
      "text/plain": [
       "   id  marka    model typ samochodu  rocznik    cena  powypadkowy  \\\n",
       "0   1   ford    focus       osobowy     2010   20500            0   \n",
       "1   2   opel      NaN       osobowy     2014  13 000            0   \n",
       "2   4   opel    corsa       osobowy     2014  13 000            1   \n",
       "3   5   opel    astra       osobowy     2007   8 900            1   \n",
       "4   6  skoda  octavia       osobowy     2014  22 000            0   \n",
       "\n",
       "  data i godzina dodania ogłoszenia  \n",
       "0                  20-05-2020 14:20  \n",
       "1                  19-05-2020 10:21  \n",
       "2                  19-05-2020 08:21  \n",
       "3                  14-05-2020 09:36  \n",
       "4                  21-04-2020 11:54  "
      ]
     },
     "execution_count": 36,
     "metadata": {},
     "output_type": "execute_result"
    }
   ],
   "source": [
    "dataset_removed.reset_index(drop=True, inplace=True)\n",
    "dataset_removed.head()"
   ]
  },
  {
   "cell_type": "code",
   "execution_count": 37,
   "metadata": {
    "slideshow": {
     "slide_type": "subslide"
    }
   },
   "outputs": [
    {
     "data": {
      "text/plain": [
       "id                                                  4\n",
       "marka                                            opel\n",
       "model                                           corsa\n",
       "typ samochodu                                 osobowy\n",
       "rocznik                                          2014\n",
       "cena                                           13 000\n",
       "powypadkowy                                         1\n",
       "data i godzina dodania ogłoszenia    19-05-2020 08:21\n",
       "Name: 2, dtype: object"
      ]
     },
     "execution_count": 37,
     "metadata": {},
     "output_type": "execute_result"
    }
   ],
   "source": [
    "# po resecie indeksów już możemy pobierać wiersz z indeksem 2\n",
    "dataset_removed.loc[2]"
   ]
  },
  {
   "cell_type": "markdown",
   "metadata": {
    "slideshow": {
     "slide_type": "subslide"
    }
   },
   "source": [
    "Jeżeli chcemy wyciągać tylko kolumny z ramki danych możemy to zrobić z wykorzystaniem indeksowania ramki danych"
   ]
  },
  {
   "cell_type": "code",
   "execution_count": 38,
   "metadata": {
    "slideshow": {
     "slide_type": "-"
    }
   },
   "outputs": [
    {
     "data": {
      "text/html": [
       "<div>\n",
       "<style scoped>\n",
       "    .dataframe tbody tr th:only-of-type {\n",
       "        vertical-align: middle;\n",
       "    }\n",
       "\n",
       "    .dataframe tbody tr th {\n",
       "        vertical-align: top;\n",
       "    }\n",
       "\n",
       "    .dataframe thead th {\n",
       "        text-align: right;\n",
       "    }\n",
       "</style>\n",
       "<table border=\"1\" class=\"dataframe\">\n",
       "  <thead>\n",
       "    <tr style=\"text-align: right;\">\n",
       "      <th></th>\n",
       "      <th>cena</th>\n",
       "      <th>marka</th>\n",
       "    </tr>\n",
       "  </thead>\n",
       "  <tbody>\n",
       "    <tr>\n",
       "      <th>0</th>\n",
       "      <td>20500</td>\n",
       "      <td>ford</td>\n",
       "    </tr>\n",
       "    <tr>\n",
       "      <th>1</th>\n",
       "      <td>13 000</td>\n",
       "      <td>opel</td>\n",
       "    </tr>\n",
       "    <tr>\n",
       "      <th>2</th>\n",
       "      <td>35 000</td>\n",
       "      <td>opel</td>\n",
       "    </tr>\n",
       "    <tr>\n",
       "      <th>3</th>\n",
       "      <td>13 000</td>\n",
       "      <td>opel</td>\n",
       "    </tr>\n",
       "    <tr>\n",
       "      <th>4</th>\n",
       "      <td>8 900</td>\n",
       "      <td>opel</td>\n",
       "    </tr>\n",
       "    <tr>\n",
       "      <th>5</th>\n",
       "      <td>22 000</td>\n",
       "      <td>skoda</td>\n",
       "    </tr>\n",
       "    <tr>\n",
       "      <th>6</th>\n",
       "      <td>38 000</td>\n",
       "      <td>audi</td>\n",
       "    </tr>\n",
       "    <tr>\n",
       "      <th>7</th>\n",
       "      <td>12 900</td>\n",
       "      <td>volkswagen</td>\n",
       "    </tr>\n",
       "    <tr>\n",
       "      <th>8</th>\n",
       "      <td>41 900</td>\n",
       "      <td>mercedes-benz</td>\n",
       "    </tr>\n",
       "    <tr>\n",
       "      <th>9</th>\n",
       "      <td>37 314</td>\n",
       "      <td>renault</td>\n",
       "    </tr>\n",
       "    <tr>\n",
       "      <th>10</th>\n",
       "      <td>6 900</td>\n",
       "      <td>volkswagen</td>\n",
       "    </tr>\n",
       "    <tr>\n",
       "      <th>11</th>\n",
       "      <td>48 780</td>\n",
       "      <td>citroen</td>\n",
       "    </tr>\n",
       "    <tr>\n",
       "      <th>12</th>\n",
       "      <td>22 000</td>\n",
       "      <td>man</td>\n",
       "    </tr>\n",
       "    <tr>\n",
       "      <th>13</th>\n",
       "      <td>142 000</td>\n",
       "      <td>daf</td>\n",
       "    </tr>\n",
       "  </tbody>\n",
       "</table>\n",
       "</div>"
      ],
      "text/plain": [
       "       cena          marka\n",
       "0     20500           ford\n",
       "1    13 000           opel\n",
       "2    35 000           opel\n",
       "3    13 000           opel\n",
       "4     8 900           opel\n",
       "5    22 000          skoda\n",
       "6    38 000           audi\n",
       "7    12 900     volkswagen\n",
       "8    41 900  mercedes-benz\n",
       "9    37 314        renault\n",
       "10    6 900     volkswagen\n",
       "11   48 780        citroen\n",
       "12   22 000            man\n",
       "13  142 000            daf"
      ]
     },
     "execution_count": 38,
     "metadata": {},
     "output_type": "execute_result"
    }
   ],
   "source": [
    "dataset[['cena', 'marka']]"
   ]
  },
  {
   "cell_type": "markdown",
   "metadata": {
    "slideshow": {
     "slide_type": "subslide"
    }
   },
   "source": [
    "Albo podając nazwę kolumny bezpośrednio (uwaga, metoda tylko dla kolumn które mają poprawną nazwę jeżeli chodzi o nazewnictwo zmiennych w python). Metoda ta służy do wyciągania tylko 1 kolumny na raz."
   ]
  },
  {
   "cell_type": "code",
   "execution_count": 39,
   "metadata": {
    "slideshow": {
     "slide_type": "-"
    }
   },
   "outputs": [
    {
     "data": {
      "text/plain": [
       "0       20500\n",
       "1      13 000\n",
       "2      35 000\n",
       "3      13 000\n",
       "4       8 900\n",
       "5      22 000\n",
       "6      38 000\n",
       "7      12 900\n",
       "8      41 900\n",
       "9      37 314\n",
       "10      6 900\n",
       "11     48 780\n",
       "12     22 000\n",
       "13    142 000\n",
       "Name: cena, dtype: object"
      ]
     },
     "execution_count": 39,
     "metadata": {},
     "output_type": "execute_result"
    }
   ],
   "source": [
    "dataset.cena"
   ]
  },
  {
   "cell_type": "markdown",
   "metadata": {
    "slideshow": {
     "slide_type": "subslide"
    }
   },
   "source": [
    "## Wybieranie danych z ramki danych podsumowanie ([pełen opis w dokumentacji](https://pandas.pydata.org/pandas-docs/stable/user_guide/indexing.html))\n",
    "\n",
    "Metoda `.loc` - bazuje na indeksach (można używać nazwy kolumn)\n",
    "```python\n",
    "dataset.loc[2:10, ['cena', 'marka']] # wiersze od 3 do 11 wyłącznie, kolumny cena oraz marka\n",
    "dataset.loc[:, ['cena', 'marka']] # wszystki wiersze, kolumny cena oraz marka\n",
    "dataset.loc[dataset.rocznik > 2010, ['cena', 'marka', 'rocznik']] # wszystkie pojazdy, gdzie rocznik > 2010, tylko kolumny cena, marka oraz rocznik \n",
    "```\n",
    "\n",
    "Metoda `.iloc` - bazuje na pozycjach (nie można używać nazw kolumn, należy używać ich indeksów)\n",
    "```python\n",
    "dataset.iloc[2:10, [5, 1]] # wiersze od 3 do 11 wyłącznie, kolumny cena oraz marka\n",
    "dataset.iloc[:, [5, 1]] # wszystki wiersze, kolumny cena oraz marka\n",
    "dataset.iloc[:, 5].dtype # pobranie typu danych w kolumnie cena\n",
    "```"
   ]
  },
  {
   "cell_type": "markdown",
   "metadata": {
    "slideshow": {
     "slide_type": "subslide"
    }
   },
   "source": [
    "Metoda `slice'owania` - możliwość wyciągnięcia danej kolumny, lub wyciągnięcia wierszy spełniających warunek\n",
    "```python\n",
    "dataset['cena'] # kolumna cena\n",
    "dataset[['cena', 'marka']] # kolumny cena oraz marka\n",
    "dataset[dataset.rocznik > 2014] # wszystkie pojazdy, gdzie rocznik > 2014, nie ma możliwości podania wycinka kolumn\n",
    "```\n",
    "\n",
    "Metoda `'bezpośrednia'` - możliwość wyciągnięcia 1 kolumny, której nazwa jest poprawna w pythonie ([tutaj](https://docs.python.org/3/reference/lexical_analysis.html#identifiers) znajduje się wyjaśnienie co to znaczy, że nazwa jest poprawna), nazwa kolumny nie może mieć nazwy takiej jak na przykład `min`, czy `max`, które są nazwami metod w pandas. Metodę można łączyć z innymi metodami\n",
    "```python\n",
    "dataset.cena # kolumna cena\n",
    "dataset.loc[dataset.rocznik > 2010].cena # wszystkie pojazdy, gdzie rocznik > 2010, tylko kolumna cena\n",
    "dataset[dataset.rocznik > 2010].cena # wszystkie pojazdy, gdzie rocznik > 2010, tylko kolumna cena\n",
    "dataset.cena.dtype # pobranie typu danych w kolumnie cena\n",
    "```\n",
    "Metoda `.ix` - już nie używana (ale metoda ta jest czasami używana w tutorialach), powinna być zastępowana poprzez `.loc` oraz `.iloc`."
   ]
  },
  {
   "cell_type": "markdown",
   "metadata": {
    "slideshow": {
     "slide_type": "subslide"
    }
   },
   "source": [
    "Zadanie 3 (1pkt.)\n",
    "\n",
    "Wybierz 5 ostatnich pojazdów - wyświetl ich model, markę oraz cenę."
   ]
  },
  {
   "cell_type": "markdown",
   "metadata": {
    "slideshow": {
     "slide_type": "subslide"
    }
   },
   "source": [
    "## Wybieranie danych, które spełniają podane warunki\n",
    "\n",
    "W pandas możemy wybierać tylko te wiersze, które spełniają podane warunki. Jak widzieliśmy na poprzednim slajdzie możemy wybierać tylko te pojazdy, których rocznik jest większy od 2010, czy 2014. Przy definiowaniu warunków możemy używać operatorów `>`, `>=`, `<=`, `<`, `==`."
   ]
  },
  {
   "cell_type": "code",
   "execution_count": 41,
   "metadata": {
    "slideshow": {
     "slide_type": "fragment"
    }
   },
   "outputs": [
    {
     "data": {
      "text/html": [
       "<div>\n",
       "<style scoped>\n",
       "    .dataframe tbody tr th:only-of-type {\n",
       "        vertical-align: middle;\n",
       "    }\n",
       "\n",
       "    .dataframe tbody tr th {\n",
       "        vertical-align: top;\n",
       "    }\n",
       "\n",
       "    .dataframe thead th {\n",
       "        text-align: right;\n",
       "    }\n",
       "</style>\n",
       "<table border=\"1\" class=\"dataframe\">\n",
       "  <thead>\n",
       "    <tr style=\"text-align: right;\">\n",
       "      <th></th>\n",
       "      <th>id</th>\n",
       "      <th>marka</th>\n",
       "      <th>model</th>\n",
       "      <th>typ samochodu</th>\n",
       "      <th>rocznik</th>\n",
       "      <th>cena</th>\n",
       "      <th>powypadkowy</th>\n",
       "      <th>data i godzina dodania ogłoszenia</th>\n",
       "    </tr>\n",
       "  </thead>\n",
       "  <tbody>\n",
       "    <tr>\n",
       "      <th>3</th>\n",
       "      <td>4</td>\n",
       "      <td>opel</td>\n",
       "      <td>corsa</td>\n",
       "      <td>osobowy</td>\n",
       "      <td>2014</td>\n",
       "      <td>13 000</td>\n",
       "      <td>1</td>\n",
       "      <td>19-05-2020 08:21</td>\n",
       "    </tr>\n",
       "    <tr>\n",
       "      <th>4</th>\n",
       "      <td>5</td>\n",
       "      <td>opel</td>\n",
       "      <td>astra</td>\n",
       "      <td>osobowy</td>\n",
       "      <td>2007</td>\n",
       "      <td>8 900</td>\n",
       "      <td>1</td>\n",
       "      <td>14-05-2020 09:36</td>\n",
       "    </tr>\n",
       "    <tr>\n",
       "      <th>7</th>\n",
       "      <td>8</td>\n",
       "      <td>volkswagen</td>\n",
       "      <td>golf</td>\n",
       "      <td>osobowy</td>\n",
       "      <td>2005</td>\n",
       "      <td>12 900</td>\n",
       "      <td>1</td>\n",
       "      <td>11-05-2020 15:48</td>\n",
       "    </tr>\n",
       "    <tr>\n",
       "      <th>12</th>\n",
       "      <td>13</td>\n",
       "      <td>man</td>\n",
       "      <td>NaN</td>\n",
       "      <td>ciężarowy</td>\n",
       "      <td>2004</td>\n",
       "      <td>22 000</td>\n",
       "      <td>1</td>\n",
       "      <td>13-05-2020 10:15</td>\n",
       "    </tr>\n",
       "  </tbody>\n",
       "</table>\n",
       "</div>"
      ],
      "text/plain": [
       "    id       marka  model typ samochodu  rocznik    cena  powypadkowy  \\\n",
       "3    4        opel  corsa       osobowy     2014  13 000            1   \n",
       "4    5        opel  astra       osobowy     2007   8 900            1   \n",
       "7    8  volkswagen   golf       osobowy     2005  12 900            1   \n",
       "12  13         man    NaN     ciężarowy     2004  22 000            1   \n",
       "\n",
       "   data i godzina dodania ogłoszenia  \n",
       "3                   19-05-2020 08:21  \n",
       "4                   14-05-2020 09:36  \n",
       "7                   11-05-2020 15:48  \n",
       "12                  13-05-2020 10:15  "
      ]
     },
     "execution_count": 41,
     "metadata": {},
     "output_type": "execute_result"
    }
   ],
   "source": [
    "dataset.loc[dataset['powypadkowy'] == 1]"
   ]
  },
  {
   "cell_type": "markdown",
   "metadata": {
    "slideshow": {
     "slide_type": "subslide"
    }
   },
   "source": [
    "Jeżeli chcemy wybrać wartości, które są w jakimś przedziale - np. tylko marki `opel` oraz `ford` możemy użyć metody `.isin(lista)`"
   ]
  },
  {
   "cell_type": "code",
   "execution_count": 42,
   "metadata": {
    "slideshow": {
     "slide_type": "-"
    }
   },
   "outputs": [
    {
     "data": {
      "text/html": [
       "<div>\n",
       "<style scoped>\n",
       "    .dataframe tbody tr th:only-of-type {\n",
       "        vertical-align: middle;\n",
       "    }\n",
       "\n",
       "    .dataframe tbody tr th {\n",
       "        vertical-align: top;\n",
       "    }\n",
       "\n",
       "    .dataframe thead th {\n",
       "        text-align: right;\n",
       "    }\n",
       "</style>\n",
       "<table border=\"1\" class=\"dataframe\">\n",
       "  <thead>\n",
       "    <tr style=\"text-align: right;\">\n",
       "      <th></th>\n",
       "      <th>id</th>\n",
       "      <th>marka</th>\n",
       "      <th>model</th>\n",
       "      <th>typ samochodu</th>\n",
       "      <th>rocznik</th>\n",
       "      <th>cena</th>\n",
       "      <th>powypadkowy</th>\n",
       "      <th>data i godzina dodania ogłoszenia</th>\n",
       "    </tr>\n",
       "  </thead>\n",
       "  <tbody>\n",
       "    <tr>\n",
       "      <th>0</th>\n",
       "      <td>1</td>\n",
       "      <td>ford</td>\n",
       "      <td>focus</td>\n",
       "      <td>osobowy</td>\n",
       "      <td>2010</td>\n",
       "      <td>20500</td>\n",
       "      <td>0</td>\n",
       "      <td>20-05-2020 14:20</td>\n",
       "    </tr>\n",
       "    <tr>\n",
       "      <th>1</th>\n",
       "      <td>2</td>\n",
       "      <td>opel</td>\n",
       "      <td>NaN</td>\n",
       "      <td>osobowy</td>\n",
       "      <td>2014</td>\n",
       "      <td>13 000</td>\n",
       "      <td>0</td>\n",
       "      <td>19-05-2020 10:21</td>\n",
       "    </tr>\n",
       "    <tr>\n",
       "      <th>2</th>\n",
       "      <td>3</td>\n",
       "      <td>opel</td>\n",
       "      <td>adam</td>\n",
       "      <td>osobowy</td>\n",
       "      <td>2018</td>\n",
       "      <td>35 000</td>\n",
       "      <td>0</td>\n",
       "      <td>11-05-2020 13:21</td>\n",
       "    </tr>\n",
       "    <tr>\n",
       "      <th>3</th>\n",
       "      <td>4</td>\n",
       "      <td>opel</td>\n",
       "      <td>corsa</td>\n",
       "      <td>osobowy</td>\n",
       "      <td>2014</td>\n",
       "      <td>13 000</td>\n",
       "      <td>1</td>\n",
       "      <td>19-05-2020 08:21</td>\n",
       "    </tr>\n",
       "    <tr>\n",
       "      <th>4</th>\n",
       "      <td>5</td>\n",
       "      <td>opel</td>\n",
       "      <td>astra</td>\n",
       "      <td>osobowy</td>\n",
       "      <td>2007</td>\n",
       "      <td>8 900</td>\n",
       "      <td>1</td>\n",
       "      <td>14-05-2020 09:36</td>\n",
       "    </tr>\n",
       "  </tbody>\n",
       "</table>\n",
       "</div>"
      ],
      "text/plain": [
       "   id marka  model typ samochodu  rocznik    cena  powypadkowy  \\\n",
       "0   1  ford  focus       osobowy     2010   20500            0   \n",
       "1   2  opel    NaN       osobowy     2014  13 000            0   \n",
       "2   3  opel   adam       osobowy     2018  35 000            0   \n",
       "3   4  opel  corsa       osobowy     2014  13 000            1   \n",
       "4   5  opel  astra       osobowy     2007   8 900            1   \n",
       "\n",
       "  data i godzina dodania ogłoszenia  \n",
       "0                  20-05-2020 14:20  \n",
       "1                  19-05-2020 10:21  \n",
       "2                  11-05-2020 13:21  \n",
       "3                  19-05-2020 08:21  \n",
       "4                  14-05-2020 09:36  "
      ]
     },
     "execution_count": 42,
     "metadata": {},
     "output_type": "execute_result"
    }
   ],
   "source": [
    "dataset[dataset.marka.isin(['opel', 'ford'])]"
   ]
  },
  {
   "cell_type": "markdown",
   "metadata": {
    "slideshow": {
     "slide_type": "subslide"
    }
   },
   "source": [
    "Jeżeli natomiast potrzebujemy wybrać dane w pewnym zakresie, np. tylko te pojazdy, których rocznik > 2000 oraz rocznik < 2005 to musimy wykorzystać operator `&` dla `and`. Warunki musimy umieszczać w nawiasach `()`."
   ]
  },
  {
   "cell_type": "code",
   "execution_count": 43,
   "metadata": {
    "slideshow": {
     "slide_type": "-"
    }
   },
   "outputs": [
    {
     "data": {
      "text/html": [
       "<div>\n",
       "<style scoped>\n",
       "    .dataframe tbody tr th:only-of-type {\n",
       "        vertical-align: middle;\n",
       "    }\n",
       "\n",
       "    .dataframe tbody tr th {\n",
       "        vertical-align: top;\n",
       "    }\n",
       "\n",
       "    .dataframe thead th {\n",
       "        text-align: right;\n",
       "    }\n",
       "</style>\n",
       "<table border=\"1\" class=\"dataframe\">\n",
       "  <thead>\n",
       "    <tr style=\"text-align: right;\">\n",
       "      <th></th>\n",
       "      <th>id</th>\n",
       "      <th>marka</th>\n",
       "      <th>model</th>\n",
       "      <th>typ samochodu</th>\n",
       "      <th>rocznik</th>\n",
       "      <th>cena</th>\n",
       "      <th>powypadkowy</th>\n",
       "      <th>data i godzina dodania ogłoszenia</th>\n",
       "    </tr>\n",
       "  </thead>\n",
       "  <tbody>\n",
       "    <tr>\n",
       "      <th>8</th>\n",
       "      <td>9</td>\n",
       "      <td>mercedes-benz</td>\n",
       "      <td>klasa s 500</td>\n",
       "      <td>osobowy</td>\n",
       "      <td>2001</td>\n",
       "      <td>41 900</td>\n",
       "      <td>0</td>\n",
       "      <td>30-04-2020 14:52</td>\n",
       "    </tr>\n",
       "    <tr>\n",
       "      <th>10</th>\n",
       "      <td>11</td>\n",
       "      <td>volkswagen</td>\n",
       "      <td>craft</td>\n",
       "      <td>dostawczy</td>\n",
       "      <td>2003</td>\n",
       "      <td>6 900</td>\n",
       "      <td>0</td>\n",
       "      <td>20-05-2020 10:19</td>\n",
       "    </tr>\n",
       "    <tr>\n",
       "      <th>12</th>\n",
       "      <td>13</td>\n",
       "      <td>man</td>\n",
       "      <td>NaN</td>\n",
       "      <td>ciężarowy</td>\n",
       "      <td>2004</td>\n",
       "      <td>22 000</td>\n",
       "      <td>1</td>\n",
       "      <td>13-05-2020 10:15</td>\n",
       "    </tr>\n",
       "  </tbody>\n",
       "</table>\n",
       "</div>"
      ],
      "text/plain": [
       "    id          marka        model typ samochodu  rocznik    cena  \\\n",
       "8    9  mercedes-benz  klasa s 500       osobowy     2001  41 900   \n",
       "10  11     volkswagen        craft     dostawczy     2003   6 900   \n",
       "12  13            man          NaN     ciężarowy     2004  22 000   \n",
       "\n",
       "    powypadkowy data i godzina dodania ogłoszenia  \n",
       "8             0                  30-04-2020 14:52  \n",
       "10            0                  20-05-2020 10:19  \n",
       "12            1                  13-05-2020 10:15  "
      ]
     },
     "execution_count": 43,
     "metadata": {},
     "output_type": "execute_result"
    }
   ],
   "source": [
    "dataset[(dataset.rocznik > 2000) & (dataset.rocznik < 2005)]"
   ]
  },
  {
   "cell_type": "markdown",
   "metadata": {
    "slideshow": {
     "slide_type": "subslide"
    }
   },
   "source": [
    "Można również używać operatora `|` dla operatora `or` lub `~` dla operatora `not`."
   ]
  },
  {
   "cell_type": "code",
   "execution_count": 44,
   "metadata": {
    "slideshow": {
     "slide_type": "-"
    }
   },
   "outputs": [
    {
     "data": {
      "text/html": [
       "<div>\n",
       "<style scoped>\n",
       "    .dataframe tbody tr th:only-of-type {\n",
       "        vertical-align: middle;\n",
       "    }\n",
       "\n",
       "    .dataframe tbody tr th {\n",
       "        vertical-align: top;\n",
       "    }\n",
       "\n",
       "    .dataframe thead th {\n",
       "        text-align: right;\n",
       "    }\n",
       "</style>\n",
       "<table border=\"1\" class=\"dataframe\">\n",
       "  <thead>\n",
       "    <tr style=\"text-align: right;\">\n",
       "      <th></th>\n",
       "      <th>id</th>\n",
       "      <th>marka</th>\n",
       "      <th>model</th>\n",
       "      <th>typ samochodu</th>\n",
       "      <th>rocznik</th>\n",
       "      <th>cena</th>\n",
       "      <th>powypadkowy</th>\n",
       "      <th>data i godzina dodania ogłoszenia</th>\n",
       "    </tr>\n",
       "  </thead>\n",
       "  <tbody>\n",
       "    <tr>\n",
       "      <th>0</th>\n",
       "      <td>1</td>\n",
       "      <td>ford</td>\n",
       "      <td>focus</td>\n",
       "      <td>osobowy</td>\n",
       "      <td>2010</td>\n",
       "      <td>20500</td>\n",
       "      <td>0</td>\n",
       "      <td>20-05-2020 14:20</td>\n",
       "    </tr>\n",
       "    <tr>\n",
       "      <th>1</th>\n",
       "      <td>2</td>\n",
       "      <td>opel</td>\n",
       "      <td>NaN</td>\n",
       "      <td>osobowy</td>\n",
       "      <td>2014</td>\n",
       "      <td>13 000</td>\n",
       "      <td>0</td>\n",
       "      <td>19-05-2020 10:21</td>\n",
       "    </tr>\n",
       "    <tr>\n",
       "      <th>2</th>\n",
       "      <td>3</td>\n",
       "      <td>opel</td>\n",
       "      <td>adam</td>\n",
       "      <td>osobowy</td>\n",
       "      <td>2018</td>\n",
       "      <td>35 000</td>\n",
       "      <td>0</td>\n",
       "      <td>11-05-2020 13:21</td>\n",
       "    </tr>\n",
       "    <tr>\n",
       "      <th>3</th>\n",
       "      <td>4</td>\n",
       "      <td>opel</td>\n",
       "      <td>corsa</td>\n",
       "      <td>osobowy</td>\n",
       "      <td>2014</td>\n",
       "      <td>13 000</td>\n",
       "      <td>1</td>\n",
       "      <td>19-05-2020 08:21</td>\n",
       "    </tr>\n",
       "    <tr>\n",
       "      <th>4</th>\n",
       "      <td>5</td>\n",
       "      <td>opel</td>\n",
       "      <td>astra</td>\n",
       "      <td>osobowy</td>\n",
       "      <td>2007</td>\n",
       "      <td>8 900</td>\n",
       "      <td>1</td>\n",
       "      <td>14-05-2020 09:36</td>\n",
       "    </tr>\n",
       "  </tbody>\n",
       "</table>\n",
       "</div>"
      ],
      "text/plain": [
       "   id marka  model typ samochodu  rocznik    cena  powypadkowy  \\\n",
       "0   1  ford  focus       osobowy     2010   20500            0   \n",
       "1   2  opel    NaN       osobowy     2014  13 000            0   \n",
       "2   3  opel   adam       osobowy     2018  35 000            0   \n",
       "3   4  opel  corsa       osobowy     2014  13 000            1   \n",
       "4   5  opel  astra       osobowy     2007   8 900            1   \n",
       "\n",
       "  data i godzina dodania ogłoszenia  \n",
       "0                  20-05-2020 14:20  \n",
       "1                  19-05-2020 10:21  \n",
       "2                  11-05-2020 13:21  \n",
       "3                  19-05-2020 08:21  \n",
       "4                  14-05-2020 09:36  "
      ]
     },
     "execution_count": 44,
     "metadata": {},
     "output_type": "execute_result"
    }
   ],
   "source": [
    "dataset[(dataset.rocznik <= 2000) | (dataset.rocznik >= 2005)].head()"
   ]
  },
  {
   "cell_type": "code",
   "execution_count": 45,
   "metadata": {
    "slideshow": {
     "slide_type": "subslide"
    }
   },
   "outputs": [
    {
     "data": {
      "text/html": [
       "<div>\n",
       "<style scoped>\n",
       "    .dataframe tbody tr th:only-of-type {\n",
       "        vertical-align: middle;\n",
       "    }\n",
       "\n",
       "    .dataframe tbody tr th {\n",
       "        vertical-align: top;\n",
       "    }\n",
       "\n",
       "    .dataframe thead th {\n",
       "        text-align: right;\n",
       "    }\n",
       "</style>\n",
       "<table border=\"1\" class=\"dataframe\">\n",
       "  <thead>\n",
       "    <tr style=\"text-align: right;\">\n",
       "      <th></th>\n",
       "      <th>id</th>\n",
       "      <th>marka</th>\n",
       "      <th>model</th>\n",
       "      <th>typ samochodu</th>\n",
       "      <th>rocznik</th>\n",
       "      <th>cena</th>\n",
       "      <th>powypadkowy</th>\n",
       "      <th>data i godzina dodania ogłoszenia</th>\n",
       "    </tr>\n",
       "  </thead>\n",
       "  <tbody>\n",
       "    <tr>\n",
       "      <th>0</th>\n",
       "      <td>1</td>\n",
       "      <td>ford</td>\n",
       "      <td>focus</td>\n",
       "      <td>osobowy</td>\n",
       "      <td>2010</td>\n",
       "      <td>20500</td>\n",
       "      <td>0</td>\n",
       "      <td>20-05-2020 14:20</td>\n",
       "    </tr>\n",
       "    <tr>\n",
       "      <th>1</th>\n",
       "      <td>2</td>\n",
       "      <td>opel</td>\n",
       "      <td>NaN</td>\n",
       "      <td>osobowy</td>\n",
       "      <td>2014</td>\n",
       "      <td>13 000</td>\n",
       "      <td>0</td>\n",
       "      <td>19-05-2020 10:21</td>\n",
       "    </tr>\n",
       "    <tr>\n",
       "      <th>2</th>\n",
       "      <td>3</td>\n",
       "      <td>opel</td>\n",
       "      <td>adam</td>\n",
       "      <td>osobowy</td>\n",
       "      <td>2018</td>\n",
       "      <td>35 000</td>\n",
       "      <td>0</td>\n",
       "      <td>11-05-2020 13:21</td>\n",
       "    </tr>\n",
       "    <tr>\n",
       "      <th>3</th>\n",
       "      <td>4</td>\n",
       "      <td>opel</td>\n",
       "      <td>corsa</td>\n",
       "      <td>osobowy</td>\n",
       "      <td>2014</td>\n",
       "      <td>13 000</td>\n",
       "      <td>1</td>\n",
       "      <td>19-05-2020 08:21</td>\n",
       "    </tr>\n",
       "    <tr>\n",
       "      <th>4</th>\n",
       "      <td>5</td>\n",
       "      <td>opel</td>\n",
       "      <td>astra</td>\n",
       "      <td>osobowy</td>\n",
       "      <td>2007</td>\n",
       "      <td>8 900</td>\n",
       "      <td>1</td>\n",
       "      <td>14-05-2020 09:36</td>\n",
       "    </tr>\n",
       "  </tbody>\n",
       "</table>\n",
       "</div>"
      ],
      "text/plain": [
       "   id marka  model typ samochodu  rocznik    cena  powypadkowy  \\\n",
       "0   1  ford  focus       osobowy     2010   20500            0   \n",
       "1   2  opel    NaN       osobowy     2014  13 000            0   \n",
       "2   3  opel   adam       osobowy     2018  35 000            0   \n",
       "3   4  opel  corsa       osobowy     2014  13 000            1   \n",
       "4   5  opel  astra       osobowy     2007   8 900            1   \n",
       "\n",
       "  data i godzina dodania ogłoszenia  \n",
       "0                  20-05-2020 14:20  \n",
       "1                  19-05-2020 10:21  \n",
       "2                  11-05-2020 13:21  \n",
       "3                  19-05-2020 08:21  \n",
       "4                  14-05-2020 09:36  "
      ]
     },
     "execution_count": 45,
     "metadata": {},
     "output_type": "execute_result"
    }
   ],
   "source": [
    "# wypisz wszystkie auta, gdzie rocznik <=2000 lub rocznik >= 2005\n",
    "warunek = (dataset.rocznik > 2000) & (dataset.rocznik < 2005)\n",
    "dataset[~warunek].head()"
   ]
  },
  {
   "cell_type": "markdown",
   "metadata": {
    "slideshow": {
     "slide_type": "subslide"
    }
   },
   "source": [
    "Zadanie 4 (1pkt.)\n",
    "\n",
    "Wyświetl wszystkie pojazdy typu `ciężarowy` oraz `dostawczy`."
   ]
  },
  {
   "cell_type": "markdown",
   "metadata": {
    "slideshow": {
     "slide_type": "subslide"
    }
   },
   "source": [
    "Zadanie 5 (1pkt.)\n",
    "\n",
    "Wyświetl model oraz markę wszystkich pojazdów wyprodukowanych po 2005 roku."
   ]
  },
  {
   "cell_type": "markdown",
   "metadata": {
    "slideshow": {
     "slide_type": "subslide"
    }
   },
   "source": [
    "Zadanie 6 (1pkt.)\n",
    "\n",
    "Wyświetl wszystkie wiersze, w których, w kolumnie `model`, występują brakujące dane (oznaczone jako `NaN`), możesz wykorzystać funkcję `isna`, która opisana jest w [dokumentacji](https://pandas.pydata.org/pandas-docs/stable/reference/api/pandas.DataFrame.isna.html#pandas.DataFrame.isna)"
   ]
  },
  {
   "cell_type": "markdown",
   "metadata": {
    "slideshow": {
     "slide_type": "subslide"
    }
   },
   "source": [
    "Zadanie 7 (1pkt.)\n",
    "\n",
    "Wyświetl ponownie model oraz markę wszystkich pojazdów wyprodukowanych po 2005 roku tym razem nie wyświetlaj pojazdów, które mają brak wartości w kolumnie model (czyli mają wartość NaN w kolumnie model)."
   ]
  },
  {
   "cell_type": "markdown",
   "metadata": {
    "slideshow": {
     "slide_type": "subslide"
    }
   },
   "source": [
    "Użycie metody `query` - 'pod spodem' używa metody `.loc` oraz `eval`."
   ]
  },
  {
   "cell_type": "code",
   "execution_count": 50,
   "metadata": {
    "slideshow": {
     "slide_type": "subslide"
    }
   },
   "outputs": [
    {
     "data": {
      "text/html": [
       "<div>\n",
       "<style scoped>\n",
       "    .dataframe tbody tr th:only-of-type {\n",
       "        vertical-align: middle;\n",
       "    }\n",
       "\n",
       "    .dataframe tbody tr th {\n",
       "        vertical-align: top;\n",
       "    }\n",
       "\n",
       "    .dataframe thead th {\n",
       "        text-align: right;\n",
       "    }\n",
       "</style>\n",
       "<table border=\"1\" class=\"dataframe\">\n",
       "  <thead>\n",
       "    <tr style=\"text-align: right;\">\n",
       "      <th></th>\n",
       "      <th>id</th>\n",
       "      <th>marka</th>\n",
       "      <th>model</th>\n",
       "      <th>typ samochodu</th>\n",
       "      <th>rocznik</th>\n",
       "      <th>cena</th>\n",
       "      <th>powypadkowy</th>\n",
       "      <th>data i godzina dodania ogłoszenia</th>\n",
       "    </tr>\n",
       "  </thead>\n",
       "  <tbody>\n",
       "    <tr>\n",
       "      <th>8</th>\n",
       "      <td>9</td>\n",
       "      <td>mercedes-benz</td>\n",
       "      <td>klasa s 500</td>\n",
       "      <td>osobowy</td>\n",
       "      <td>2001</td>\n",
       "      <td>41 900</td>\n",
       "      <td>0</td>\n",
       "      <td>30-04-2020 14:52</td>\n",
       "    </tr>\n",
       "    <tr>\n",
       "      <th>10</th>\n",
       "      <td>11</td>\n",
       "      <td>volkswagen</td>\n",
       "      <td>craft</td>\n",
       "      <td>dostawczy</td>\n",
       "      <td>2003</td>\n",
       "      <td>6 900</td>\n",
       "      <td>0</td>\n",
       "      <td>20-05-2020 10:19</td>\n",
       "    </tr>\n",
       "    <tr>\n",
       "      <th>12</th>\n",
       "      <td>13</td>\n",
       "      <td>man</td>\n",
       "      <td>NaN</td>\n",
       "      <td>ciężarowy</td>\n",
       "      <td>2004</td>\n",
       "      <td>22 000</td>\n",
       "      <td>1</td>\n",
       "      <td>13-05-2020 10:15</td>\n",
       "    </tr>\n",
       "  </tbody>\n",
       "</table>\n",
       "</div>"
      ],
      "text/plain": [
       "    id          marka        model typ samochodu  rocznik    cena  \\\n",
       "8    9  mercedes-benz  klasa s 500       osobowy     2001  41 900   \n",
       "10  11     volkswagen        craft     dostawczy     2003   6 900   \n",
       "12  13            man          NaN     ciężarowy     2004  22 000   \n",
       "\n",
       "    powypadkowy data i godzina dodania ogłoszenia  \n",
       "8             0                  30-04-2020 14:52  \n",
       "10            0                  20-05-2020 10:19  \n",
       "12            1                  13-05-2020 10:15  "
      ]
     },
     "execution_count": 50,
     "metadata": {},
     "output_type": "execute_result"
    }
   ],
   "source": [
    "dataset.query('rocznik > 2000 & rocznik < 2005')"
   ]
  },
  {
   "cell_type": "markdown",
   "metadata": {
    "slideshow": {
     "slide_type": "subslide"
    }
   },
   "source": [
    "## Dodawanie nowej kolumny do danych\n",
    "Czasami musimy transformować pewne dane a wynik tej transformacji zapisać do nowej kolumny.\n",
    "Połączymy nazwę marki oraz modelu w jeden ciąg znaków."
   ]
  },
  {
   "cell_type": "code",
   "execution_count": 51,
   "metadata": {
    "slideshow": {
     "slide_type": "-"
    }
   },
   "outputs": [
    {
     "data": {
      "text/html": [
       "<div>\n",
       "<style scoped>\n",
       "    .dataframe tbody tr th:only-of-type {\n",
       "        vertical-align: middle;\n",
       "    }\n",
       "\n",
       "    .dataframe tbody tr th {\n",
       "        vertical-align: top;\n",
       "    }\n",
       "\n",
       "    .dataframe thead th {\n",
       "        text-align: right;\n",
       "    }\n",
       "</style>\n",
       "<table border=\"1\" class=\"dataframe\">\n",
       "  <thead>\n",
       "    <tr style=\"text-align: right;\">\n",
       "      <th></th>\n",
       "      <th>id</th>\n",
       "      <th>marka</th>\n",
       "      <th>model</th>\n",
       "      <th>typ samochodu</th>\n",
       "      <th>rocznik</th>\n",
       "      <th>cena</th>\n",
       "      <th>powypadkowy</th>\n",
       "      <th>data i godzina dodania ogłoszenia</th>\n",
       "      <th>marka_model</th>\n",
       "    </tr>\n",
       "  </thead>\n",
       "  <tbody>\n",
       "    <tr>\n",
       "      <th>0</th>\n",
       "      <td>1</td>\n",
       "      <td>ford</td>\n",
       "      <td>focus</td>\n",
       "      <td>osobowy</td>\n",
       "      <td>2010</td>\n",
       "      <td>20500</td>\n",
       "      <td>0</td>\n",
       "      <td>20-05-2020 14:20</td>\n",
       "      <td>ford focus</td>\n",
       "    </tr>\n",
       "    <tr>\n",
       "      <th>1</th>\n",
       "      <td>2</td>\n",
       "      <td>opel</td>\n",
       "      <td>NaN</td>\n",
       "      <td>osobowy</td>\n",
       "      <td>2014</td>\n",
       "      <td>13 000</td>\n",
       "      <td>0</td>\n",
       "      <td>19-05-2020 10:21</td>\n",
       "      <td>NaN</td>\n",
       "    </tr>\n",
       "    <tr>\n",
       "      <th>2</th>\n",
       "      <td>3</td>\n",
       "      <td>opel</td>\n",
       "      <td>adam</td>\n",
       "      <td>osobowy</td>\n",
       "      <td>2018</td>\n",
       "      <td>35 000</td>\n",
       "      <td>0</td>\n",
       "      <td>11-05-2020 13:21</td>\n",
       "      <td>opel adam</td>\n",
       "    </tr>\n",
       "    <tr>\n",
       "      <th>3</th>\n",
       "      <td>4</td>\n",
       "      <td>opel</td>\n",
       "      <td>corsa</td>\n",
       "      <td>osobowy</td>\n",
       "      <td>2014</td>\n",
       "      <td>13 000</td>\n",
       "      <td>1</td>\n",
       "      <td>19-05-2020 08:21</td>\n",
       "      <td>opel corsa</td>\n",
       "    </tr>\n",
       "    <tr>\n",
       "      <th>4</th>\n",
       "      <td>5</td>\n",
       "      <td>opel</td>\n",
       "      <td>astra</td>\n",
       "      <td>osobowy</td>\n",
       "      <td>2007</td>\n",
       "      <td>8 900</td>\n",
       "      <td>1</td>\n",
       "      <td>14-05-2020 09:36</td>\n",
       "      <td>opel astra</td>\n",
       "    </tr>\n",
       "    <tr>\n",
       "      <th>5</th>\n",
       "      <td>6</td>\n",
       "      <td>skoda</td>\n",
       "      <td>octavia</td>\n",
       "      <td>osobowy</td>\n",
       "      <td>2014</td>\n",
       "      <td>22 000</td>\n",
       "      <td>0</td>\n",
       "      <td>21-04-2020 11:54</td>\n",
       "      <td>skoda octavia</td>\n",
       "    </tr>\n",
       "    <tr>\n",
       "      <th>6</th>\n",
       "      <td>7</td>\n",
       "      <td>audi</td>\n",
       "      <td>a4</td>\n",
       "      <td>osobowy</td>\n",
       "      <td>2008</td>\n",
       "      <td>38 000</td>\n",
       "      <td>0</td>\n",
       "      <td>22-04-2020 01:12</td>\n",
       "      <td>audi a4</td>\n",
       "    </tr>\n",
       "    <tr>\n",
       "      <th>7</th>\n",
       "      <td>8</td>\n",
       "      <td>volkswagen</td>\n",
       "      <td>golf</td>\n",
       "      <td>osobowy</td>\n",
       "      <td>2005</td>\n",
       "      <td>12 900</td>\n",
       "      <td>1</td>\n",
       "      <td>11-05-2020 15:48</td>\n",
       "      <td>volkswagen golf</td>\n",
       "    </tr>\n",
       "    <tr>\n",
       "      <th>8</th>\n",
       "      <td>9</td>\n",
       "      <td>mercedes-benz</td>\n",
       "      <td>klasa s 500</td>\n",
       "      <td>osobowy</td>\n",
       "      <td>2001</td>\n",
       "      <td>41 900</td>\n",
       "      <td>0</td>\n",
       "      <td>30-04-2020 14:52</td>\n",
       "      <td>mercedes-benz klasa s 500</td>\n",
       "    </tr>\n",
       "    <tr>\n",
       "      <th>9</th>\n",
       "      <td>10</td>\n",
       "      <td>renault</td>\n",
       "      <td>master</td>\n",
       "      <td>dostawczy</td>\n",
       "      <td>2016</td>\n",
       "      <td>37 314</td>\n",
       "      <td>0</td>\n",
       "      <td>13-04-2020 11:11</td>\n",
       "      <td>renault master</td>\n",
       "    </tr>\n",
       "    <tr>\n",
       "      <th>10</th>\n",
       "      <td>11</td>\n",
       "      <td>volkswagen</td>\n",
       "      <td>craft</td>\n",
       "      <td>dostawczy</td>\n",
       "      <td>2003</td>\n",
       "      <td>6 900</td>\n",
       "      <td>0</td>\n",
       "      <td>20-05-2020 10:19</td>\n",
       "      <td>volkswagen craft</td>\n",
       "    </tr>\n",
       "    <tr>\n",
       "      <th>11</th>\n",
       "      <td>12</td>\n",
       "      <td>citroen</td>\n",
       "      <td>NaN</td>\n",
       "      <td>dostawczy</td>\n",
       "      <td>2017</td>\n",
       "      <td>48 780</td>\n",
       "      <td>0</td>\n",
       "      <td>10-05-2020 08:40</td>\n",
       "      <td>NaN</td>\n",
       "    </tr>\n",
       "    <tr>\n",
       "      <th>12</th>\n",
       "      <td>13</td>\n",
       "      <td>man</td>\n",
       "      <td>NaN</td>\n",
       "      <td>ciężarowy</td>\n",
       "      <td>2004</td>\n",
       "      <td>22 000</td>\n",
       "      <td>1</td>\n",
       "      <td>13-05-2020 10:15</td>\n",
       "      <td>NaN</td>\n",
       "    </tr>\n",
       "    <tr>\n",
       "      <th>13</th>\n",
       "      <td>14</td>\n",
       "      <td>daf</td>\n",
       "      <td>xf 460</td>\n",
       "      <td>ciężarowy</td>\n",
       "      <td>2016</td>\n",
       "      <td>142 000</td>\n",
       "      <td>0</td>\n",
       "      <td>26-05-2020 11:45</td>\n",
       "      <td>daf xf 460</td>\n",
       "    </tr>\n",
       "  </tbody>\n",
       "</table>\n",
       "</div>"
      ],
      "text/plain": [
       "    id          marka        model typ samochodu  rocznik     cena  \\\n",
       "0    1           ford        focus       osobowy     2010    20500   \n",
       "1    2           opel          NaN       osobowy     2014   13 000   \n",
       "2    3           opel         adam       osobowy     2018   35 000   \n",
       "3    4           opel        corsa       osobowy     2014   13 000   \n",
       "4    5           opel        astra       osobowy     2007    8 900   \n",
       "5    6          skoda      octavia       osobowy     2014   22 000   \n",
       "6    7           audi           a4       osobowy     2008   38 000   \n",
       "7    8     volkswagen         golf       osobowy     2005   12 900   \n",
       "8    9  mercedes-benz  klasa s 500       osobowy     2001   41 900   \n",
       "9   10        renault       master     dostawczy     2016   37 314   \n",
       "10  11     volkswagen        craft     dostawczy     2003    6 900   \n",
       "11  12        citroen          NaN     dostawczy     2017   48 780   \n",
       "12  13            man          NaN     ciężarowy     2004   22 000   \n",
       "13  14            daf       xf 460     ciężarowy     2016  142 000   \n",
       "\n",
       "    powypadkowy data i godzina dodania ogłoszenia                marka_model  \n",
       "0             0                  20-05-2020 14:20                 ford focus  \n",
       "1             0                  19-05-2020 10:21                        NaN  \n",
       "2             0                  11-05-2020 13:21                  opel adam  \n",
       "3             1                  19-05-2020 08:21                 opel corsa  \n",
       "4             1                  14-05-2020 09:36                 opel astra  \n",
       "5             0                  21-04-2020 11:54              skoda octavia  \n",
       "6             0                  22-04-2020 01:12                    audi a4  \n",
       "7             1                  11-05-2020 15:48            volkswagen golf  \n",
       "8             0                  30-04-2020 14:52  mercedes-benz klasa s 500  \n",
       "9             0                  13-04-2020 11:11             renault master  \n",
       "10            0                  20-05-2020 10:19           volkswagen craft  \n",
       "11            0                  10-05-2020 08:40                        NaN  \n",
       "12            1                  13-05-2020 10:15                        NaN  \n",
       "13            0                  26-05-2020 11:45                 daf xf 460  "
      ]
     },
     "execution_count": 51,
     "metadata": {},
     "output_type": "execute_result"
    }
   ],
   "source": [
    "dataset['marka_model'] = dataset['marka'] + ' ' +dataset['model']\n",
    "dataset"
   ]
  },
  {
   "cell_type": "markdown",
   "metadata": {
    "slideshow": {
     "slide_type": "subslide"
    }
   },
   "source": [
    "## Usuwanie kolumn"
   ]
  },
  {
   "cell_type": "code",
   "execution_count": 52,
   "metadata": {
    "slideshow": {
     "slide_type": "-"
    }
   },
   "outputs": [
    {
     "data": {
      "text/html": [
       "<div>\n",
       "<style scoped>\n",
       "    .dataframe tbody tr th:only-of-type {\n",
       "        vertical-align: middle;\n",
       "    }\n",
       "\n",
       "    .dataframe tbody tr th {\n",
       "        vertical-align: top;\n",
       "    }\n",
       "\n",
       "    .dataframe thead th {\n",
       "        text-align: right;\n",
       "    }\n",
       "</style>\n",
       "<table border=\"1\" class=\"dataframe\">\n",
       "  <thead>\n",
       "    <tr style=\"text-align: right;\">\n",
       "      <th></th>\n",
       "      <th>id</th>\n",
       "      <th>marka</th>\n",
       "      <th>model</th>\n",
       "      <th>typ samochodu</th>\n",
       "      <th>rocznik</th>\n",
       "      <th>cena</th>\n",
       "      <th>powypadkowy</th>\n",
       "      <th>data i godzina dodania ogłoszenia</th>\n",
       "    </tr>\n",
       "  </thead>\n",
       "  <tbody>\n",
       "    <tr>\n",
       "      <th>0</th>\n",
       "      <td>1</td>\n",
       "      <td>ford</td>\n",
       "      <td>focus</td>\n",
       "      <td>osobowy</td>\n",
       "      <td>2010</td>\n",
       "      <td>20500</td>\n",
       "      <td>0</td>\n",
       "      <td>20-05-2020 14:20</td>\n",
       "    </tr>\n",
       "    <tr>\n",
       "      <th>1</th>\n",
       "      <td>2</td>\n",
       "      <td>opel</td>\n",
       "      <td>NaN</td>\n",
       "      <td>osobowy</td>\n",
       "      <td>2014</td>\n",
       "      <td>13 000</td>\n",
       "      <td>0</td>\n",
       "      <td>19-05-2020 10:21</td>\n",
       "    </tr>\n",
       "    <tr>\n",
       "      <th>2</th>\n",
       "      <td>3</td>\n",
       "      <td>opel</td>\n",
       "      <td>adam</td>\n",
       "      <td>osobowy</td>\n",
       "      <td>2018</td>\n",
       "      <td>35 000</td>\n",
       "      <td>0</td>\n",
       "      <td>11-05-2020 13:21</td>\n",
       "    </tr>\n",
       "    <tr>\n",
       "      <th>3</th>\n",
       "      <td>4</td>\n",
       "      <td>opel</td>\n",
       "      <td>corsa</td>\n",
       "      <td>osobowy</td>\n",
       "      <td>2014</td>\n",
       "      <td>13 000</td>\n",
       "      <td>1</td>\n",
       "      <td>19-05-2020 08:21</td>\n",
       "    </tr>\n",
       "    <tr>\n",
       "      <th>4</th>\n",
       "      <td>5</td>\n",
       "      <td>opel</td>\n",
       "      <td>astra</td>\n",
       "      <td>osobowy</td>\n",
       "      <td>2007</td>\n",
       "      <td>8 900</td>\n",
       "      <td>1</td>\n",
       "      <td>14-05-2020 09:36</td>\n",
       "    </tr>\n",
       "    <tr>\n",
       "      <th>5</th>\n",
       "      <td>6</td>\n",
       "      <td>skoda</td>\n",
       "      <td>octavia</td>\n",
       "      <td>osobowy</td>\n",
       "      <td>2014</td>\n",
       "      <td>22 000</td>\n",
       "      <td>0</td>\n",
       "      <td>21-04-2020 11:54</td>\n",
       "    </tr>\n",
       "    <tr>\n",
       "      <th>6</th>\n",
       "      <td>7</td>\n",
       "      <td>audi</td>\n",
       "      <td>a4</td>\n",
       "      <td>osobowy</td>\n",
       "      <td>2008</td>\n",
       "      <td>38 000</td>\n",
       "      <td>0</td>\n",
       "      <td>22-04-2020 01:12</td>\n",
       "    </tr>\n",
       "    <tr>\n",
       "      <th>7</th>\n",
       "      <td>8</td>\n",
       "      <td>volkswagen</td>\n",
       "      <td>golf</td>\n",
       "      <td>osobowy</td>\n",
       "      <td>2005</td>\n",
       "      <td>12 900</td>\n",
       "      <td>1</td>\n",
       "      <td>11-05-2020 15:48</td>\n",
       "    </tr>\n",
       "    <tr>\n",
       "      <th>8</th>\n",
       "      <td>9</td>\n",
       "      <td>mercedes-benz</td>\n",
       "      <td>klasa s 500</td>\n",
       "      <td>osobowy</td>\n",
       "      <td>2001</td>\n",
       "      <td>41 900</td>\n",
       "      <td>0</td>\n",
       "      <td>30-04-2020 14:52</td>\n",
       "    </tr>\n",
       "    <tr>\n",
       "      <th>9</th>\n",
       "      <td>10</td>\n",
       "      <td>renault</td>\n",
       "      <td>master</td>\n",
       "      <td>dostawczy</td>\n",
       "      <td>2016</td>\n",
       "      <td>37 314</td>\n",
       "      <td>0</td>\n",
       "      <td>13-04-2020 11:11</td>\n",
       "    </tr>\n",
       "    <tr>\n",
       "      <th>10</th>\n",
       "      <td>11</td>\n",
       "      <td>volkswagen</td>\n",
       "      <td>craft</td>\n",
       "      <td>dostawczy</td>\n",
       "      <td>2003</td>\n",
       "      <td>6 900</td>\n",
       "      <td>0</td>\n",
       "      <td>20-05-2020 10:19</td>\n",
       "    </tr>\n",
       "    <tr>\n",
       "      <th>11</th>\n",
       "      <td>12</td>\n",
       "      <td>citroen</td>\n",
       "      <td>NaN</td>\n",
       "      <td>dostawczy</td>\n",
       "      <td>2017</td>\n",
       "      <td>48 780</td>\n",
       "      <td>0</td>\n",
       "      <td>10-05-2020 08:40</td>\n",
       "    </tr>\n",
       "    <tr>\n",
       "      <th>12</th>\n",
       "      <td>13</td>\n",
       "      <td>man</td>\n",
       "      <td>NaN</td>\n",
       "      <td>ciężarowy</td>\n",
       "      <td>2004</td>\n",
       "      <td>22 000</td>\n",
       "      <td>1</td>\n",
       "      <td>13-05-2020 10:15</td>\n",
       "    </tr>\n",
       "    <tr>\n",
       "      <th>13</th>\n",
       "      <td>14</td>\n",
       "      <td>daf</td>\n",
       "      <td>xf 460</td>\n",
       "      <td>ciężarowy</td>\n",
       "      <td>2016</td>\n",
       "      <td>142 000</td>\n",
       "      <td>0</td>\n",
       "      <td>26-05-2020 11:45</td>\n",
       "    </tr>\n",
       "  </tbody>\n",
       "</table>\n",
       "</div>"
      ],
      "text/plain": [
       "    id          marka        model typ samochodu  rocznik     cena  \\\n",
       "0    1           ford        focus       osobowy     2010    20500   \n",
       "1    2           opel          NaN       osobowy     2014   13 000   \n",
       "2    3           opel         adam       osobowy     2018   35 000   \n",
       "3    4           opel        corsa       osobowy     2014   13 000   \n",
       "4    5           opel        astra       osobowy     2007    8 900   \n",
       "5    6          skoda      octavia       osobowy     2014   22 000   \n",
       "6    7           audi           a4       osobowy     2008   38 000   \n",
       "7    8     volkswagen         golf       osobowy     2005   12 900   \n",
       "8    9  mercedes-benz  klasa s 500       osobowy     2001   41 900   \n",
       "9   10        renault       master     dostawczy     2016   37 314   \n",
       "10  11     volkswagen        craft     dostawczy     2003    6 900   \n",
       "11  12        citroen          NaN     dostawczy     2017   48 780   \n",
       "12  13            man          NaN     ciężarowy     2004   22 000   \n",
       "13  14            daf       xf 460     ciężarowy     2016  142 000   \n",
       "\n",
       "    powypadkowy data i godzina dodania ogłoszenia  \n",
       "0             0                  20-05-2020 14:20  \n",
       "1             0                  19-05-2020 10:21  \n",
       "2             0                  11-05-2020 13:21  \n",
       "3             1                  19-05-2020 08:21  \n",
       "4             1                  14-05-2020 09:36  \n",
       "5             0                  21-04-2020 11:54  \n",
       "6             0                  22-04-2020 01:12  \n",
       "7             1                  11-05-2020 15:48  \n",
       "8             0                  30-04-2020 14:52  \n",
       "9             0                  13-04-2020 11:11  \n",
       "10            0                  20-05-2020 10:19  \n",
       "11            0                  10-05-2020 08:40  \n",
       "12            1                  13-05-2020 10:15  \n",
       "13            0                  26-05-2020 11:45  "
      ]
     },
     "execution_count": 52,
     "metadata": {},
     "output_type": "execute_result"
    }
   ],
   "source": [
    "# axis=1 wskazuje, że chcemy usuwać kolumny\n",
    "# axis=0 (domyślna wartość) wskazuje, że chcemy usuwać wiersze\n",
    "dataset = dataset.drop('marka_model', axis=1)\n",
    "dataset"
   ]
  },
  {
   "cell_type": "markdown",
   "metadata": {
    "slideshow": {
     "slide_type": "subslide"
    }
   },
   "source": [
    "Zadanie 8 (1pkt.)\n",
    "\n",
    "Usuń kolumnę `id` z danych. Wyświetl dane aby sprawdzić, czy kolumna została poprawnie usunięta."
   ]
  },
  {
   "cell_type": "markdown",
   "metadata": {
    "slideshow": {
     "slide_type": "subslide"
    }
   },
   "source": [
    "## Ustawianie poprawnych typów danych w kolumnach"
   ]
  },
  {
   "cell_type": "markdown",
   "metadata": {
    "slideshow": {
     "slide_type": "-"
    }
   },
   "source": [
    "Wyświetlamy, przy użyciu metody `info` po raz kolejny typy danych w ramce - tym razem sprawdzamy jakie typy danych zostały przypisane kolumnom."
   ]
  },
  {
   "cell_type": "code",
   "execution_count": 54,
   "metadata": {
    "slideshow": {
     "slide_type": "-"
    }
   },
   "outputs": [
    {
     "name": "stdout",
     "output_type": "stream",
     "text": [
      "<class 'pandas.core.frame.DataFrame'>\n",
      "RangeIndex: 14 entries, 0 to 13\n",
      "Data columns (total 7 columns):\n",
      " #   Column                             Non-Null Count  Dtype \n",
      "---  ------                             --------------  ----- \n",
      " 0   marka                              14 non-null     object\n",
      " 1   model                              11 non-null     object\n",
      " 2   typ samochodu                      14 non-null     object\n",
      " 3   rocznik                            14 non-null     int64 \n",
      " 4   cena                               14 non-null     object\n",
      " 5   powypadkowy                        14 non-null     int64 \n",
      " 6   data i godzina dodania ogłoszenia  14 non-null     object\n",
      "dtypes: int64(2), object(5)\n",
      "memory usage: 912.0+ bytes\n"
     ]
    }
   ],
   "source": [
    "dataset.info()"
   ]
  },
  {
   "cell_type": "markdown",
   "metadata": {
    "slideshow": {
     "slide_type": "subslide"
    }
   },
   "source": [
    "Po wczytaniu danych pandas może nie rozpoznać poprawnie typów danych. Może to wynikać z różnych powodów - np. dane w kolumnie, która powinna być interpretowana jako liczba zmiennoprzecinkowa zamiast kropki ma przecinek lub ma spację w środku i stąd jest interpretowana niepoprawnie. \n",
    "\n",
    "`marka`, `model` oraz `typ samochodu` są ciągami znaków, więc będą miały typ `object`.\n",
    "Rocznik został również rzutowany na poprawny typ danych - liczba całkowita.\n",
    "\n",
    "<b>Natomiast cena nie jest poprawnie ustawiona - jest typu `object`.</b>\n",
    "Stało się tak dlatego, że w cenie występują spacje. Aby ustawić poprawny typ danych musimy więc usunąć spacje i spróbować rzutować dane na typ liczbowy ponownie."
   ]
  },
  {
   "cell_type": "markdown",
   "metadata": {
    "slideshow": {
     "slide_type": "subslide"
    }
   },
   "source": [
    "Aby usunąć spacje z ciągu znaków i rzutować ten ciąg znaków na liczbę wykorzystamy następujący sposób"
   ]
  },
  {
   "cell_type": "code",
   "execution_count": 88,
   "metadata": {
    "slideshow": {
     "slide_type": "-"
    }
   },
   "outputs": [
    {
     "name": "stdout",
     "output_type": "stream",
     "text": [
      "Wynik funkcji 40000\n",
      "Wynik funkcji - typ:  <class 'int'>\n"
     ]
    }
   ],
   "source": [
    "x = '40 000'\n",
    "\n",
    "def string_with_space_to_int(x):\n",
    "    '''\n",
    "    Funkcja biorąca jako argument ciąg znaków, w którym każda spacja jest zamieniana na pusty znak.\n",
    "    Następnie tak zmieniony ciąg jest zamieniany na liczbę.\n",
    "    '''\n",
    "    return int(x.replace(' ', ''))\n",
    "\n",
    "x_int = string_with_space_to_int(x)\n",
    "print('Wynik funkcji', x_int)\n",
    "print('Wynik funkcji - typ: ', type(x_int))"
   ]
  },
  {
   "cell_type": "markdown",
   "metadata": {
    "slideshow": {
     "slide_type": "subslide"
    }
   },
   "source": [
    "Pobieramy dane z kolumny `cena` do zmiennej `price_column`:"
   ]
  },
  {
   "cell_type": "code",
   "execution_count": 56,
   "metadata": {
    "slideshow": {
     "slide_type": "-"
    }
   },
   "outputs": [
    {
     "data": {
      "text/plain": [
       "0       20500\n",
       "1      13 000\n",
       "2      35 000\n",
       "3      13 000\n",
       "4       8 900\n",
       "5      22 000\n",
       "6      38 000\n",
       "7      12 900\n",
       "8      41 900\n",
       "9      37 314\n",
       "10      6 900\n",
       "11     48 780\n",
       "12     22 000\n",
       "13    142 000\n",
       "Name: cena, dtype: object"
      ]
     },
     "execution_count": 56,
     "metadata": {},
     "output_type": "execute_result"
    }
   ],
   "source": [
    "price_column = dataset['cena']\n",
    "price_column"
   ]
  },
  {
   "cell_type": "markdown",
   "metadata": {
    "slideshow": {
     "slide_type": "subslide"
    }
   },
   "source": [
    "W zmiennej `price_column` przechowujemy dane z kolumny `cena`. Zmienna `price_column` jest typu `Series`"
   ]
  },
  {
   "cell_type": "code",
   "execution_count": 57,
   "metadata": {
    "slideshow": {
     "slide_type": "-"
    }
   },
   "outputs": [
    {
     "data": {
      "text/plain": [
       "pandas.core.series.Series"
      ]
     },
     "execution_count": 57,
     "metadata": {},
     "output_type": "execute_result"
    }
   ],
   "source": [
    "type(price_column)"
   ]
  },
  {
   "cell_type": "markdown",
   "metadata": {
    "slideshow": {
     "slide_type": "-"
    }
   },
   "source": [
    "Możemy na niej wywołać metodę `map` - aplikuje ona podaną funkcję (może być to funkcja anonimowa lambda) do każdego elementu w serii"
   ]
  },
  {
   "cell_type": "code",
   "execution_count": 58,
   "metadata": {
    "slideshow": {
     "slide_type": "-"
    }
   },
   "outputs": [
    {
     "data": {
      "text/plain": [
       "0      20500\n",
       "1      13000\n",
       "2      35000\n",
       "3      13000\n",
       "4       8900\n",
       "5      22000\n",
       "6      38000\n",
       "7      12900\n",
       "8      41900\n",
       "9      37314\n",
       "10      6900\n",
       "11     48780\n",
       "12     22000\n",
       "13    142000\n",
       "Name: cena, dtype: int64"
      ]
     },
     "execution_count": 58,
     "metadata": {},
     "output_type": "execute_result"
    }
   ],
   "source": [
    "price_column_int = price_column.map(string_with_space_to_int)\n",
    "price_column_int"
   ]
  },
  {
   "cell_type": "code",
   "execution_count": 59,
   "metadata": {
    "slideshow": {
     "slide_type": "subslide"
    }
   },
   "outputs": [
    {
     "data": {
      "text/plain": [
       "0      20500\n",
       "1      13000\n",
       "2      35000\n",
       "3      13000\n",
       "4       8900\n",
       "5      22000\n",
       "6      38000\n",
       "7      12900\n",
       "8      41900\n",
       "9      37314\n",
       "10      6900\n",
       "11     48780\n",
       "12     22000\n",
       "13    142000\n",
       "Name: cena, dtype: int64"
      ]
     },
     "execution_count": 59,
     "metadata": {},
     "output_type": "execute_result"
    }
   ],
   "source": [
    "# równoważny przykład z użyciem funkcji anonimowej lambda wewnątrz funkcji map\n",
    "price_column_int_2 = price_column.map(lambda x: int(x.replace(' ', ''))) # zmienna x będzie pojedynczą ceną\n",
    "price_column_int_2"
   ]
  },
  {
   "cell_type": "markdown",
   "metadata": {
    "slideshow": {
     "slide_type": "subslide"
    }
   },
   "source": [
    "Jak widzimy w zmiennej `price_column_int` są już dane liczbowe, zamieniamy wartości w kolumnie z ceną w naszej oryginalnej ramce danych na ceny, które są w formacie liczbowym:"
   ]
  },
  {
   "cell_type": "code",
   "execution_count": 60,
   "metadata": {
    "slideshow": {
     "slide_type": "-"
    }
   },
   "outputs": [
    {
     "data": {
      "text/html": [
       "<div>\n",
       "<style scoped>\n",
       "    .dataframe tbody tr th:only-of-type {\n",
       "        vertical-align: middle;\n",
       "    }\n",
       "\n",
       "    .dataframe tbody tr th {\n",
       "        vertical-align: top;\n",
       "    }\n",
       "\n",
       "    .dataframe thead th {\n",
       "        text-align: right;\n",
       "    }\n",
       "</style>\n",
       "<table border=\"1\" class=\"dataframe\">\n",
       "  <thead>\n",
       "    <tr style=\"text-align: right;\">\n",
       "      <th></th>\n",
       "      <th>marka</th>\n",
       "      <th>model</th>\n",
       "      <th>typ samochodu</th>\n",
       "      <th>rocznik</th>\n",
       "      <th>cena</th>\n",
       "      <th>powypadkowy</th>\n",
       "      <th>data i godzina dodania ogłoszenia</th>\n",
       "    </tr>\n",
       "  </thead>\n",
       "  <tbody>\n",
       "    <tr>\n",
       "      <th>0</th>\n",
       "      <td>ford</td>\n",
       "      <td>focus</td>\n",
       "      <td>osobowy</td>\n",
       "      <td>2010</td>\n",
       "      <td>20500</td>\n",
       "      <td>0</td>\n",
       "      <td>20-05-2020 14:20</td>\n",
       "    </tr>\n",
       "    <tr>\n",
       "      <th>1</th>\n",
       "      <td>opel</td>\n",
       "      <td>NaN</td>\n",
       "      <td>osobowy</td>\n",
       "      <td>2014</td>\n",
       "      <td>13000</td>\n",
       "      <td>0</td>\n",
       "      <td>19-05-2020 10:21</td>\n",
       "    </tr>\n",
       "    <tr>\n",
       "      <th>2</th>\n",
       "      <td>opel</td>\n",
       "      <td>adam</td>\n",
       "      <td>osobowy</td>\n",
       "      <td>2018</td>\n",
       "      <td>35000</td>\n",
       "      <td>0</td>\n",
       "      <td>11-05-2020 13:21</td>\n",
       "    </tr>\n",
       "    <tr>\n",
       "      <th>3</th>\n",
       "      <td>opel</td>\n",
       "      <td>corsa</td>\n",
       "      <td>osobowy</td>\n",
       "      <td>2014</td>\n",
       "      <td>13000</td>\n",
       "      <td>1</td>\n",
       "      <td>19-05-2020 08:21</td>\n",
       "    </tr>\n",
       "    <tr>\n",
       "      <th>4</th>\n",
       "      <td>opel</td>\n",
       "      <td>astra</td>\n",
       "      <td>osobowy</td>\n",
       "      <td>2007</td>\n",
       "      <td>8900</td>\n",
       "      <td>1</td>\n",
       "      <td>14-05-2020 09:36</td>\n",
       "    </tr>\n",
       "    <tr>\n",
       "      <th>5</th>\n",
       "      <td>skoda</td>\n",
       "      <td>octavia</td>\n",
       "      <td>osobowy</td>\n",
       "      <td>2014</td>\n",
       "      <td>22000</td>\n",
       "      <td>0</td>\n",
       "      <td>21-04-2020 11:54</td>\n",
       "    </tr>\n",
       "    <tr>\n",
       "      <th>6</th>\n",
       "      <td>audi</td>\n",
       "      <td>a4</td>\n",
       "      <td>osobowy</td>\n",
       "      <td>2008</td>\n",
       "      <td>38000</td>\n",
       "      <td>0</td>\n",
       "      <td>22-04-2020 01:12</td>\n",
       "    </tr>\n",
       "    <tr>\n",
       "      <th>7</th>\n",
       "      <td>volkswagen</td>\n",
       "      <td>golf</td>\n",
       "      <td>osobowy</td>\n",
       "      <td>2005</td>\n",
       "      <td>12900</td>\n",
       "      <td>1</td>\n",
       "      <td>11-05-2020 15:48</td>\n",
       "    </tr>\n",
       "    <tr>\n",
       "      <th>8</th>\n",
       "      <td>mercedes-benz</td>\n",
       "      <td>klasa s 500</td>\n",
       "      <td>osobowy</td>\n",
       "      <td>2001</td>\n",
       "      <td>41900</td>\n",
       "      <td>0</td>\n",
       "      <td>30-04-2020 14:52</td>\n",
       "    </tr>\n",
       "    <tr>\n",
       "      <th>9</th>\n",
       "      <td>renault</td>\n",
       "      <td>master</td>\n",
       "      <td>dostawczy</td>\n",
       "      <td>2016</td>\n",
       "      <td>37314</td>\n",
       "      <td>0</td>\n",
       "      <td>13-04-2020 11:11</td>\n",
       "    </tr>\n",
       "    <tr>\n",
       "      <th>10</th>\n",
       "      <td>volkswagen</td>\n",
       "      <td>craft</td>\n",
       "      <td>dostawczy</td>\n",
       "      <td>2003</td>\n",
       "      <td>6900</td>\n",
       "      <td>0</td>\n",
       "      <td>20-05-2020 10:19</td>\n",
       "    </tr>\n",
       "    <tr>\n",
       "      <th>11</th>\n",
       "      <td>citroen</td>\n",
       "      <td>NaN</td>\n",
       "      <td>dostawczy</td>\n",
       "      <td>2017</td>\n",
       "      <td>48780</td>\n",
       "      <td>0</td>\n",
       "      <td>10-05-2020 08:40</td>\n",
       "    </tr>\n",
       "    <tr>\n",
       "      <th>12</th>\n",
       "      <td>man</td>\n",
       "      <td>NaN</td>\n",
       "      <td>ciężarowy</td>\n",
       "      <td>2004</td>\n",
       "      <td>22000</td>\n",
       "      <td>1</td>\n",
       "      <td>13-05-2020 10:15</td>\n",
       "    </tr>\n",
       "    <tr>\n",
       "      <th>13</th>\n",
       "      <td>daf</td>\n",
       "      <td>xf 460</td>\n",
       "      <td>ciężarowy</td>\n",
       "      <td>2016</td>\n",
       "      <td>142000</td>\n",
       "      <td>0</td>\n",
       "      <td>26-05-2020 11:45</td>\n",
       "    </tr>\n",
       "  </tbody>\n",
       "</table>\n",
       "</div>"
      ],
      "text/plain": [
       "            marka        model typ samochodu  rocznik    cena  powypadkowy  \\\n",
       "0            ford        focus       osobowy     2010   20500            0   \n",
       "1            opel          NaN       osobowy     2014   13000            0   \n",
       "2            opel         adam       osobowy     2018   35000            0   \n",
       "3            opel        corsa       osobowy     2014   13000            1   \n",
       "4            opel        astra       osobowy     2007    8900            1   \n",
       "5           skoda      octavia       osobowy     2014   22000            0   \n",
       "6            audi           a4       osobowy     2008   38000            0   \n",
       "7      volkswagen         golf       osobowy     2005   12900            1   \n",
       "8   mercedes-benz  klasa s 500       osobowy     2001   41900            0   \n",
       "9         renault       master     dostawczy     2016   37314            0   \n",
       "10     volkswagen        craft     dostawczy     2003    6900            0   \n",
       "11        citroen          NaN     dostawczy     2017   48780            0   \n",
       "12            man          NaN     ciężarowy     2004   22000            1   \n",
       "13            daf       xf 460     ciężarowy     2016  142000            0   \n",
       "\n",
       "   data i godzina dodania ogłoszenia  \n",
       "0                   20-05-2020 14:20  \n",
       "1                   19-05-2020 10:21  \n",
       "2                   11-05-2020 13:21  \n",
       "3                   19-05-2020 08:21  \n",
       "4                   14-05-2020 09:36  \n",
       "5                   21-04-2020 11:54  \n",
       "6                   22-04-2020 01:12  \n",
       "7                   11-05-2020 15:48  \n",
       "8                   30-04-2020 14:52  \n",
       "9                   13-04-2020 11:11  \n",
       "10                  20-05-2020 10:19  \n",
       "11                  10-05-2020 08:40  \n",
       "12                  13-05-2020 10:15  \n",
       "13                  26-05-2020 11:45  "
      ]
     },
     "execution_count": 60,
     "metadata": {},
     "output_type": "execute_result"
    }
   ],
   "source": [
    "dataset['cena'] = price_column_int\n",
    "dataset"
   ]
  },
  {
   "cell_type": "code",
   "execution_count": 61,
   "metadata": {
    "slideshow": {
     "slide_type": "subslide"
    }
   },
   "outputs": [
    {
     "name": "stdout",
     "output_type": "stream",
     "text": [
      "<class 'pandas.core.frame.DataFrame'>\n",
      "RangeIndex: 14 entries, 0 to 13\n",
      "Data columns (total 7 columns):\n",
      " #   Column                             Non-Null Count  Dtype \n",
      "---  ------                             --------------  ----- \n",
      " 0   marka                              14 non-null     object\n",
      " 1   model                              11 non-null     object\n",
      " 2   typ samochodu                      14 non-null     object\n",
      " 3   rocznik                            14 non-null     int64 \n",
      " 4   cena                               14 non-null     int64 \n",
      " 5   powypadkowy                        14 non-null     int64 \n",
      " 6   data i godzina dodania ogłoszenia  14 non-null     object\n",
      "dtypes: int64(3), object(4)\n",
      "memory usage: 912.0+ bytes\n"
     ]
    }
   ],
   "source": [
    "dataset.info()"
   ]
  },
  {
   "cell_type": "markdown",
   "metadata": {
    "slideshow": {
     "slide_type": "subslide"
    }
   },
   "source": [
    "Teraz zajmujemy się datami. One też są w niepoprawnym formacie. Chcielibyśmy, aby miał format daty - wówczas łatwo będzie sprawdzić, która data jest pierwsza lub pobrać rekordy w podanym przedziale dat. W tym celu ponownie wyciągamy całą kolumnę do zmiennej:"
   ]
  },
  {
   "cell_type": "code",
   "execution_count": 62,
   "metadata": {
    "slideshow": {
     "slide_type": "-"
    }
   },
   "outputs": [
    {
     "data": {
      "text/plain": [
       "0     20-05-2020 14:20\n",
       "1     19-05-2020 10:21\n",
       "2     11-05-2020 13:21\n",
       "3     19-05-2020 08:21\n",
       "4     14-05-2020 09:36\n",
       "5     21-04-2020 11:54\n",
       "6     22-04-2020 01:12\n",
       "7     11-05-2020 15:48\n",
       "8     30-04-2020 14:52\n",
       "9     13-04-2020 11:11\n",
       "10    20-05-2020 10:19\n",
       "11    10-05-2020 08:40\n",
       "12    13-05-2020 10:15\n",
       "13    26-05-2020 11:45\n",
       "Name: data i godzina dodania ogłoszenia, dtype: object"
      ]
     },
     "execution_count": 62,
     "metadata": {},
     "output_type": "execute_result"
    }
   ],
   "source": [
    "date_column = dataset['data i godzina dodania ogłoszenia']\n",
    "date_column"
   ]
  },
  {
   "cell_type": "markdown",
   "metadata": {
    "slideshow": {
     "slide_type": "subslide"
    }
   },
   "source": [
    "W tym przypadku nie musimy korzystać z metody `map` - pandas ma już przygotowaną metodę [pd.to_datetime](https://pandas.pydata.org/pandas-docs/stable/reference/api/pandas.to_datetime.html). Metoda ta zwraca kolumnę/kolumny z danymi sformatowanymi jako daty (jeżeli konwersja się powiedzie) . Jako jej argumenty należy podać ramkę danych/serię danych oraz format danych, które są datami (pandas musi wiedzieć jaki jest format ciągu znaków zapisany w danych, tak żeby poprawnie zidentyfikować dzień, miesiąc, rok, godzinę, czy miuntę). Jak poprawnie ustawić format danych możemy przeczytać [tutaj](https://docs.python.org/3/library/datetime.html#strftime-and-strptime-behavior).\n",
    "\n",
    "W naszym przypadku dane są w formacie `dzień-miesiąc-rok godzina:minuta`, co odpowiada formatowi `dd-mm-YYYY hh:MM`."
   ]
  },
  {
   "cell_type": "code",
   "execution_count": 63,
   "metadata": {
    "slideshow": {
     "slide_type": "-"
    }
   },
   "outputs": [
    {
     "data": {
      "text/plain": [
       "0    2020-05-20 14:20:00\n",
       "1    2020-05-19 10:21:00\n",
       "2    2020-05-11 13:21:00\n",
       "3    2020-05-19 08:21:00\n",
       "4    2020-05-14 09:36:00\n",
       "5    2020-04-21 11:54:00\n",
       "6    2020-04-22 01:12:00\n",
       "7    2020-05-11 15:48:00\n",
       "8    2020-04-30 14:52:00\n",
       "9    2020-04-13 11:11:00\n",
       "10   2020-05-20 10:19:00\n",
       "11   2020-05-10 08:40:00\n",
       "12   2020-05-13 10:15:00\n",
       "13   2020-05-26 11:45:00\n",
       "Name: data i godzina dodania ogłoszenia, dtype: datetime64[ns]"
      ]
     },
     "execution_count": 63,
     "metadata": {},
     "output_type": "execute_result"
    }
   ],
   "source": [
    "date_column_as_datetime = pd.to_datetime(date_column, format='%d-%m-%Y %H:%M')\n",
    "date_column_as_datetime"
   ]
  },
  {
   "cell_type": "markdown",
   "metadata": {
    "slideshow": {
     "slide_type": "subslide"
    }
   },
   "source": [
    "następnie przypisujemy daty do oryginalnej ramki danych"
   ]
  },
  {
   "cell_type": "code",
   "execution_count": 64,
   "metadata": {
    "slideshow": {
     "slide_type": "-"
    }
   },
   "outputs": [],
   "source": [
    "dataset['data i godzina dodania ogłoszenia'] = date_column_as_datetime"
   ]
  },
  {
   "cell_type": "code",
   "execution_count": 65,
   "metadata": {
    "slideshow": {
     "slide_type": "-"
    }
   },
   "outputs": [
    {
     "name": "stdout",
     "output_type": "stream",
     "text": [
      "<class 'pandas.core.frame.DataFrame'>\n",
      "RangeIndex: 14 entries, 0 to 13\n",
      "Data columns (total 7 columns):\n",
      " #   Column                             Non-Null Count  Dtype         \n",
      "---  ------                             --------------  -----         \n",
      " 0   marka                              14 non-null     object        \n",
      " 1   model                              11 non-null     object        \n",
      " 2   typ samochodu                      14 non-null     object        \n",
      " 3   rocznik                            14 non-null     int64         \n",
      " 4   cena                               14 non-null     int64         \n",
      " 5   powypadkowy                        14 non-null     int64         \n",
      " 6   data i godzina dodania ogłoszenia  14 non-null     datetime64[ns]\n",
      "dtypes: datetime64[ns](1), int64(3), object(3)\n",
      "memory usage: 912.0+ bytes\n"
     ]
    }
   ],
   "source": [
    "dataset.info()"
   ]
  },
  {
   "cell_type": "markdown",
   "metadata": {
    "slideshow": {
     "slide_type": "subslide"
    }
   },
   "source": [
    "### Statystyki dla kolumn\n",
    "\n",
    "Obliczanie statystyk dla kolumn z użyciem pandas jest wyjątkowo proste. Najczęściej jedyne co musimy wykonać to wywołać odpowiednią metodę na kolumnie z danymi.\n",
    "Dla przykładu, <b>obliczenie minimalnej wartości</b> dla kolumny cena możemy wykonać za pomocą wyrażenia:\n"
   ]
  },
  {
   "cell_type": "code",
   "execution_count": 66,
   "metadata": {
    "slideshow": {
     "slide_type": "-"
    }
   },
   "outputs": [
    {
     "data": {
      "text/plain": [
       "cena    6900\n",
       "dtype: int64"
      ]
     },
     "execution_count": 66,
     "metadata": {},
     "output_type": "execute_result"
    }
   ],
   "source": [
    "dataset.loc[:, ['cena']].min()"
   ]
  },
  {
   "cell_type": "markdown",
   "metadata": {
    "slideshow": {
     "slide_type": "-"
    }
   },
   "source": [
    "Albo jeszcze prościej"
   ]
  },
  {
   "cell_type": "code",
   "execution_count": 67,
   "metadata": {
    "slideshow": {
     "slide_type": "-"
    }
   },
   "outputs": [
    {
     "name": "stdout",
     "output_type": "stream",
     "text": [
      "6900\n",
      "6900\n"
     ]
    }
   ],
   "source": [
    "print(dataset.cena.min())\n",
    "print(dataset['cena'].min())"
   ]
  },
  {
   "cell_type": "markdown",
   "metadata": {
    "slideshow": {
     "slide_type": "subslide"
    }
   },
   "source": [
    "Podobnie wywołujemy metody obliczające wartość maksymalną"
   ]
  },
  {
   "cell_type": "code",
   "execution_count": 68,
   "metadata": {
    "slideshow": {
     "slide_type": "-"
    }
   },
   "outputs": [
    {
     "data": {
      "text/plain": [
       "142000"
      ]
     },
     "execution_count": 68,
     "metadata": {},
     "output_type": "execute_result"
    }
   ],
   "source": [
    "dataset.cena.max()"
   ]
  },
  {
   "cell_type": "markdown",
   "metadata": {
    "slideshow": {
     "slide_type": "subslide"
    }
   },
   "source": [
    "Średnią"
   ]
  },
  {
   "cell_type": "code",
   "execution_count": 69,
   "metadata": {
    "slideshow": {
     "slide_type": "-"
    }
   },
   "outputs": [
    {
     "data": {
      "text/plain": [
       "33013.857142857145"
      ]
     },
     "execution_count": 69,
     "metadata": {},
     "output_type": "execute_result"
    }
   ],
   "source": [
    "dataset.cena.mean()"
   ]
  },
  {
   "cell_type": "markdown",
   "metadata": {
    "slideshow": {
     "slide_type": "fragment"
    }
   },
   "source": [
    "Odchylenie standardowe"
   ]
  },
  {
   "cell_type": "code",
   "execution_count": 70,
   "metadata": {
    "slideshow": {
     "slide_type": "-"
    }
   },
   "outputs": [
    {
     "data": {
      "text/plain": [
       "34105.16124680148"
      ]
     },
     "execution_count": 70,
     "metadata": {},
     "output_type": "execute_result"
    }
   ],
   "source": [
    "dataset.cena.std()"
   ]
  },
  {
   "cell_type": "markdown",
   "metadata": {
    "slideshow": {
     "slide_type": "subslide"
    }
   },
   "source": [
    "Natomiast dla każdej z kolumn możemy wywołać metodę `describe()`, która, w zależności typu danych danej kolumny, wypisze podsumowanie danej kolumny"
   ]
  },
  {
   "cell_type": "code",
   "execution_count": 71,
   "metadata": {
    "slideshow": {
     "slide_type": "-"
    }
   },
   "outputs": [
    {
     "data": {
      "text/plain": [
       "count        14.000000\n",
       "mean      33013.857143\n",
       "std       34105.161247\n",
       "min        6900.000000\n",
       "25%       13000.000000\n",
       "50%       22000.000000\n",
       "75%       37828.500000\n",
       "max      142000.000000\n",
       "Name: cena, dtype: float64"
      ]
     },
     "execution_count": 71,
     "metadata": {},
     "output_type": "execute_result"
    }
   ],
   "source": [
    "dataset.cena.describe()"
   ]
  },
  {
   "cell_type": "code",
   "execution_count": 72,
   "metadata": {
    "slideshow": {
     "slide_type": "subslide"
    }
   },
   "outputs": [
    {
     "data": {
      "text/plain": [
       "count       11\n",
       "unique      11\n",
       "top       adam\n",
       "freq         1\n",
       "Name: model, dtype: object"
      ]
     },
     "execution_count": 72,
     "metadata": {},
     "output_type": "execute_result"
    }
   ],
   "source": [
    "dataset.model.describe()"
   ]
  },
  {
   "cell_type": "code",
   "execution_count": 73,
   "metadata": {
    "slideshow": {
     "slide_type": "-"
    }
   },
   "outputs": [
    {
     "data": {
      "text/plain": [
       "count                      14\n",
       "unique                     14\n",
       "top       2020-05-20 10:19:00\n",
       "freq                        1\n",
       "first     2020-04-13 11:11:00\n",
       "last      2020-05-26 11:45:00\n",
       "Name: data i godzina dodania ogłoszenia, dtype: object"
      ]
     },
     "execution_count": 73,
     "metadata": {},
     "output_type": "execute_result"
    }
   ],
   "source": [
    "dataset['data i godzina dodania ogłoszenia'].describe()"
   ]
  },
  {
   "cell_type": "markdown",
   "metadata": {
    "slideshow": {
     "slide_type": "subslide"
    }
   },
   "source": [
    "Zadanie 9 (1pkt.)\n",
    "\n",
    "Oblicz średnią dla wszystkich pojazdów, które są samochodami osobowymi."
   ]
  },
  {
   "cell_type": "markdown",
   "metadata": {
    "slideshow": {
     "slide_type": "subslide"
    }
   },
   "source": [
    "Zadanie 10 (1pkt.)\n",
    "\n",
    "Wyświetl dane pojazdu, którego cena jest najwyższa w zbiorze."
   ]
  },
  {
   "cell_type": "markdown",
   "metadata": {
    "slideshow": {
     "slide_type": "subslide"
    }
   },
   "source": [
    "Zadanie 11 (1pkt.)\n",
    "\n",
    "Oblicz średnią cenę pojazdów w kwietniu."
   ]
  },
  {
   "cell_type": "markdown",
   "metadata": {
    "slideshow": {
     "slide_type": "subslide"
    }
   },
   "source": [
    "Zadanie 12 (1 pkt.)\n",
    "\n",
    "Zamień wszystki wartości `NaN` w kolumnie `model` na wartości `brak danych`."
   ]
  },
  {
   "cell_type": "markdown",
   "metadata": {
    "slideshow": {
     "slide_type": "subslide"
    }
   },
   "source": [
    "## Tworzenie histogramów danych w kolumnach\n",
    "Histogram - graficzne przedstawienie rozkładu danych.\n",
    "\n",
    "W pandas możemy w bardzo prosty sposób wykonać histogram danej kolumny. Wystarczy użyć funkcji `hist` na danej kolumnie, właśnie dla tej funkcji potrzebny był wcześniejszy import biblioteki `matplotlib`. Dokładny opis metody `hist` oraz jej argumenty znajdują się w [dokumentacji](https://pandas.pydata.org/pandas-docs/stable/reference/api/pandas.Series.hist.html?highlight=hist#pandas.Series.hist)."
   ]
  },
  {
   "cell_type": "code",
   "execution_count": 79,
   "metadata": {
    "slideshow": {
     "slide_type": "-"
    }
   },
   "outputs": [
    {
     "data": {
      "text/plain": [
       "<matplotlib.axes._subplots.AxesSubplot at 0x1e8d6f2fa88>"
      ]
     },
     "execution_count": 79,
     "metadata": {},
     "output_type": "execute_result"
    },
    {
     "data": {
      "image/png": "[encoded data removed]",
      "text/plain": [
       "<Figure size 432x288 with 1 Axes>"
      ]
     },
     "metadata": {
      "needs_background": "light"
     },
     "output_type": "display_data"
    }
   ],
   "source": [
    "dataset.cena.hist()"
   ]
  },
  {
   "cell_type": "markdown",
   "metadata": {
    "slideshow": {
     "slide_type": "subslide"
    }
   },
   "source": [
    "Jeżeli chcemy szybko podejrzeć histogramy każdej z kolumn liczbowych, możemy skorzystać z metody `hist` wykonanej na całej ramce danych, a nie na pojedynczej kolumnie."
   ]
  },
  {
   "cell_type": "code",
   "execution_count": 80,
   "metadata": {
    "slideshow": {
     "slide_type": "-"
    }
   },
   "outputs": [
    {
     "data": {
      "text/plain": [
       "array([[<matplotlib.axes._subplots.AxesSubplot object at 0x000001E8D6FE65C8>,\n",
       "        <matplotlib.axes._subplots.AxesSubplot object at 0x000001E8D914A648>],\n",
       "       [<matplotlib.axes._subplots.AxesSubplot object at 0x000001E8D9181D48>,\n",
       "        <matplotlib.axes._subplots.AxesSubplot object at 0x000001E8D91BE788>]],\n",
       "      dtype=object)"
      ]
     },
     "execution_count": 80,
     "metadata": {},
     "output_type": "execute_result"
    },
    {
     "data": {
      "image/png": "[encoded data removed]",
      "text/plain": [
       "<Figure size 432x288 with 4 Axes>"
      ]
     },
     "metadata": {
      "needs_background": "light"
     },
     "output_type": "display_data"
    }
   ],
   "source": [
    "dataset.hist()"
   ]
  },
  {
   "cell_type": "markdown",
   "metadata": {
    "slideshow": {
     "slide_type": "subslide"
    }
   },
   "source": [
    "Rysowanie histogramu z opisami osi."
   ]
  },
  {
   "cell_type": "code",
   "execution_count": 81,
   "metadata": {
    "slideshow": {
     "slide_type": "-"
    }
   },
   "outputs": [
    {
     "data": {
      "text/plain": [
       "Text(0.5, 1.0, 'Histogram ceny pojazdów')"
      ]
     },
     "execution_count": 81,
     "metadata": {},
     "output_type": "execute_result"
    },
    {
     "data": {
      "image/png": "[encoded data removed]",
      "text/plain": [
       "<Figure size 720x720 with 1 Axes>"
      ]
     },
     "metadata": {
      "needs_background": "light"
     },
     "output_type": "display_data"
    }
   ],
   "source": [
    "import matplotlib.pyplot as plt\n",
    "\n",
    "# funkcja subplots z matplotliba zwraca 2 obiekty\n",
    "# 1. fig - obiekt wykresu\n",
    "# 2. ax - obiekt osi\n",
    "# dzięki tym obiektom możemy zmieniać elementy wykresu przed jego wyświetleniem,\n",
    "# na przykład, można dodać tytuł wykresu, zmienić liczby na osi, ich kolory, czy same tytuły osi\n",
    "# argument figsize przyjmuje tuplę, która definiuje rozmiar wykresu w calach (tak, kiepskie)\n",
    "fig, ax = plt.subplots(figsize=(10, 10))\n",
    "\n",
    "# rysowanie histogramu, jak poprzednio\n",
    "dataset.cena.hist()\n",
    "\n",
    "# dodatkowo zmieniamy pewne ustawienia wykresu żeby wyglądał lepiej\n",
    "\n",
    "# dodanie opisu osi x\n",
    "plt.xlabel('Cena pojazdu')\n",
    "# dodanie opisu osi y\n",
    "plt.ylabel('Liczba pojazdów')\n",
    "plt.title('Histogram ceny pojazdów')"
   ]
  },
  {
   "cell_type": "markdown",
   "metadata": {
    "slideshow": {
     "slide_type": "subslide"
    }
   },
   "source": [
    "Więcej opcji zmiany wyglądu wykresu znajduje się w dokumnetacji [matplotlib](https://matplotlib.org/contents.html), która jest dosyć obszerna. Dlatego warto zacząć na przykład od tego [tutoriala](https://matplotlib.org/tutorials/introductory/usage.html#sphx-glr-tutorials-introductory-usage-py)."
   ]
  },
  {
   "cell_type": "markdown",
   "metadata": {
    "slideshow": {
     "slide_type": "subslide"
    }
   },
   "source": [
    "## Zapisywanie histogramu\n",
    "Aby zapisać histogram wygenerowany za pomocą pandas musimy wcześniej zaimportować moduł `matplotlib.pyplot`. Następnie tworzymy histogram, a na końcu wykorzystujemy funkcję `savefig` z modułu `matplotlib.pyplot` do zapisania wykresu.\n",
    "\n",
    "Jako pierwszy parametr funkcji `savefig` podajemy nazwę pliku w jakim ma być zapisany histogram."
   ]
  },
  {
   "cell_type": "code",
   "execution_count": 82,
   "metadata": {
    "slideshow": {
     "slide_type": "-"
    }
   },
   "outputs": [
    {
     "data": {
      "image/png": "[encoded data removed]",
      "text/plain": [
       "<Figure size 432x288 with 1 Axes>"
      ]
     },
     "metadata": {
      "needs_background": "light"
     },
     "output_type": "display_data"
    }
   ],
   "source": [
    "import matplotlib.pyplot as plt\n",
    "\n",
    "dataset.cena.hist()\n",
    "\n",
    "plt.savefig('cena_hist.png')"
   ]
  },
  {
   "cell_type": "markdown",
   "metadata": {
    "slideshow": {
     "slide_type": "subslide"
    }
   },
   "source": [
    "Zadanie 13 (1pkt.)\n",
    "\n",
    "Wygeneruj histogram dla kolumny z rocznikiem pojazdu, dodaj tytuł wykresu oraz osi x, y. Zapisz histogram do pliku `rocznik_hist.png`."
   ]
  },
  {
   "cell_type": "markdown",
   "metadata": {
    "slideshow": {
     "slide_type": "subslide"
    }
   },
   "source": [
    "## Zapisywanie zbioru danych\n",
    "\n",
    "Po wykonaniu operacji na danych zapisujemy ramkę danych z powrotem na dysku. Możemy zapisać ją do formatu `csv` ale też np. excela.\n",
    "\n",
    "Zazwyczaj każda z funkcji zapisujących dane zaczyna się od `to_`, np. [`to_csv`](https://pandas.pydata.org/pandas-docs/stable/reference/api/pandas.Series.to_csv.html#pandas.Series.to_csv), [`to_pickle`](https://pandas.pydata.org/pandas-docs/stable/reference/api/pandas.Series.to_csv.html#pandas.Series.to_csv), czy [`to_excel`](https://pandas.pydata.org/pandas-docs/stable/reference/api/pandas.Series.to_excel.html).\n"
   ]
  },
  {
   "cell_type": "markdown",
   "metadata": {
    "slideshow": {
     "slide_type": "-"
    }
   },
   "source": [
    "### Zapisywanie do `csv`\n",
    "\n",
    "Podczas zapisywania ramki danych do formatu `csv` musimy pamiętać o podaniu separatora kolumn - domyślnie jest to przecinek. Możemy podać go jako argument `sep` metody `to_csv`.\n",
    "\n",
    "W wielu krajach (np. USA) część całkowita od ułamkowej jest oddzielona kropką, natomiast W Polsce stosuje się przecinek. Stąd korzystanie z przecinka jako separatora nie jest dobrym pomysłem. Najczęsciej jest stosowany średnik `;`."
   ]
  },
  {
   "cell_type": "code",
   "execution_count": 84,
   "metadata": {
    "slideshow": {
     "slide_type": "-"
    }
   },
   "outputs": [],
   "source": [
    "dataset.to_csv('przetworzone_dane.csv', sep=';')"
   ]
  },
  {
   "cell_type": "markdown",
   "metadata": {
    "slideshow": {
     "slide_type": "subslide"
    }
   },
   "source": [
    "Zapisane dane w formacie `csv` mają domyślnie dodany indeks wygenerowany przez pandas,\n",
    "aby tego uniknąć powinniśmy zapisywać pliki przy użyciu funkcji `to_csv` z użyciem argumentu `index=False`."
   ]
  },
  {
   "cell_type": "code",
   "execution_count": 85,
   "metadata": {
    "slideshow": {
     "slide_type": "-"
    }
   },
   "outputs": [],
   "source": [
    "dataset.to_csv('przetworzone_dane.csv', sep=';', index=False)"
   ]
  },
  {
   "cell_type": "markdown",
   "metadata": {
    "slideshow": {
     "slide_type": "subslide"
    }
   },
   "source": [
    "### Zapisywanie do `excela`\n",
    "\n",
    "Istnieje możliwość zapisania ramki danych do formatu excela (`xlsx`). Jednkaże w tym celu musimy zainstalować dodatkowy moduł `openpyxl`."
   ]
  },
  {
   "cell_type": "code",
   "execution_count": 86,
   "metadata": {
    "slideshow": {
     "slide_type": "-"
    }
   },
   "outputs": [
    {
     "name": "stdout",
     "output_type": "stream",
     "text": [
      "Requirement already satisfied: openpyxl in d:\\davincizajęcia\\python_w_analizie_ekonomicznej_poziom_zaawansowany\\env\\lib\\site-packages (3.0.3)\n",
      "Requirement already satisfied: et-xmlfile in d:\\davincizajęcia\\python_w_analizie_ekonomicznej_poziom_zaawansowany\\env\\lib\\site-packages (from openpyxl) (1.0.1)\n",
      "Requirement already satisfied: jdcal in d:\\davincizajęcia\\python_w_analizie_ekonomicznej_poziom_zaawansowany\\env\\lib\\site-packages (from openpyxl) (1.4.1)\n"
     ]
    },
    {
     "name": "stderr",
     "output_type": "stream",
     "text": [
      "WARNING: You are using pip version 20.0.2; however, version 20.1.1 is available.\n",
      "You should consider upgrading via the 'd:\\davincizajęcia\\python_w_analizie_ekonomicznej_poziom_zaawansowany\\env\\scripts\\python.exe -m pip install --upgrade pip' command.\n"
     ]
    }
   ],
   "source": [
    "# UWAGA! możliwość zapisu do formatu excela wymaga instalacji biblioteki openpyxl\n",
    "!pip install openpyxl"
   ]
  },
  {
   "cell_type": "code",
   "execution_count": 87,
   "metadata": {
    "slideshow": {
     "slide_type": "-"
    }
   },
   "outputs": [],
   "source": [
    "dataset.to_excel('przetworzone_dane.xlsx', sheet_name='Dane')"
   ]
  },
  {
   "cell_type": "markdown",
   "metadata": {
    "slideshow": {
     "slide_type": "subslide"
    }
   },
   "source": [
    "Dodatkowe źródła:\n",
    "\n",
    "   * [Getting started tutorials](https://pandas.pydata.org/pandas-docs/stable/getting_started/intro_tutorials/index.html) - krótkie tutoriale na początek, aktualne i z dużą liczbą wyjaśnień\n",
    "   * [Tutorial effective-pandas](https://github.com/TomAugspurger/effective-pandas) (trochę stary)\n",
    "   * [Data analysis in Python with Pandas - filmy](https://www.youtube.com/playlist?list=PL5-da3qGB5ICCsgW1MxlZ0Hq8LL5U3u9y)\n",
    "   * [Dokumentacja Pandas]()\n",
    "   * [Kurs na datacamp.com](https://www.datacamp.com/community/tutorials/pandas-tutorial-dataframe-python)"
   ]
  }
 ],
 "metadata": {
  "celltoolbar": "Slideshow",
  "kernelspec": {
   "display_name": "da_vinci_venv",
   "language": "python",
   "name": "da_vinci_venv"
  },
  "language_info": {
   "codemirror_mode": {
    "name": "ipython",
    "version": 3
   },
   "file_extension": ".py",
   "mimetype": "text/x-python",
   "name": "python",
   "nbconvert_exporter": "python",
   "pygments_lexer": "ipython3",
   "version": "3.7.6rc1"
  }
 },
 "nbformat": 4,
 "nbformat_minor": 4
}
